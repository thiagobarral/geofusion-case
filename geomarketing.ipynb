{
  "nbformat": 4,
  "nbformat_minor": 0,
  "metadata": {
    "colab": {
      "provenance": [],
      "toc_visible": true,
      "authorship_tag": "ABX9TyMOLve2xrj0JSPMXg/5VSqV",
      "include_colab_link": true
    },
    "kernelspec": {
      "name": "python3",
      "display_name": "Python 3"
    },
    "language_info": {
      "name": "python"
    },
    "widgets": {
      "application/vnd.jupyter.widget-state+json": {
        "ee1037336bf641e39a855b530383c77f": {
          "model_module": "@jupyter-widgets/controls",
          "model_name": "HBoxModel",
          "model_module_version": "1.5.0",
          "state": {
            "_dom_classes": [],
            "_model_module": "@jupyter-widgets/controls",
            "_model_module_version": "1.5.0",
            "_model_name": "HBoxModel",
            "_view_count": null,
            "_view_module": "@jupyter-widgets/controls",
            "_view_module_version": "1.5.0",
            "_view_name": "HBoxView",
            "box_style": "",
            "children": [
              "IPY_MODEL_e9371aff1d4b460fa9b3bb4f51149354",
              "IPY_MODEL_8a398358be3c4384812dda5399a0ee0b",
              "IPY_MODEL_0ec4697884314cd69c1217037248af16"
            ],
            "layout": "IPY_MODEL_75f4bfd9a4594d7c953295edd28effb4"
          }
        },
        "e9371aff1d4b460fa9b3bb4f51149354": {
          "model_module": "@jupyter-widgets/controls",
          "model_name": "HTMLModel",
          "model_module_version": "1.5.0",
          "state": {
            "_dom_classes": [],
            "_model_module": "@jupyter-widgets/controls",
            "_model_module_version": "1.5.0",
            "_model_name": "HTMLModel",
            "_view_count": null,
            "_view_module": "@jupyter-widgets/controls",
            "_view_module_version": "1.5.0",
            "_view_name": "HTMLView",
            "description": "",
            "description_tooltip": null,
            "layout": "IPY_MODEL_d24a8515cbde4b508da45696ac5781e0",
            "placeholder": "​",
            "style": "IPY_MODEL_85aef762d9e84890b5a688150fb16ad9",
            "value": "Done! Use &#x27;show&#x27; commands to display/save.   "
          }
        },
        "8a398358be3c4384812dda5399a0ee0b": {
          "model_module": "@jupyter-widgets/controls",
          "model_name": "FloatProgressModel",
          "model_module_version": "1.5.0",
          "state": {
            "_dom_classes": [],
            "_model_module": "@jupyter-widgets/controls",
            "_model_module_version": "1.5.0",
            "_model_name": "FloatProgressModel",
            "_view_count": null,
            "_view_module": "@jupyter-widgets/controls",
            "_view_module_version": "1.5.0",
            "_view_name": "ProgressView",
            "bar_style": "success",
            "description": "",
            "description_tooltip": null,
            "layout": "IPY_MODEL_ea248d03703743a08e26eb96feac1445",
            "max": 1,
            "min": 0,
            "orientation": "horizontal",
            "style": "IPY_MODEL_28853401c12e439d9feab03bb179acd1",
            "value": 1
          }
        },
        "0ec4697884314cd69c1217037248af16": {
          "model_module": "@jupyter-widgets/controls",
          "model_name": "HTMLModel",
          "model_module_version": "1.5.0",
          "state": {
            "_dom_classes": [],
            "_model_module": "@jupyter-widgets/controls",
            "_model_module_version": "1.5.0",
            "_model_name": "HTMLModel",
            "_view_count": null,
            "_view_module": "@jupyter-widgets/controls",
            "_view_module_version": "1.5.0",
            "_view_name": "HTMLView",
            "description": "",
            "description_tooltip": null,
            "layout": "IPY_MODEL_8eab0994c4e74c8da915d05bced7ef4e",
            "placeholder": "​",
            "style": "IPY_MODEL_25aa85b8ffd34778b077051ddb9e8d52",
            "value": " [100%]   00:05 -&gt; (00:00 left)"
          }
        },
        "75f4bfd9a4594d7c953295edd28effb4": {
          "model_module": "@jupyter-widgets/base",
          "model_name": "LayoutModel",
          "model_module_version": "1.2.0",
          "state": {
            "_model_module": "@jupyter-widgets/base",
            "_model_module_version": "1.2.0",
            "_model_name": "LayoutModel",
            "_view_count": null,
            "_view_module": "@jupyter-widgets/base",
            "_view_module_version": "1.2.0",
            "_view_name": "LayoutView",
            "align_content": null,
            "align_items": null,
            "align_self": null,
            "border": null,
            "bottom": null,
            "display": "inline-flex",
            "flex": null,
            "flex_flow": "row wrap",
            "grid_area": null,
            "grid_auto_columns": null,
            "grid_auto_flow": null,
            "grid_auto_rows": null,
            "grid_column": null,
            "grid_gap": null,
            "grid_row": null,
            "grid_template_areas": null,
            "grid_template_columns": null,
            "grid_template_rows": null,
            "height": null,
            "justify_content": null,
            "justify_items": null,
            "left": null,
            "margin": null,
            "max_height": null,
            "max_width": null,
            "min_height": null,
            "min_width": null,
            "object_fit": null,
            "object_position": null,
            "order": null,
            "overflow": null,
            "overflow_x": null,
            "overflow_y": null,
            "padding": null,
            "right": null,
            "top": null,
            "visibility": null,
            "width": "100%"
          }
        },
        "d24a8515cbde4b508da45696ac5781e0": {
          "model_module": "@jupyter-widgets/base",
          "model_name": "LayoutModel",
          "model_module_version": "1.2.0",
          "state": {
            "_model_module": "@jupyter-widgets/base",
            "_model_module_version": "1.2.0",
            "_model_name": "LayoutModel",
            "_view_count": null,
            "_view_module": "@jupyter-widgets/base",
            "_view_module_version": "1.2.0",
            "_view_name": "LayoutView",
            "align_content": null,
            "align_items": null,
            "align_self": null,
            "border": null,
            "bottom": null,
            "display": null,
            "flex": null,
            "flex_flow": null,
            "grid_area": null,
            "grid_auto_columns": null,
            "grid_auto_flow": null,
            "grid_auto_rows": null,
            "grid_column": null,
            "grid_gap": null,
            "grid_row": null,
            "grid_template_areas": null,
            "grid_template_columns": null,
            "grid_template_rows": null,
            "height": null,
            "justify_content": null,
            "justify_items": null,
            "left": null,
            "margin": null,
            "max_height": null,
            "max_width": null,
            "min_height": null,
            "min_width": null,
            "object_fit": null,
            "object_position": null,
            "order": null,
            "overflow": null,
            "overflow_x": null,
            "overflow_y": null,
            "padding": null,
            "right": null,
            "top": null,
            "visibility": null,
            "width": null
          }
        },
        "85aef762d9e84890b5a688150fb16ad9": {
          "model_module": "@jupyter-widgets/controls",
          "model_name": "DescriptionStyleModel",
          "model_module_version": "1.5.0",
          "state": {
            "_model_module": "@jupyter-widgets/controls",
            "_model_module_version": "1.5.0",
            "_model_name": "DescriptionStyleModel",
            "_view_count": null,
            "_view_module": "@jupyter-widgets/base",
            "_view_module_version": "1.2.0",
            "_view_name": "StyleView",
            "description_width": ""
          }
        },
        "ea248d03703743a08e26eb96feac1445": {
          "model_module": "@jupyter-widgets/base",
          "model_name": "LayoutModel",
          "model_module_version": "1.2.0",
          "state": {
            "_model_module": "@jupyter-widgets/base",
            "_model_module_version": "1.2.0",
            "_model_name": "LayoutModel",
            "_view_count": null,
            "_view_module": "@jupyter-widgets/base",
            "_view_module_version": "1.2.0",
            "_view_name": "LayoutView",
            "align_content": null,
            "align_items": null,
            "align_self": null,
            "border": null,
            "bottom": null,
            "display": null,
            "flex": "2",
            "flex_flow": null,
            "grid_area": null,
            "grid_auto_columns": null,
            "grid_auto_flow": null,
            "grid_auto_rows": null,
            "grid_column": null,
            "grid_gap": null,
            "grid_row": null,
            "grid_template_areas": null,
            "grid_template_columns": null,
            "grid_template_rows": null,
            "height": null,
            "justify_content": null,
            "justify_items": null,
            "left": null,
            "margin": null,
            "max_height": null,
            "max_width": null,
            "min_height": null,
            "min_width": null,
            "object_fit": null,
            "object_position": null,
            "order": null,
            "overflow": null,
            "overflow_x": null,
            "overflow_y": null,
            "padding": null,
            "right": null,
            "top": null,
            "visibility": null,
            "width": null
          }
        },
        "28853401c12e439d9feab03bb179acd1": {
          "model_module": "@jupyter-widgets/controls",
          "model_name": "ProgressStyleModel",
          "model_module_version": "1.5.0",
          "state": {
            "_model_module": "@jupyter-widgets/controls",
            "_model_module_version": "1.5.0",
            "_model_name": "ProgressStyleModel",
            "_view_count": null,
            "_view_module": "@jupyter-widgets/base",
            "_view_module_version": "1.2.0",
            "_view_name": "StyleView",
            "bar_color": null,
            "description_width": ""
          }
        },
        "8eab0994c4e74c8da915d05bced7ef4e": {
          "model_module": "@jupyter-widgets/base",
          "model_name": "LayoutModel",
          "model_module_version": "1.2.0",
          "state": {
            "_model_module": "@jupyter-widgets/base",
            "_model_module_version": "1.2.0",
            "_model_name": "LayoutModel",
            "_view_count": null,
            "_view_module": "@jupyter-widgets/base",
            "_view_module_version": "1.2.0",
            "_view_name": "LayoutView",
            "align_content": null,
            "align_items": null,
            "align_self": null,
            "border": null,
            "bottom": null,
            "display": null,
            "flex": null,
            "flex_flow": null,
            "grid_area": null,
            "grid_auto_columns": null,
            "grid_auto_flow": null,
            "grid_auto_rows": null,
            "grid_column": null,
            "grid_gap": null,
            "grid_row": null,
            "grid_template_areas": null,
            "grid_template_columns": null,
            "grid_template_rows": null,
            "height": null,
            "justify_content": null,
            "justify_items": null,
            "left": null,
            "margin": null,
            "max_height": null,
            "max_width": null,
            "min_height": null,
            "min_width": null,
            "object_fit": null,
            "object_position": null,
            "order": null,
            "overflow": null,
            "overflow_x": null,
            "overflow_y": null,
            "padding": null,
            "right": null,
            "top": null,
            "visibility": null,
            "width": null
          }
        },
        "25aa85b8ffd34778b077051ddb9e8d52": {
          "model_module": "@jupyter-widgets/controls",
          "model_name": "DescriptionStyleModel",
          "model_module_version": "1.5.0",
          "state": {
            "_model_module": "@jupyter-widgets/controls",
            "_model_module_version": "1.5.0",
            "_model_name": "DescriptionStyleModel",
            "_view_count": null,
            "_view_module": "@jupyter-widgets/base",
            "_view_module_version": "1.2.0",
            "_view_name": "StyleView",
            "description_width": ""
          }
        }
      }
    }
  },
  "cells": [
    {
      "cell_type": "markdown",
      "metadata": {
        "id": "view-in-github",
        "colab_type": "text"
      },
      "source": [
        "<a href=\"https://colab.research.google.com/github/thiagobarral/geomarketing/blob/main/geomarketing.ipynb\" target=\"_parent\"><img src=\"https://colab.research.google.com/assets/colab-badge.svg\" alt=\"Open In Colab\"/></a>"
      ]
    },
    {
      "cell_type": "markdown",
      "source": [
        "# Instalando e importando as bibliotecas"
      ],
      "metadata": {
        "id": "jqh8r7ZDbeeq"
      }
    },
    {
      "cell_type": "code",
      "source": [
        "!pip install sweetviz\n",
        "!pip install verstack"
      ],
      "metadata": {
        "colab": {
          "base_uri": "https://localhost:8080/"
        },
        "id": "rAug2plhFq6K",
        "outputId": "49e0d1c5-147b-4ad4-e19f-8b336d54e70e"
      },
      "execution_count": 1,
      "outputs": [
        {
          "output_type": "stream",
          "name": "stdout",
          "text": [
            "Collecting sweetviz\n",
            "  Downloading sweetviz-2.1.4-py3-none-any.whl (15.1 MB)\n",
            "\u001b[2K     \u001b[90m━━━━━━━━━━━━━━━━━━━━━━━━━━━━━━━━━━━━━━━━\u001b[0m \u001b[32m15.1/15.1 MB\u001b[0m \u001b[31m69.2 MB/s\u001b[0m eta \u001b[36m0:00:00\u001b[0m\n",
            "\u001b[?25hRequirement already satisfied: pandas!=1.0.0,!=1.0.1,!=1.0.2,>=0.25.3 in /usr/local/lib/python3.10/dist-packages (from sweetviz) (1.5.3)\n",
            "Requirement already satisfied: numpy>=1.16.0 in /usr/local/lib/python3.10/dist-packages (from sweetviz) (1.22.4)\n",
            "Requirement already satisfied: matplotlib>=3.1.3 in /usr/local/lib/python3.10/dist-packages (from sweetviz) (3.7.1)\n",
            "Requirement already satisfied: tqdm>=4.43.0 in /usr/local/lib/python3.10/dist-packages (from sweetviz) (4.65.0)\n",
            "Requirement already satisfied: scipy>=1.3.2 in /usr/local/lib/python3.10/dist-packages (from sweetviz) (1.10.1)\n",
            "Requirement already satisfied: jinja2>=2.11.1 in /usr/local/lib/python3.10/dist-packages (from sweetviz) (3.1.2)\n",
            "Requirement already satisfied: importlib-resources>=1.2.0 in /usr/local/lib/python3.10/dist-packages (from sweetviz) (5.12.0)\n",
            "Requirement already satisfied: MarkupSafe>=2.0 in /usr/local/lib/python3.10/dist-packages (from jinja2>=2.11.1->sweetviz) (2.1.3)\n",
            "Requirement already satisfied: contourpy>=1.0.1 in /usr/local/lib/python3.10/dist-packages (from matplotlib>=3.1.3->sweetviz) (1.1.0)\n",
            "Requirement already satisfied: cycler>=0.10 in /usr/local/lib/python3.10/dist-packages (from matplotlib>=3.1.3->sweetviz) (0.11.0)\n",
            "Requirement already satisfied: fonttools>=4.22.0 in /usr/local/lib/python3.10/dist-packages (from matplotlib>=3.1.3->sweetviz) (4.40.0)\n",
            "Requirement already satisfied: kiwisolver>=1.0.1 in /usr/local/lib/python3.10/dist-packages (from matplotlib>=3.1.3->sweetviz) (1.4.4)\n",
            "Requirement already satisfied: packaging>=20.0 in /usr/local/lib/python3.10/dist-packages (from matplotlib>=3.1.3->sweetviz) (23.1)\n",
            "Requirement already satisfied: pillow>=6.2.0 in /usr/local/lib/python3.10/dist-packages (from matplotlib>=3.1.3->sweetviz) (8.4.0)\n",
            "Requirement already satisfied: pyparsing>=2.3.1 in /usr/local/lib/python3.10/dist-packages (from matplotlib>=3.1.3->sweetviz) (3.1.0)\n",
            "Requirement already satisfied: python-dateutil>=2.7 in /usr/local/lib/python3.10/dist-packages (from matplotlib>=3.1.3->sweetviz) (2.8.2)\n",
            "Requirement already satisfied: pytz>=2020.1 in /usr/local/lib/python3.10/dist-packages (from pandas!=1.0.0,!=1.0.1,!=1.0.2,>=0.25.3->sweetviz) (2022.7.1)\n",
            "Requirement already satisfied: six>=1.5 in /usr/local/lib/python3.10/dist-packages (from python-dateutil>=2.7->matplotlib>=3.1.3->sweetviz) (1.16.0)\n",
            "Installing collected packages: sweetviz\n",
            "Successfully installed sweetviz-2.1.4\n",
            "Collecting verstack\n",
            "  Downloading verstack-3.8.8.tar.gz (10.1 MB)\n",
            "\u001b[2K     \u001b[90m━━━━━━━━━━━━━━━━━━━━━━━━━━━━━━━━━━━━━━━━\u001b[0m \u001b[32m10.1/10.1 MB\u001b[0m \u001b[31m21.6 MB/s\u001b[0m eta \u001b[36m0:00:00\u001b[0m\n",
            "\u001b[?25h  Preparing metadata (setup.py) ... \u001b[?25l\u001b[?25hdone\n",
            "Requirement already satisfied: pandas in /usr/local/lib/python3.10/dist-packages (from verstack) (1.5.3)\n",
            "Requirement already satisfied: numpy in /usr/local/lib/python3.10/dist-packages (from verstack) (1.22.4)\n",
            "Requirement already satisfied: xgboost in /usr/local/lib/python3.10/dist-packages (from verstack) (1.7.6)\n",
            "Requirement already satisfied: lightgbm<=3.3.5,>=3.3.0 in /usr/local/lib/python3.10/dist-packages (from verstack) (3.3.5)\n",
            "Collecting scikit-learn<=1.1.3,>=0.23.2 (from verstack)\n",
            "  Downloading scikit_learn-1.1.3-cp310-cp310-manylinux_2_17_x86_64.manylinux2014_x86_64.whl (30.5 MB)\n",
            "\u001b[2K     \u001b[90m━━━━━━━━━━━━━━━━━━━━━━━━━━━━━━━━━━━━━━━━\u001b[0m \u001b[32m30.5/30.5 MB\u001b[0m \u001b[31m11.9 MB/s\u001b[0m eta \u001b[36m0:00:00\u001b[0m\n",
            "\u001b[?25hCollecting optuna<=3.0.4,>=2.10.0 (from verstack)\n",
            "  Downloading optuna-3.0.4-py3-none-any.whl (348 kB)\n",
            "\u001b[2K     \u001b[90m━━━━━━━━━━━━━━━━━━━━━━━━━━━━━━━━━━━━━━\u001b[0m \u001b[32m348.5/348.5 kB\u001b[0m \u001b[31m14.3 MB/s\u001b[0m eta \u001b[36m0:00:00\u001b[0m\n",
            "\u001b[?25hCollecting plotly<=5.11.0,>=5.3.1 (from verstack)\n",
            "  Downloading plotly-5.11.0-py2.py3-none-any.whl (15.3 MB)\n",
            "\u001b[2K     \u001b[90m━━━━━━━━━━━━━━━━━━━━━━━━━━━━━━━━━━━━━━━━\u001b[0m \u001b[32m15.3/15.3 MB\u001b[0m \u001b[31m50.9 MB/s\u001b[0m eta \u001b[36m0:00:00\u001b[0m\n",
            "\u001b[?25hRequirement already satisfied: matplotlib in /usr/local/lib/python3.10/dist-packages (from verstack) (3.7.1)\n",
            "Requirement already satisfied: python-dateutil<=2.8.2,>=2.8.1 in /usr/local/lib/python3.10/dist-packages (from verstack) (2.8.2)\n",
            "Collecting holidays==0.11.3.1 (from verstack)\n",
            "  Downloading holidays-0.11.3.1-py3-none-any.whl (155 kB)\n",
            "\u001b[2K     \u001b[90m━━━━━━━━━━━━━━━━━━━━━━━━━━━━━━━━━━━━━━\u001b[0m \u001b[32m155.7/155.7 kB\u001b[0m \u001b[31m14.4 MB/s\u001b[0m eta \u001b[36m0:00:00\u001b[0m\n",
            "\u001b[?25hRequirement already satisfied: mlxtend in /usr/local/lib/python3.10/dist-packages (from verstack) (0.14.0)\n",
            "Requirement already satisfied: tensorflow<=2.14,>=2.6.0 in /usr/local/lib/python3.10/dist-packages (from verstack) (2.12.0)\n",
            "Requirement already satisfied: keras<=2.14,>=2.6.0 in /usr/local/lib/python3.10/dist-packages (from verstack) (2.12.0)\n",
            "Collecting category_encoders<=2.5.1,>=2.4.0 (from verstack)\n",
            "  Downloading category_encoders-2.5.1-py2.py3-none-any.whl (71 kB)\n",
            "\u001b[2K     \u001b[90m━━━━━━━━━━━━━━━━━━━━━━━━━━━━━━━━━━━━━━━━\u001b[0m \u001b[32m71.3/71.3 kB\u001b[0m \u001b[31m5.0 MB/s\u001b[0m eta \u001b[36m0:00:00\u001b[0m\n",
            "\u001b[?25hRequirement already satisfied: convertdate>=2.3.0 in /usr/local/lib/python3.10/dist-packages (from holidays==0.11.3.1->verstack) (2.4.0)\n",
            "Collecting hijri-converter (from holidays==0.11.3.1->verstack)\n",
            "  Downloading hijri_converter-2.3.1-py3-none-any.whl (13 kB)\n",
            "Collecting korean-lunar-calendar (from holidays==0.11.3.1->verstack)\n",
            "  Downloading korean_lunar_calendar-0.3.1-py3-none-any.whl (9.0 kB)\n",
            "Requirement already satisfied: scipy>=1.0.0 in /usr/local/lib/python3.10/dist-packages (from category_encoders<=2.5.1,>=2.4.0->verstack) (1.10.1)\n",
            "Requirement already satisfied: statsmodels>=0.9.0 in /usr/local/lib/python3.10/dist-packages (from category_encoders<=2.5.1,>=2.4.0->verstack) (0.13.5)\n",
            "Requirement already satisfied: patsy>=0.5.1 in /usr/local/lib/python3.10/dist-packages (from category_encoders<=2.5.1,>=2.4.0->verstack) (0.5.3)\n",
            "Requirement already satisfied: wheel in /usr/local/lib/python3.10/dist-packages (from lightgbm<=3.3.5,>=3.3.0->verstack) (0.40.0)\n",
            "Collecting alembic>=1.5.0 (from optuna<=3.0.4,>=2.10.0->verstack)\n",
            "  Downloading alembic-1.11.1-py3-none-any.whl (224 kB)\n",
            "\u001b[2K     \u001b[90m━━━━━━━━━━━━━━━━━━━━━━━━━━━━━━━━━━━━━━\u001b[0m \u001b[32m224.5/224.5 kB\u001b[0m \u001b[31m19.2 MB/s\u001b[0m eta \u001b[36m0:00:00\u001b[0m\n",
            "\u001b[?25hCollecting cliff (from optuna<=3.0.4,>=2.10.0->verstack)\n",
            "  Downloading cliff-4.3.0-py3-none-any.whl (80 kB)\n",
            "\u001b[2K     \u001b[90m━━━━━━━━━━━━━━━━━━━━━━━━━━━━━━━━━━━━━━━━\u001b[0m \u001b[32m80.6/80.6 kB\u001b[0m \u001b[31m8.4 MB/s\u001b[0m eta \u001b[36m0:00:00\u001b[0m\n",
            "\u001b[?25hCollecting cmaes>=0.8.2 (from optuna<=3.0.4,>=2.10.0->verstack)\n",
            "  Downloading cmaes-0.9.1-py3-none-any.whl (21 kB)\n",
            "Collecting colorlog (from optuna<=3.0.4,>=2.10.0->verstack)\n",
            "  Downloading colorlog-6.7.0-py2.py3-none-any.whl (11 kB)\n",
            "Collecting importlib-metadata<5.0.0 (from optuna<=3.0.4,>=2.10.0->verstack)\n",
            "  Downloading importlib_metadata-4.13.0-py3-none-any.whl (23 kB)\n",
            "Requirement already satisfied: packaging>=20.0 in /usr/local/lib/python3.10/dist-packages (from optuna<=3.0.4,>=2.10.0->verstack) (23.1)\n",
            "Collecting scipy>=1.0.0 (from category_encoders<=2.5.1,>=2.4.0->verstack)\n",
            "  Downloading scipy-1.8.1-cp310-cp310-manylinux_2_17_x86_64.manylinux2014_x86_64.whl (42.2 MB)\n",
            "\u001b[2K     \u001b[90m━━━━━━━━━━━━━━━━━━━━━━━━━━━━━━━━━━━━━━━━\u001b[0m \u001b[32m42.2/42.2 MB\u001b[0m \u001b[31m15.7 MB/s\u001b[0m eta \u001b[36m0:00:00\u001b[0m\n",
            "\u001b[?25hRequirement already satisfied: sqlalchemy>=1.3.0 in /usr/local/lib/python3.10/dist-packages (from optuna<=3.0.4,>=2.10.0->verstack) (2.0.16)\n",
            "Requirement already satisfied: tqdm in /usr/local/lib/python3.10/dist-packages (from optuna<=3.0.4,>=2.10.0->verstack) (4.65.0)\n",
            "Requirement already satisfied: PyYAML in /usr/local/lib/python3.10/dist-packages (from optuna<=3.0.4,>=2.10.0->verstack) (6.0)\n",
            "Requirement already satisfied: pytz>=2020.1 in /usr/local/lib/python3.10/dist-packages (from pandas->verstack) (2022.7.1)\n",
            "Requirement already satisfied: tenacity>=6.2.0 in /usr/local/lib/python3.10/dist-packages (from plotly<=5.11.0,>=5.3.1->verstack) (8.2.2)\n",
            "Requirement already satisfied: six>=1.5 in /usr/local/lib/python3.10/dist-packages (from python-dateutil<=2.8.2,>=2.8.1->verstack) (1.16.0)\n",
            "Requirement already satisfied: joblib>=1.0.0 in /usr/local/lib/python3.10/dist-packages (from scikit-learn<=1.1.3,>=0.23.2->verstack) (1.2.0)\n",
            "Requirement already satisfied: threadpoolctl>=2.0.0 in /usr/local/lib/python3.10/dist-packages (from scikit-learn<=1.1.3,>=0.23.2->verstack) (3.1.0)\n",
            "Requirement already satisfied: absl-py>=1.0.0 in /usr/local/lib/python3.10/dist-packages (from tensorflow<=2.14,>=2.6.0->verstack) (1.4.0)\n",
            "Requirement already satisfied: astunparse>=1.6.0 in /usr/local/lib/python3.10/dist-packages (from tensorflow<=2.14,>=2.6.0->verstack) (1.6.3)\n",
            "Requirement already satisfied: flatbuffers>=2.0 in /usr/local/lib/python3.10/dist-packages (from tensorflow<=2.14,>=2.6.0->verstack) (23.5.26)\n",
            "Requirement already satisfied: gast<=0.4.0,>=0.2.1 in /usr/local/lib/python3.10/dist-packages (from tensorflow<=2.14,>=2.6.0->verstack) (0.4.0)\n",
            "Requirement already satisfied: google-pasta>=0.1.1 in /usr/local/lib/python3.10/dist-packages (from tensorflow<=2.14,>=2.6.0->verstack) (0.2.0)\n",
            "Requirement already satisfied: grpcio<2.0,>=1.24.3 in /usr/local/lib/python3.10/dist-packages (from tensorflow<=2.14,>=2.6.0->verstack) (1.56.0)\n",
            "Requirement already satisfied: h5py>=2.9.0 in /usr/local/lib/python3.10/dist-packages (from tensorflow<=2.14,>=2.6.0->verstack) (3.8.0)\n",
            "Requirement already satisfied: jax>=0.3.15 in /usr/local/lib/python3.10/dist-packages (from tensorflow<=2.14,>=2.6.0->verstack) (0.4.10)\n",
            "Requirement already satisfied: libclang>=13.0.0 in /usr/local/lib/python3.10/dist-packages (from tensorflow<=2.14,>=2.6.0->verstack) (16.0.0)\n",
            "Requirement already satisfied: opt-einsum>=2.3.2 in /usr/local/lib/python3.10/dist-packages (from tensorflow<=2.14,>=2.6.0->verstack) (3.3.0)\n",
            "Requirement already satisfied: protobuf!=4.21.0,!=4.21.1,!=4.21.2,!=4.21.3,!=4.21.4,!=4.21.5,<5.0.0dev,>=3.20.3 in /usr/local/lib/python3.10/dist-packages (from tensorflow<=2.14,>=2.6.0->verstack) (3.20.3)\n",
            "Requirement already satisfied: setuptools in /usr/local/lib/python3.10/dist-packages (from tensorflow<=2.14,>=2.6.0->verstack) (67.7.2)\n",
            "Requirement already satisfied: tensorboard<2.13,>=2.12 in /usr/local/lib/python3.10/dist-packages (from tensorflow<=2.14,>=2.6.0->verstack) (2.12.3)\n",
            "Requirement already satisfied: tensorflow-estimator<2.13,>=2.12.0 in /usr/local/lib/python3.10/dist-packages (from tensorflow<=2.14,>=2.6.0->verstack) (2.12.0)\n",
            "Requirement already satisfied: termcolor>=1.1.0 in /usr/local/lib/python3.10/dist-packages (from tensorflow<=2.14,>=2.6.0->verstack) (2.3.0)\n",
            "Requirement already satisfied: typing-extensions>=3.6.6 in /usr/local/lib/python3.10/dist-packages (from tensorflow<=2.14,>=2.6.0->verstack) (4.6.3)\n",
            "Requirement already satisfied: wrapt<1.15,>=1.11.0 in /usr/local/lib/python3.10/dist-packages (from tensorflow<=2.14,>=2.6.0->verstack) (1.14.1)\n",
            "Requirement already satisfied: tensorflow-io-gcs-filesystem>=0.23.1 in /usr/local/lib/python3.10/dist-packages (from tensorflow<=2.14,>=2.6.0->verstack) (0.32.0)\n",
            "Requirement already satisfied: contourpy>=1.0.1 in /usr/local/lib/python3.10/dist-packages (from matplotlib->verstack) (1.1.0)\n",
            "Requirement already satisfied: cycler>=0.10 in /usr/local/lib/python3.10/dist-packages (from matplotlib->verstack) (0.11.0)\n",
            "Requirement already satisfied: fonttools>=4.22.0 in /usr/local/lib/python3.10/dist-packages (from matplotlib->verstack) (4.40.0)\n",
            "Requirement already satisfied: kiwisolver>=1.0.1 in /usr/local/lib/python3.10/dist-packages (from matplotlib->verstack) (1.4.4)\n",
            "Requirement already satisfied: pillow>=6.2.0 in /usr/local/lib/python3.10/dist-packages (from matplotlib->verstack) (8.4.0)\n",
            "Requirement already satisfied: pyparsing>=2.3.1 in /usr/local/lib/python3.10/dist-packages (from matplotlib->verstack) (3.1.0)\n",
            "Collecting Mako (from alembic>=1.5.0->optuna<=3.0.4,>=2.10.0->verstack)\n",
            "  Downloading Mako-1.2.4-py3-none-any.whl (78 kB)\n",
            "\u001b[2K     \u001b[90m━━━━━━━━━━━━━━━━━━━━━━━━━━━━━━━━━━━━━━━━\u001b[0m \u001b[32m78.7/78.7 kB\u001b[0m \u001b[31m6.8 MB/s\u001b[0m eta \u001b[36m0:00:00\u001b[0m\n",
            "\u001b[?25hRequirement already satisfied: pymeeus<=1,>=0.3.13 in /usr/local/lib/python3.10/dist-packages (from convertdate>=2.3.0->holidays==0.11.3.1->verstack) (0.5.12)\n",
            "Requirement already satisfied: zipp>=0.5 in /usr/local/lib/python3.10/dist-packages (from importlib-metadata<5.0.0->optuna<=3.0.4,>=2.10.0->verstack) (3.15.0)\n",
            "Requirement already satisfied: ml-dtypes>=0.1.0 in /usr/local/lib/python3.10/dist-packages (from jax>=0.3.15->tensorflow<=2.14,>=2.6.0->verstack) (0.2.0)\n",
            "Requirement already satisfied: greenlet!=0.4.17 in /usr/local/lib/python3.10/dist-packages (from sqlalchemy>=1.3.0->optuna<=3.0.4,>=2.10.0->verstack) (2.0.2)\n",
            "Requirement already satisfied: google-auth<3,>=1.6.3 in /usr/local/lib/python3.10/dist-packages (from tensorboard<2.13,>=2.12->tensorflow<=2.14,>=2.6.0->verstack) (2.17.3)\n",
            "Requirement already satisfied: google-auth-oauthlib<1.1,>=0.5 in /usr/local/lib/python3.10/dist-packages (from tensorboard<2.13,>=2.12->tensorflow<=2.14,>=2.6.0->verstack) (1.0.0)\n",
            "Requirement already satisfied: markdown>=2.6.8 in /usr/local/lib/python3.10/dist-packages (from tensorboard<2.13,>=2.12->tensorflow<=2.14,>=2.6.0->verstack) (3.4.3)\n",
            "Requirement already satisfied: requests<3,>=2.21.0 in /usr/local/lib/python3.10/dist-packages (from tensorboard<2.13,>=2.12->tensorflow<=2.14,>=2.6.0->verstack) (2.27.1)\n",
            "Requirement already satisfied: tensorboard-data-server<0.8.0,>=0.7.0 in /usr/local/lib/python3.10/dist-packages (from tensorboard<2.13,>=2.12->tensorflow<=2.14,>=2.6.0->verstack) (0.7.1)\n",
            "Requirement already satisfied: werkzeug>=1.0.1 in /usr/local/lib/python3.10/dist-packages (from tensorboard<2.13,>=2.12->tensorflow<=2.14,>=2.6.0->verstack) (2.3.6)\n",
            "Requirement already satisfied: PrettyTable>=0.7.2 in /usr/local/lib/python3.10/dist-packages (from cliff->optuna<=3.0.4,>=2.10.0->verstack) (0.7.2)\n",
            "Collecting autopage>=0.4.0 (from cliff->optuna<=3.0.4,>=2.10.0->verstack)\n",
            "  Downloading autopage-0.5.1-py3-none-any.whl (29 kB)\n",
            "Collecting cmd2>=1.0.0 (from cliff->optuna<=3.0.4,>=2.10.0->verstack)\n",
            "  Downloading cmd2-2.4.3-py3-none-any.whl (147 kB)\n",
            "\u001b[2K     \u001b[90m━━━━━━━━━━━━━━━━━━━━━━━━━━━━━━━━━━━━━━\u001b[0m \u001b[32m147.2/147.2 kB\u001b[0m \u001b[31m14.1 MB/s\u001b[0m eta \u001b[36m0:00:00\u001b[0m\n",
            "\u001b[?25hCollecting stevedore>=2.0.1 (from cliff->optuna<=3.0.4,>=2.10.0->verstack)\n",
            "  Downloading stevedore-5.1.0-py3-none-any.whl (49 kB)\n",
            "\u001b[2K     \u001b[90m━━━━━━━━━━━━━━━━━━━━━━━━━━━━━━━━━━━━━━━━\u001b[0m \u001b[32m49.6/49.6 kB\u001b[0m \u001b[31m4.8 MB/s\u001b[0m eta \u001b[36m0:00:00\u001b[0m\n",
            "\u001b[?25hRequirement already satisfied: attrs>=16.3.0 in /usr/local/lib/python3.10/dist-packages (from cmd2>=1.0.0->cliff->optuna<=3.0.4,>=2.10.0->verstack) (23.1.0)\n",
            "Collecting pyperclip>=1.6 (from cmd2>=1.0.0->cliff->optuna<=3.0.4,>=2.10.0->verstack)\n",
            "  Downloading pyperclip-1.8.2.tar.gz (20 kB)\n",
            "  Preparing metadata (setup.py) ... \u001b[?25l\u001b[?25hdone\n",
            "Requirement already satisfied: wcwidth>=0.1.7 in /usr/local/lib/python3.10/dist-packages (from cmd2>=1.0.0->cliff->optuna<=3.0.4,>=2.10.0->verstack) (0.2.6)\n",
            "Requirement already satisfied: cachetools<6.0,>=2.0.0 in /usr/local/lib/python3.10/dist-packages (from google-auth<3,>=1.6.3->tensorboard<2.13,>=2.12->tensorflow<=2.14,>=2.6.0->verstack) (5.3.1)\n",
            "Requirement already satisfied: pyasn1-modules>=0.2.1 in /usr/local/lib/python3.10/dist-packages (from google-auth<3,>=1.6.3->tensorboard<2.13,>=2.12->tensorflow<=2.14,>=2.6.0->verstack) (0.3.0)\n",
            "Requirement already satisfied: rsa<5,>=3.1.4 in /usr/local/lib/python3.10/dist-packages (from google-auth<3,>=1.6.3->tensorboard<2.13,>=2.12->tensorflow<=2.14,>=2.6.0->verstack) (4.9)\n",
            "Requirement already satisfied: requests-oauthlib>=0.7.0 in /usr/local/lib/python3.10/dist-packages (from google-auth-oauthlib<1.1,>=0.5->tensorboard<2.13,>=2.12->tensorflow<=2.14,>=2.6.0->verstack) (1.3.1)\n",
            "Requirement already satisfied: urllib3<1.27,>=1.21.1 in /usr/local/lib/python3.10/dist-packages (from requests<3,>=2.21.0->tensorboard<2.13,>=2.12->tensorflow<=2.14,>=2.6.0->verstack) (1.26.16)\n",
            "Requirement already satisfied: certifi>=2017.4.17 in /usr/local/lib/python3.10/dist-packages (from requests<3,>=2.21.0->tensorboard<2.13,>=2.12->tensorflow<=2.14,>=2.6.0->verstack) (2023.5.7)\n",
            "Requirement already satisfied: charset-normalizer~=2.0.0 in /usr/local/lib/python3.10/dist-packages (from requests<3,>=2.21.0->tensorboard<2.13,>=2.12->tensorflow<=2.14,>=2.6.0->verstack) (2.0.12)\n",
            "Requirement already satisfied: idna<4,>=2.5 in /usr/local/lib/python3.10/dist-packages (from requests<3,>=2.21.0->tensorboard<2.13,>=2.12->tensorflow<=2.14,>=2.6.0->verstack) (3.4)\n",
            "Collecting pbr!=2.1.0,>=2.0.0 (from stevedore>=2.0.1->cliff->optuna<=3.0.4,>=2.10.0->verstack)\n",
            "  Downloading pbr-5.11.1-py2.py3-none-any.whl (112 kB)\n",
            "\u001b[2K     \u001b[90m━━━━━━━━━━━━━━━━━━━━━━━━━━━━━━━━━━━━━━\u001b[0m \u001b[32m112.7/112.7 kB\u001b[0m \u001b[31m11.6 MB/s\u001b[0m eta \u001b[36m0:00:00\u001b[0m\n",
            "\u001b[?25hRequirement already satisfied: MarkupSafe>=2.1.1 in /usr/local/lib/python3.10/dist-packages (from werkzeug>=1.0.1->tensorboard<2.13,>=2.12->tensorflow<=2.14,>=2.6.0->verstack) (2.1.3)\n",
            "Requirement already satisfied: pyasn1<0.6.0,>=0.4.6 in /usr/local/lib/python3.10/dist-packages (from pyasn1-modules>=0.2.1->google-auth<3,>=1.6.3->tensorboard<2.13,>=2.12->tensorflow<=2.14,>=2.6.0->verstack) (0.5.0)\n",
            "Requirement already satisfied: oauthlib>=3.0.0 in /usr/local/lib/python3.10/dist-packages (from requests-oauthlib>=0.7.0->google-auth-oauthlib<1.1,>=0.5->tensorboard<2.13,>=2.12->tensorflow<=2.14,>=2.6.0->verstack) (3.2.2)\n",
            "Building wheels for collected packages: verstack, pyperclip\n",
            "  Building wheel for verstack (setup.py) ... \u001b[?25l\u001b[?25hdone\n",
            "  Created wheel for verstack: filename=verstack-3.8.8-py3-none-any.whl size=80567 sha256=b2d6524c751fda21261f962a4b603c8d5b80d5dcb940cb266ac9a853c0c3a9cc\n",
            "  Stored in directory: /root/.cache/pip/wheels/8b/31/a1/b6ecea6c1b448a6a84bdee386a8b7dfae10e31b843dfdc6aa8\n",
            "  Building wheel for pyperclip (setup.py) ... \u001b[?25l\u001b[?25hdone\n",
            "  Created wheel for pyperclip: filename=pyperclip-1.8.2-py3-none-any.whl size=11124 sha256=804d66fd1688ebf57fe35f89a35abf07360c70726222adf6f4908b0f96e8a39e\n",
            "  Stored in directory: /root/.cache/pip/wheels/04/24/fe/140a94a7f1036003ede94579e6b4227fe96c840c6f4dcbe307\n",
            "Successfully built verstack pyperclip\n",
            "Installing collected packages: pyperclip, korean-lunar-calendar, scipy, plotly, pbr, Mako, importlib-metadata, hijri-converter, colorlog, cmd2, cmaes, autopage, stevedore, scikit-learn, holidays, alembic, cliff, optuna, category_encoders, verstack\n",
            "  Attempting uninstall: scipy\n",
            "    Found existing installation: scipy 1.10.1\n",
            "    Uninstalling scipy-1.10.1:\n",
            "      Successfully uninstalled scipy-1.10.1\n",
            "  Attempting uninstall: plotly\n",
            "    Found existing installation: plotly 5.13.1\n",
            "    Uninstalling plotly-5.13.1:\n",
            "      Successfully uninstalled plotly-5.13.1\n",
            "  Attempting uninstall: scikit-learn\n",
            "    Found existing installation: scikit-learn 1.2.2\n",
            "    Uninstalling scikit-learn-1.2.2:\n",
            "      Successfully uninstalled scikit-learn-1.2.2\n",
            "  Attempting uninstall: holidays\n",
            "    Found existing installation: holidays 0.27.1\n",
            "    Uninstalling holidays-0.27.1:\n",
            "      Successfully uninstalled holidays-0.27.1\n",
            "\u001b[31mERROR: pip's dependency resolver does not currently take into account all the packages that are installed. This behaviour is the source of the following dependency conflicts.\n",
            "prophet 1.1.4 requires holidays>=0.25, but you have holidays 0.11.3.1 which is incompatible.\u001b[0m\u001b[31m\n",
            "\u001b[0mSuccessfully installed Mako-1.2.4 alembic-1.11.1 autopage-0.5.1 category_encoders-2.5.1 cliff-4.3.0 cmaes-0.9.1 cmd2-2.4.3 colorlog-6.7.0 hijri-converter-2.3.1 holidays-0.11.3.1 importlib-metadata-4.13.0 korean-lunar-calendar-0.3.1 optuna-3.0.4 pbr-5.11.1 plotly-5.11.0 pyperclip-1.8.2 scikit-learn-1.1.3 scipy-1.8.1 stevedore-5.1.0 verstack-3.8.8\n"
          ]
        }
      ]
    },
    {
      "cell_type": "code",
      "execution_count": 2,
      "metadata": {
        "id": "JfhipyNvbElS"
      },
      "outputs": [],
      "source": [
        "import pandas as pd\n",
        "import numpy as np\n",
        "import matplotlib.pyplot as plt\n",
        "from matplotlib.pyplot import figure\n",
        "import seaborn as sns\n",
        "import sweetviz as sv\n",
        "from sklearn.linear_model import LinearRegression, LogisticRegression\n",
        "from sklearn.metrics import mean_squared_error, r2_score, classification_report, confusion_matrix, accuracy_score\n",
        "from sklearn.model_selection import train_test_split, RandomizedSearchCV\n",
        "from sklearn.tree import DecisionTreeRegressor\n",
        "from sklearn.ensemble import RandomForestClassifier\n",
        "from scipy.stats import expon as sp_expon\n",
        "from scipy.stats import randint as sp_randint\n",
        "from sklearn.svm import SVR, SVC\n",
        "from sklearn.naive_bayes import MultinomialNB\n",
        "from sklearn.neighbors import KNeighborsClassifier\n",
        "from sklearn.pipeline import make_pipeline\n",
        "from sklearn.preprocessing import StandardScaler\n",
        "from google.colab import drive\n",
        "from verstack import FeatureSelector"
      ]
    },
    {
      "cell_type": "code",
      "source": [
        "import warnings\n",
        "warnings.filterwarnings('ignore')"
      ],
      "metadata": {
        "id": "wrI5bfM1FU74"
      },
      "execution_count": 3,
      "outputs": []
    },
    {
      "cell_type": "markdown",
      "source": [
        "# Importando os dados"
      ],
      "metadata": {
        "id": "6YvSzas1bmtP"
      }
    },
    {
      "cell_type": "code",
      "source": [
        "drive.mount('/content/drive')"
      ],
      "metadata": {
        "id": "b8LfN68ibRjD",
        "colab": {
          "base_uri": "https://localhost:8080/"
        },
        "outputId": "beb3a420-854b-4974-e3db-79a3ca7c45b8"
      },
      "execution_count": 4,
      "outputs": [
        {
          "output_type": "stream",
          "name": "stdout",
          "text": [
            "Mounted at /content/drive\n"
          ]
        }
      ]
    },
    {
      "cell_type": "code",
      "source": [
        "!ls \"/content/drive/My Drive/geofusion_data\""
      ],
      "metadata": {
        "id": "xcTF_Ul6cVIX",
        "colab": {
          "base_uri": "https://localhost:8080/"
        },
        "outputId": "bf59d76c-9e2e-4671-c231-3cc1e651f1cb"
      },
      "execution_count": 5,
      "outputs": [
        {
          "output_type": "stream",
          "name": "stdout",
          "text": [
            " DadosDesafioCientista.xlsx\n",
            "'Desafio Técnico - Cientista de Dados.pdf'\n",
            " Previsaodefaturamentoepotencial.xlsx\n"
          ]
        }
      ]
    },
    {
      "cell_type": "code",
      "source": [
        "fat_pot_df = pd.read_excel(\"/content/drive/My Drive/geofusion_data/DadosDesafioCientista.xlsx\")"
      ],
      "metadata": {
        "id": "yM1MAhJZdZGq"
      },
      "execution_count": 6,
      "outputs": []
    },
    {
      "cell_type": "markdown",
      "source": [
        "# Manipulando os dados"
      ],
      "metadata": {
        "id": "FIvt5GwIzi9I"
      }
    },
    {
      "cell_type": "code",
      "source": [
        "fat_pot_df.head()"
      ],
      "metadata": {
        "colab": {
          "base_uri": "https://localhost:8080/",
          "height": 404
        },
        "id": "aMNUaoZMwYg_",
        "outputId": "e89fb048-c7d0-4327-fbbb-b6aee4193acf"
      },
      "execution_count": null,
      "outputs": [
        {
          "output_type": "execute_result",
          "data": {
            "text/plain": [
              "       codigo               nome          cidade estado  população  popAte9  \\\n",
              "0  3304557060           Abolição  Rio de Janeiro     RJ      11676     1027   \n",
              "1  3304557138              Acari  Rio de Janeiro     RJ      27564     5131   \n",
              "2  3304557057         Água Santa  Rio de Janeiro     RJ       9003      883   \n",
              "3  3304557031  Alto Da Boa Vista  Rio de Janeiro     RJ       9606     1072   \n",
              "4  3304557125           Anchieta  Rio de Janeiro     RJ      57222     7677   \n",
              "\n",
              "   popDe10a14  popDe15a19  popDe20a24  popDe25a34  ...  domiciliosA2  \\\n",
              "0         483         688         800        1675  ...           145   \n",
              "1        2188        2697        2630        4810  ...             0   \n",
              "2         399         597         762        1755  ...            96   \n",
              "3         538         660         685        1317  ...           178   \n",
              "4        3774        4892        4600        8660  ...             0   \n",
              "\n",
              "   domiciliosB1  domiciliosB2  domiciliosC1  domiciliosC2  domiciliosD  \\\n",
              "0           715          1242          1093           758           92   \n",
              "1            82           506          2040          2490          827   \n",
              "2           404           652           644           522           77   \n",
              "3           393           517           945           584          137   \n",
              "4          1089          2821          5110          5422         1073   \n",
              "\n",
              "   domiciliosE  rendaMedia  faturamento  potencial  \n",
              "0          304      2501.0     932515.0      Médio  \n",
              "1         2506       931.0     588833.0      Baixo  \n",
              "2          254      2391.0     874200.0      Baixo  \n",
              "3          286      3727.0     912226.0      Médio  \n",
              "4         3261      1380.0     553020.0      Médio  \n",
              "\n",
              "[5 rows x 24 columns]"
            ],
            "text/html": [
              "\n",
              "  <div id=\"df-07985619-6f82-43e3-b3d5-1f86885cb8ca\">\n",
              "    <div class=\"colab-df-container\">\n",
              "      <div>\n",
              "<style scoped>\n",
              "    .dataframe tbody tr th:only-of-type {\n",
              "        vertical-align: middle;\n",
              "    }\n",
              "\n",
              "    .dataframe tbody tr th {\n",
              "        vertical-align: top;\n",
              "    }\n",
              "\n",
              "    .dataframe thead th {\n",
              "        text-align: right;\n",
              "    }\n",
              "</style>\n",
              "<table border=\"1\" class=\"dataframe\">\n",
              "  <thead>\n",
              "    <tr style=\"text-align: right;\">\n",
              "      <th></th>\n",
              "      <th>codigo</th>\n",
              "      <th>nome</th>\n",
              "      <th>cidade</th>\n",
              "      <th>estado</th>\n",
              "      <th>população</th>\n",
              "      <th>popAte9</th>\n",
              "      <th>popDe10a14</th>\n",
              "      <th>popDe15a19</th>\n",
              "      <th>popDe20a24</th>\n",
              "      <th>popDe25a34</th>\n",
              "      <th>...</th>\n",
              "      <th>domiciliosA2</th>\n",
              "      <th>domiciliosB1</th>\n",
              "      <th>domiciliosB2</th>\n",
              "      <th>domiciliosC1</th>\n",
              "      <th>domiciliosC2</th>\n",
              "      <th>domiciliosD</th>\n",
              "      <th>domiciliosE</th>\n",
              "      <th>rendaMedia</th>\n",
              "      <th>faturamento</th>\n",
              "      <th>potencial</th>\n",
              "    </tr>\n",
              "  </thead>\n",
              "  <tbody>\n",
              "    <tr>\n",
              "      <th>0</th>\n",
              "      <td>3304557060</td>\n",
              "      <td>Abolição</td>\n",
              "      <td>Rio de Janeiro</td>\n",
              "      <td>RJ</td>\n",
              "      <td>11676</td>\n",
              "      <td>1027</td>\n",
              "      <td>483</td>\n",
              "      <td>688</td>\n",
              "      <td>800</td>\n",
              "      <td>1675</td>\n",
              "      <td>...</td>\n",
              "      <td>145</td>\n",
              "      <td>715</td>\n",
              "      <td>1242</td>\n",
              "      <td>1093</td>\n",
              "      <td>758</td>\n",
              "      <td>92</td>\n",
              "      <td>304</td>\n",
              "      <td>2501.0</td>\n",
              "      <td>932515.0</td>\n",
              "      <td>Médio</td>\n",
              "    </tr>\n",
              "    <tr>\n",
              "      <th>1</th>\n",
              "      <td>3304557138</td>\n",
              "      <td>Acari</td>\n",
              "      <td>Rio de Janeiro</td>\n",
              "      <td>RJ</td>\n",
              "      <td>27564</td>\n",
              "      <td>5131</td>\n",
              "      <td>2188</td>\n",
              "      <td>2697</td>\n",
              "      <td>2630</td>\n",
              "      <td>4810</td>\n",
              "      <td>...</td>\n",
              "      <td>0</td>\n",
              "      <td>82</td>\n",
              "      <td>506</td>\n",
              "      <td>2040</td>\n",
              "      <td>2490</td>\n",
              "      <td>827</td>\n",
              "      <td>2506</td>\n",
              "      <td>931.0</td>\n",
              "      <td>588833.0</td>\n",
              "      <td>Baixo</td>\n",
              "    </tr>\n",
              "    <tr>\n",
              "      <th>2</th>\n",
              "      <td>3304557057</td>\n",
              "      <td>Água Santa</td>\n",
              "      <td>Rio de Janeiro</td>\n",
              "      <td>RJ</td>\n",
              "      <td>9003</td>\n",
              "      <td>883</td>\n",
              "      <td>399</td>\n",
              "      <td>597</td>\n",
              "      <td>762</td>\n",
              "      <td>1755</td>\n",
              "      <td>...</td>\n",
              "      <td>96</td>\n",
              "      <td>404</td>\n",
              "      <td>652</td>\n",
              "      <td>644</td>\n",
              "      <td>522</td>\n",
              "      <td>77</td>\n",
              "      <td>254</td>\n",
              "      <td>2391.0</td>\n",
              "      <td>874200.0</td>\n",
              "      <td>Baixo</td>\n",
              "    </tr>\n",
              "    <tr>\n",
              "      <th>3</th>\n",
              "      <td>3304557031</td>\n",
              "      <td>Alto Da Boa Vista</td>\n",
              "      <td>Rio de Janeiro</td>\n",
              "      <td>RJ</td>\n",
              "      <td>9606</td>\n",
              "      <td>1072</td>\n",
              "      <td>538</td>\n",
              "      <td>660</td>\n",
              "      <td>685</td>\n",
              "      <td>1317</td>\n",
              "      <td>...</td>\n",
              "      <td>178</td>\n",
              "      <td>393</td>\n",
              "      <td>517</td>\n",
              "      <td>945</td>\n",
              "      <td>584</td>\n",
              "      <td>137</td>\n",
              "      <td>286</td>\n",
              "      <td>3727.0</td>\n",
              "      <td>912226.0</td>\n",
              "      <td>Médio</td>\n",
              "    </tr>\n",
              "    <tr>\n",
              "      <th>4</th>\n",
              "      <td>3304557125</td>\n",
              "      <td>Anchieta</td>\n",
              "      <td>Rio de Janeiro</td>\n",
              "      <td>RJ</td>\n",
              "      <td>57222</td>\n",
              "      <td>7677</td>\n",
              "      <td>3774</td>\n",
              "      <td>4892</td>\n",
              "      <td>4600</td>\n",
              "      <td>8660</td>\n",
              "      <td>...</td>\n",
              "      <td>0</td>\n",
              "      <td>1089</td>\n",
              "      <td>2821</td>\n",
              "      <td>5110</td>\n",
              "      <td>5422</td>\n",
              "      <td>1073</td>\n",
              "      <td>3261</td>\n",
              "      <td>1380.0</td>\n",
              "      <td>553020.0</td>\n",
              "      <td>Médio</td>\n",
              "    </tr>\n",
              "  </tbody>\n",
              "</table>\n",
              "<p>5 rows × 24 columns</p>\n",
              "</div>\n",
              "      <button class=\"colab-df-convert\" onclick=\"convertToInteractive('df-07985619-6f82-43e3-b3d5-1f86885cb8ca')\"\n",
              "              title=\"Convert this dataframe to an interactive table.\"\n",
              "              style=\"display:none;\">\n",
              "        \n",
              "  <svg xmlns=\"http://www.w3.org/2000/svg\" height=\"24px\"viewBox=\"0 0 24 24\"\n",
              "       width=\"24px\">\n",
              "    <path d=\"M0 0h24v24H0V0z\" fill=\"none\"/>\n",
              "    <path d=\"M18.56 5.44l.94 2.06.94-2.06 2.06-.94-2.06-.94-.94-2.06-.94 2.06-2.06.94zm-11 1L8.5 8.5l.94-2.06 2.06-.94-2.06-.94L8.5 2.5l-.94 2.06-2.06.94zm10 10l.94 2.06.94-2.06 2.06-.94-2.06-.94-.94-2.06-.94 2.06-2.06.94z\"/><path d=\"M17.41 7.96l-1.37-1.37c-.4-.4-.92-.59-1.43-.59-.52 0-1.04.2-1.43.59L10.3 9.45l-7.72 7.72c-.78.78-.78 2.05 0 2.83L4 21.41c.39.39.9.59 1.41.59.51 0 1.02-.2 1.41-.59l7.78-7.78 2.81-2.81c.8-.78.8-2.07 0-2.86zM5.41 20L4 18.59l7.72-7.72 1.47 1.35L5.41 20z\"/>\n",
              "  </svg>\n",
              "      </button>\n",
              "      \n",
              "  <style>\n",
              "    .colab-df-container {\n",
              "      display:flex;\n",
              "      flex-wrap:wrap;\n",
              "      gap: 12px;\n",
              "    }\n",
              "\n",
              "    .colab-df-convert {\n",
              "      background-color: #E8F0FE;\n",
              "      border: none;\n",
              "      border-radius: 50%;\n",
              "      cursor: pointer;\n",
              "      display: none;\n",
              "      fill: #1967D2;\n",
              "      height: 32px;\n",
              "      padding: 0 0 0 0;\n",
              "      width: 32px;\n",
              "    }\n",
              "\n",
              "    .colab-df-convert:hover {\n",
              "      background-color: #E2EBFA;\n",
              "      box-shadow: 0px 1px 2px rgba(60, 64, 67, 0.3), 0px 1px 3px 1px rgba(60, 64, 67, 0.15);\n",
              "      fill: #174EA6;\n",
              "    }\n",
              "\n",
              "    [theme=dark] .colab-df-convert {\n",
              "      background-color: #3B4455;\n",
              "      fill: #D2E3FC;\n",
              "    }\n",
              "\n",
              "    [theme=dark] .colab-df-convert:hover {\n",
              "      background-color: #434B5C;\n",
              "      box-shadow: 0px 1px 3px 1px rgba(0, 0, 0, 0.15);\n",
              "      filter: drop-shadow(0px 1px 2px rgba(0, 0, 0, 0.3));\n",
              "      fill: #FFFFFF;\n",
              "    }\n",
              "  </style>\n",
              "\n",
              "      <script>\n",
              "        const buttonEl =\n",
              "          document.querySelector('#df-07985619-6f82-43e3-b3d5-1f86885cb8ca button.colab-df-convert');\n",
              "        buttonEl.style.display =\n",
              "          google.colab.kernel.accessAllowed ? 'block' : 'none';\n",
              "\n",
              "        async function convertToInteractive(key) {\n",
              "          const element = document.querySelector('#df-07985619-6f82-43e3-b3d5-1f86885cb8ca');\n",
              "          const dataTable =\n",
              "            await google.colab.kernel.invokeFunction('convertToInteractive',\n",
              "                                                     [key], {});\n",
              "          if (!dataTable) return;\n",
              "\n",
              "          const docLinkHtml = 'Like what you see? Visit the ' +\n",
              "            '<a target=\"_blank\" href=https://colab.research.google.com/notebooks/data_table.ipynb>data table notebook</a>'\n",
              "            + ' to learn more about interactive tables.';\n",
              "          element.innerHTML = '';\n",
              "          dataTable['output_type'] = 'display_data';\n",
              "          await google.colab.output.renderOutput(dataTable, element);\n",
              "          const docLink = document.createElement('div');\n",
              "          docLink.innerHTML = docLinkHtml;\n",
              "          element.appendChild(docLink);\n",
              "        }\n",
              "      </script>\n",
              "    </div>\n",
              "  </div>\n",
              "  "
            ]
          },
          "metadata": {},
          "execution_count": 144
        }
      ]
    },
    {
      "cell_type": "code",
      "source": [
        "fat_pot_df.dtypes"
      ],
      "metadata": {
        "colab": {
          "base_uri": "https://localhost:8080/"
        },
        "id": "u5s44_UTlruq",
        "outputId": "0ae00e39-8f39-444d-d5d7-d1fd8771be1c"
      },
      "execution_count": null,
      "outputs": [
        {
          "output_type": "execute_result",
          "data": {
            "text/plain": [
              "codigo            int64\n",
              "nome             object\n",
              "cidade           object\n",
              "estado           object\n",
              "população         int64\n",
              "popAte9           int64\n",
              "popDe10a14        int64\n",
              "popDe15a19        int64\n",
              "popDe20a24        int64\n",
              "popDe25a34        int64\n",
              "popDe35a49        int64\n",
              "popDe50a59        int64\n",
              "popMaisDe60       int64\n",
              "domiciliosA1      int64\n",
              "domiciliosA2      int64\n",
              "domiciliosB1      int64\n",
              "domiciliosB2      int64\n",
              "domiciliosC1      int64\n",
              "domiciliosC2      int64\n",
              "domiciliosD       int64\n",
              "domiciliosE       int64\n",
              "rendaMedia       object\n",
              "faturamento     float64\n",
              "potencial        object\n",
              "dtype: object"
            ]
          },
          "metadata": {},
          "execution_count": 131
        }
      ]
    },
    {
      "cell_type": "code",
      "source": [
        "fat_pot_df.describe()"
      ],
      "metadata": {
        "id": "97xJmhmJ4zgD",
        "colab": {
          "base_uri": "https://localhost:8080/",
          "height": 364
        },
        "outputId": "f3382c67-a048-4e24-b2bd-de86feda8a81"
      },
      "execution_count": null,
      "outputs": [
        {
          "output_type": "execute_result",
          "data": {
            "text/plain": [
              "             codigo      população        popAte9    popDe10a14    popDe15a19  \\\n",
              "count  4.560000e+02     456.000000     456.000000    456.000000    456.000000   \n",
              "mean   1.321422e+09   41355.605263    5005.274123   2406.013158   3475.328947   \n",
              "std    1.464724e+09   47188.920422    7655.796985   3617.925729   4571.058622   \n",
              "min    3.550301e+06       0.000000       0.000000      0.000000      0.000000   \n",
              "25%    3.550301e+08   14616.750000    1324.000000    604.250000    956.000000   \n",
              "50%    3.550302e+08   30352.000000    3074.000000   1434.000000   2173.000000   \n",
              "75%    3.304557e+09   50879.250000    5962.000000   2884.000000   4307.500000   \n",
              "max    3.304557e+09  667603.000000  122578.000000  55935.000000  62342.000000   \n",
              "\n",
              "         popDe20a24    popDe25a34     popDe35a49    popDe50a59   popMaisDe60  \\\n",
              "count    456.000000    456.000000     456.000000    456.000000    456.000000   \n",
              "mean    3135.839912   6491.019737    9028.614035   5169.234649   6644.280702   \n",
              "std     4030.380079   7012.670205    9277.870455   5676.876617   6929.255870   \n",
              "min        0.000000      0.000000       0.000000      0.000000      0.000000   \n",
              "25%     1006.000000   2273.500000    3245.250000   1918.500000   2708.750000   \n",
              "50%     2196.000000   4774.000000    6710.500000   3951.500000   5264.500000   \n",
              "75%     3762.750000   7828.500000   11272.750000   6620.500000   8745.500000   \n",
              "max    60567.000000  86116.000000  105316.000000  83341.000000  91408.000000   \n",
              "\n",
              "       domiciliosA1  domiciliosA2  domiciliosB1  domiciliosB2  domiciliosC1  \\\n",
              "count    456.000000    456.000000    456.000000    456.000000    456.000000   \n",
              "mean     405.583333    580.782895   1897.436404   2297.436404   3161.679825   \n",
              "std     1044.795780   1074.031736   2130.830989   2138.179024   3453.936815   \n",
              "min        0.000000      0.000000      0.000000      0.000000      0.000000   \n",
              "25%        0.000000      3.000000    559.750000    841.250000    934.000000   \n",
              "50%        0.000000    198.500000   1334.000000   1833.000000   2229.000000   \n",
              "75%      345.250000    757.500000   2500.500000   3222.250000   4153.250000   \n",
              "max    13408.000000  11668.000000  19350.000000  21237.000000  33111.000000   \n",
              "\n",
              "       domiciliosC2  domiciliosD  domiciliosE   faturamento  \n",
              "count    456.000000   456.000000    456.00000  1.600000e+02  \n",
              "mean    2788.192982   689.153509   2191.58114  8.761600e+05  \n",
              "std     3441.066392   948.425756   2380.59873  4.382106e+05  \n",
              "min        0.000000     0.000000      0.00000  2.465100e+04  \n",
              "25%      554.750000    96.500000    557.75000  7.112785e+05  \n",
              "50%     1632.500000   348.500000   1494.50000  8.242285e+05  \n",
              "75%     3679.500000   825.500000   2863.75000  9.343208e+05  \n",
              "max    25779.000000  6680.000000  15001.00000  2.915612e+06  "
            ],
            "text/html": [
              "\n",
              "  <div id=\"df-0cc50d71-71ce-4311-9355-d6ced59502bb\">\n",
              "    <div class=\"colab-df-container\">\n",
              "      <div>\n",
              "<style scoped>\n",
              "    .dataframe tbody tr th:only-of-type {\n",
              "        vertical-align: middle;\n",
              "    }\n",
              "\n",
              "    .dataframe tbody tr th {\n",
              "        vertical-align: top;\n",
              "    }\n",
              "\n",
              "    .dataframe thead th {\n",
              "        text-align: right;\n",
              "    }\n",
              "</style>\n",
              "<table border=\"1\" class=\"dataframe\">\n",
              "  <thead>\n",
              "    <tr style=\"text-align: right;\">\n",
              "      <th></th>\n",
              "      <th>codigo</th>\n",
              "      <th>população</th>\n",
              "      <th>popAte9</th>\n",
              "      <th>popDe10a14</th>\n",
              "      <th>popDe15a19</th>\n",
              "      <th>popDe20a24</th>\n",
              "      <th>popDe25a34</th>\n",
              "      <th>popDe35a49</th>\n",
              "      <th>popDe50a59</th>\n",
              "      <th>popMaisDe60</th>\n",
              "      <th>domiciliosA1</th>\n",
              "      <th>domiciliosA2</th>\n",
              "      <th>domiciliosB1</th>\n",
              "      <th>domiciliosB2</th>\n",
              "      <th>domiciliosC1</th>\n",
              "      <th>domiciliosC2</th>\n",
              "      <th>domiciliosD</th>\n",
              "      <th>domiciliosE</th>\n",
              "      <th>faturamento</th>\n",
              "    </tr>\n",
              "  </thead>\n",
              "  <tbody>\n",
              "    <tr>\n",
              "      <th>count</th>\n",
              "      <td>4.560000e+02</td>\n",
              "      <td>456.000000</td>\n",
              "      <td>456.000000</td>\n",
              "      <td>456.000000</td>\n",
              "      <td>456.000000</td>\n",
              "      <td>456.000000</td>\n",
              "      <td>456.000000</td>\n",
              "      <td>456.000000</td>\n",
              "      <td>456.000000</td>\n",
              "      <td>456.000000</td>\n",
              "      <td>456.000000</td>\n",
              "      <td>456.000000</td>\n",
              "      <td>456.000000</td>\n",
              "      <td>456.000000</td>\n",
              "      <td>456.000000</td>\n",
              "      <td>456.000000</td>\n",
              "      <td>456.000000</td>\n",
              "      <td>456.00000</td>\n",
              "      <td>1.600000e+02</td>\n",
              "    </tr>\n",
              "    <tr>\n",
              "      <th>mean</th>\n",
              "      <td>1.321422e+09</td>\n",
              "      <td>41355.605263</td>\n",
              "      <td>5005.274123</td>\n",
              "      <td>2406.013158</td>\n",
              "      <td>3475.328947</td>\n",
              "      <td>3135.839912</td>\n",
              "      <td>6491.019737</td>\n",
              "      <td>9028.614035</td>\n",
              "      <td>5169.234649</td>\n",
              "      <td>6644.280702</td>\n",
              "      <td>405.583333</td>\n",
              "      <td>580.782895</td>\n",
              "      <td>1897.436404</td>\n",
              "      <td>2297.436404</td>\n",
              "      <td>3161.679825</td>\n",
              "      <td>2788.192982</td>\n",
              "      <td>689.153509</td>\n",
              "      <td>2191.58114</td>\n",
              "      <td>8.761600e+05</td>\n",
              "    </tr>\n",
              "    <tr>\n",
              "      <th>std</th>\n",
              "      <td>1.464724e+09</td>\n",
              "      <td>47188.920422</td>\n",
              "      <td>7655.796985</td>\n",
              "      <td>3617.925729</td>\n",
              "      <td>4571.058622</td>\n",
              "      <td>4030.380079</td>\n",
              "      <td>7012.670205</td>\n",
              "      <td>9277.870455</td>\n",
              "      <td>5676.876617</td>\n",
              "      <td>6929.255870</td>\n",
              "      <td>1044.795780</td>\n",
              "      <td>1074.031736</td>\n",
              "      <td>2130.830989</td>\n",
              "      <td>2138.179024</td>\n",
              "      <td>3453.936815</td>\n",
              "      <td>3441.066392</td>\n",
              "      <td>948.425756</td>\n",
              "      <td>2380.59873</td>\n",
              "      <td>4.382106e+05</td>\n",
              "    </tr>\n",
              "    <tr>\n",
              "      <th>min</th>\n",
              "      <td>3.550301e+06</td>\n",
              "      <td>0.000000</td>\n",
              "      <td>0.000000</td>\n",
              "      <td>0.000000</td>\n",
              "      <td>0.000000</td>\n",
              "      <td>0.000000</td>\n",
              "      <td>0.000000</td>\n",
              "      <td>0.000000</td>\n",
              "      <td>0.000000</td>\n",
              "      <td>0.000000</td>\n",
              "      <td>0.000000</td>\n",
              "      <td>0.000000</td>\n",
              "      <td>0.000000</td>\n",
              "      <td>0.000000</td>\n",
              "      <td>0.000000</td>\n",
              "      <td>0.000000</td>\n",
              "      <td>0.000000</td>\n",
              "      <td>0.00000</td>\n",
              "      <td>2.465100e+04</td>\n",
              "    </tr>\n",
              "    <tr>\n",
              "      <th>25%</th>\n",
              "      <td>3.550301e+08</td>\n",
              "      <td>14616.750000</td>\n",
              "      <td>1324.000000</td>\n",
              "      <td>604.250000</td>\n",
              "      <td>956.000000</td>\n",
              "      <td>1006.000000</td>\n",
              "      <td>2273.500000</td>\n",
              "      <td>3245.250000</td>\n",
              "      <td>1918.500000</td>\n",
              "      <td>2708.750000</td>\n",
              "      <td>0.000000</td>\n",
              "      <td>3.000000</td>\n",
              "      <td>559.750000</td>\n",
              "      <td>841.250000</td>\n",
              "      <td>934.000000</td>\n",
              "      <td>554.750000</td>\n",
              "      <td>96.500000</td>\n",
              "      <td>557.75000</td>\n",
              "      <td>7.112785e+05</td>\n",
              "    </tr>\n",
              "    <tr>\n",
              "      <th>50%</th>\n",
              "      <td>3.550302e+08</td>\n",
              "      <td>30352.000000</td>\n",
              "      <td>3074.000000</td>\n",
              "      <td>1434.000000</td>\n",
              "      <td>2173.000000</td>\n",
              "      <td>2196.000000</td>\n",
              "      <td>4774.000000</td>\n",
              "      <td>6710.500000</td>\n",
              "      <td>3951.500000</td>\n",
              "      <td>5264.500000</td>\n",
              "      <td>0.000000</td>\n",
              "      <td>198.500000</td>\n",
              "      <td>1334.000000</td>\n",
              "      <td>1833.000000</td>\n",
              "      <td>2229.000000</td>\n",
              "      <td>1632.500000</td>\n",
              "      <td>348.500000</td>\n",
              "      <td>1494.50000</td>\n",
              "      <td>8.242285e+05</td>\n",
              "    </tr>\n",
              "    <tr>\n",
              "      <th>75%</th>\n",
              "      <td>3.304557e+09</td>\n",
              "      <td>50879.250000</td>\n",
              "      <td>5962.000000</td>\n",
              "      <td>2884.000000</td>\n",
              "      <td>4307.500000</td>\n",
              "      <td>3762.750000</td>\n",
              "      <td>7828.500000</td>\n",
              "      <td>11272.750000</td>\n",
              "      <td>6620.500000</td>\n",
              "      <td>8745.500000</td>\n",
              "      <td>345.250000</td>\n",
              "      <td>757.500000</td>\n",
              "      <td>2500.500000</td>\n",
              "      <td>3222.250000</td>\n",
              "      <td>4153.250000</td>\n",
              "      <td>3679.500000</td>\n",
              "      <td>825.500000</td>\n",
              "      <td>2863.75000</td>\n",
              "      <td>9.343208e+05</td>\n",
              "    </tr>\n",
              "    <tr>\n",
              "      <th>max</th>\n",
              "      <td>3.304557e+09</td>\n",
              "      <td>667603.000000</td>\n",
              "      <td>122578.000000</td>\n",
              "      <td>55935.000000</td>\n",
              "      <td>62342.000000</td>\n",
              "      <td>60567.000000</td>\n",
              "      <td>86116.000000</td>\n",
              "      <td>105316.000000</td>\n",
              "      <td>83341.000000</td>\n",
              "      <td>91408.000000</td>\n",
              "      <td>13408.000000</td>\n",
              "      <td>11668.000000</td>\n",
              "      <td>19350.000000</td>\n",
              "      <td>21237.000000</td>\n",
              "      <td>33111.000000</td>\n",
              "      <td>25779.000000</td>\n",
              "      <td>6680.000000</td>\n",
              "      <td>15001.00000</td>\n",
              "      <td>2.915612e+06</td>\n",
              "    </tr>\n",
              "  </tbody>\n",
              "</table>\n",
              "</div>\n",
              "      <button class=\"colab-df-convert\" onclick=\"convertToInteractive('df-0cc50d71-71ce-4311-9355-d6ced59502bb')\"\n",
              "              title=\"Convert this dataframe to an interactive table.\"\n",
              "              style=\"display:none;\">\n",
              "        \n",
              "  <svg xmlns=\"http://www.w3.org/2000/svg\" height=\"24px\"viewBox=\"0 0 24 24\"\n",
              "       width=\"24px\">\n",
              "    <path d=\"M0 0h24v24H0V0z\" fill=\"none\"/>\n",
              "    <path d=\"M18.56 5.44l.94 2.06.94-2.06 2.06-.94-2.06-.94-.94-2.06-.94 2.06-2.06.94zm-11 1L8.5 8.5l.94-2.06 2.06-.94-2.06-.94L8.5 2.5l-.94 2.06-2.06.94zm10 10l.94 2.06.94-2.06 2.06-.94-2.06-.94-.94-2.06-.94 2.06-2.06.94z\"/><path d=\"M17.41 7.96l-1.37-1.37c-.4-.4-.92-.59-1.43-.59-.52 0-1.04.2-1.43.59L10.3 9.45l-7.72 7.72c-.78.78-.78 2.05 0 2.83L4 21.41c.39.39.9.59 1.41.59.51 0 1.02-.2 1.41-.59l7.78-7.78 2.81-2.81c.8-.78.8-2.07 0-2.86zM5.41 20L4 18.59l7.72-7.72 1.47 1.35L5.41 20z\"/>\n",
              "  </svg>\n",
              "      </button>\n",
              "      \n",
              "  <style>\n",
              "    .colab-df-container {\n",
              "      display:flex;\n",
              "      flex-wrap:wrap;\n",
              "      gap: 12px;\n",
              "    }\n",
              "\n",
              "    .colab-df-convert {\n",
              "      background-color: #E8F0FE;\n",
              "      border: none;\n",
              "      border-radius: 50%;\n",
              "      cursor: pointer;\n",
              "      display: none;\n",
              "      fill: #1967D2;\n",
              "      height: 32px;\n",
              "      padding: 0 0 0 0;\n",
              "      width: 32px;\n",
              "    }\n",
              "\n",
              "    .colab-df-convert:hover {\n",
              "      background-color: #E2EBFA;\n",
              "      box-shadow: 0px 1px 2px rgba(60, 64, 67, 0.3), 0px 1px 3px 1px rgba(60, 64, 67, 0.15);\n",
              "      fill: #174EA6;\n",
              "    }\n",
              "\n",
              "    [theme=dark] .colab-df-convert {\n",
              "      background-color: #3B4455;\n",
              "      fill: #D2E3FC;\n",
              "    }\n",
              "\n",
              "    [theme=dark] .colab-df-convert:hover {\n",
              "      background-color: #434B5C;\n",
              "      box-shadow: 0px 1px 3px 1px rgba(0, 0, 0, 0.15);\n",
              "      filter: drop-shadow(0px 1px 2px rgba(0, 0, 0, 0.3));\n",
              "      fill: #FFFFFF;\n",
              "    }\n",
              "  </style>\n",
              "\n",
              "      <script>\n",
              "        const buttonEl =\n",
              "          document.querySelector('#df-0cc50d71-71ce-4311-9355-d6ced59502bb button.colab-df-convert');\n",
              "        buttonEl.style.display =\n",
              "          google.colab.kernel.accessAllowed ? 'block' : 'none';\n",
              "\n",
              "        async function convertToInteractive(key) {\n",
              "          const element = document.querySelector('#df-0cc50d71-71ce-4311-9355-d6ced59502bb');\n",
              "          const dataTable =\n",
              "            await google.colab.kernel.invokeFunction('convertToInteractive',\n",
              "                                                     [key], {});\n",
              "          if (!dataTable) return;\n",
              "\n",
              "          const docLinkHtml = 'Like what you see? Visit the ' +\n",
              "            '<a target=\"_blank\" href=https://colab.research.google.com/notebooks/data_table.ipynb>data table notebook</a>'\n",
              "            + ' to learn more about interactive tables.';\n",
              "          element.innerHTML = '';\n",
              "          dataTable['output_type'] = 'display_data';\n",
              "          await google.colab.output.renderOutput(dataTable, element);\n",
              "          const docLink = document.createElement('div');\n",
              "          docLink.innerHTML = docLinkHtml;\n",
              "          element.appendChild(docLink);\n",
              "        }\n",
              "      </script>\n",
              "    </div>\n",
              "  </div>\n",
              "  "
            ]
          },
          "metadata": {},
          "execution_count": 132
        }
      ]
    },
    {
      "cell_type": "code",
      "source": [
        "fat_pot_df.isna().sum()"
      ],
      "metadata": {
        "colab": {
          "base_uri": "https://localhost:8080/"
        },
        "id": "q-dq5UCClud2",
        "outputId": "97c4dfbb-d3b8-4fbb-e735-ea369104c4b6"
      },
      "execution_count": null,
      "outputs": [
        {
          "output_type": "execute_result",
          "data": {
            "text/plain": [
              "codigo            0\n",
              "nome              0\n",
              "cidade            0\n",
              "estado            0\n",
              "população         0\n",
              "popAte9           0\n",
              "popDe10a14        0\n",
              "popDe15a19        0\n",
              "popDe20a24        0\n",
              "popDe25a34        0\n",
              "popDe35a49        0\n",
              "popDe50a59        0\n",
              "popMaisDe60       0\n",
              "domiciliosA1      0\n",
              "domiciliosA2      0\n",
              "domiciliosB1      0\n",
              "domiciliosB2      0\n",
              "domiciliosC1      0\n",
              "domiciliosC2      0\n",
              "domiciliosD       0\n",
              "domiciliosE       0\n",
              "rendaMedia        6\n",
              "faturamento     296\n",
              "potencial       296\n",
              "dtype: int64"
            ]
          },
          "metadata": {},
          "execution_count": 133
        }
      ]
    },
    {
      "cell_type": "code",
      "source": [
        "fat_pot_df.rendaMedia.str.isnumeric().notna().sum()"
      ],
      "metadata": {
        "colab": {
          "base_uri": "https://localhost:8080/"
        },
        "id": "WfTquEKnqVEd",
        "outputId": "d9049f3a-1999-4c8a-e10a-1cec12f89779"
      },
      "execution_count": null,
      "outputs": [
        {
          "output_type": "execute_result",
          "data": {
            "text/plain": [
              "3"
            ]
          },
          "metadata": {},
          "execution_count": 30
        }
      ]
    },
    {
      "cell_type": "code",
      "source": [
        "t = fat_pot_df.rendaMedia.str.isnumeric().notna().to_numpy()\n",
        "np.nonzero(t)"
      ],
      "metadata": {
        "colab": {
          "base_uri": "https://localhost:8080/"
        },
        "id": "A3rCGNMEto4e",
        "outputId": "80fa514e-db41-4c2f-ca78-3da36395df54"
      },
      "execution_count": null,
      "outputs": [
        {
          "output_type": "execute_result",
          "data": {
            "text/plain": [
              "(array([232, 361, 376]),)"
            ]
          },
          "metadata": {},
          "execution_count": 67
        }
      ]
    },
    {
      "cell_type": "code",
      "source": [
        "fat_pot_df.iloc[[232,361,376]]"
      ],
      "metadata": {
        "colab": {
          "base_uri": "https://localhost:8080/",
          "height": 306
        },
        "id": "2X8rZaNTvl1V",
        "outputId": "04a7c4db-4671-4dbc-9be3-36d1b9b7cfbd"
      },
      "execution_count": null,
      "outputs": [
        {
          "output_type": "execute_result",
          "data": {
            "text/plain": [
              "        codigo                   nome     cidade estado  população  popAte9  \\\n",
              "232  355030170             Eta Guaraú  São Paulo     SP          0        0   \n",
              "361  355030227        Pico Do Jaraguá  São Paulo     SP          0        0   \n",
              "376  355030167  Reserva Da Cantareira  São Paulo     SP          0        0   \n",
              "\n",
              "     popDe10a14  popDe15a19  popDe20a24  popDe25a34  ...  domiciliosA2  \\\n",
              "232           0           0           0           0  ...             0   \n",
              "361           0           0           0           0  ...             0   \n",
              "376           0           0           0           0  ...             0   \n",
              "\n",
              "     domiciliosB1  domiciliosB2  domiciliosC1  domiciliosC2  domiciliosD  \\\n",
              "232             0             0             0             0            0   \n",
              "361             0             0             0             0            0   \n",
              "376             0             0             0             0            0   \n",
              "\n",
              "     domiciliosE  rendaMedia  faturamento  potencial  \n",
              "232            0           -          NaN        NaN  \n",
              "361            0           -          NaN        NaN  \n",
              "376            0           -          NaN        NaN  \n",
              "\n",
              "[3 rows x 24 columns]"
            ],
            "text/html": [
              "\n",
              "  <div id=\"df-6016524f-9813-4093-a430-96812279c455\">\n",
              "    <div class=\"colab-df-container\">\n",
              "      <div>\n",
              "<style scoped>\n",
              "    .dataframe tbody tr th:only-of-type {\n",
              "        vertical-align: middle;\n",
              "    }\n",
              "\n",
              "    .dataframe tbody tr th {\n",
              "        vertical-align: top;\n",
              "    }\n",
              "\n",
              "    .dataframe thead th {\n",
              "        text-align: right;\n",
              "    }\n",
              "</style>\n",
              "<table border=\"1\" class=\"dataframe\">\n",
              "  <thead>\n",
              "    <tr style=\"text-align: right;\">\n",
              "      <th></th>\n",
              "      <th>codigo</th>\n",
              "      <th>nome</th>\n",
              "      <th>cidade</th>\n",
              "      <th>estado</th>\n",
              "      <th>população</th>\n",
              "      <th>popAte9</th>\n",
              "      <th>popDe10a14</th>\n",
              "      <th>popDe15a19</th>\n",
              "      <th>popDe20a24</th>\n",
              "      <th>popDe25a34</th>\n",
              "      <th>...</th>\n",
              "      <th>domiciliosA2</th>\n",
              "      <th>domiciliosB1</th>\n",
              "      <th>domiciliosB2</th>\n",
              "      <th>domiciliosC1</th>\n",
              "      <th>domiciliosC2</th>\n",
              "      <th>domiciliosD</th>\n",
              "      <th>domiciliosE</th>\n",
              "      <th>rendaMedia</th>\n",
              "      <th>faturamento</th>\n",
              "      <th>potencial</th>\n",
              "    </tr>\n",
              "  </thead>\n",
              "  <tbody>\n",
              "    <tr>\n",
              "      <th>232</th>\n",
              "      <td>355030170</td>\n",
              "      <td>Eta Guaraú</td>\n",
              "      <td>São Paulo</td>\n",
              "      <td>SP</td>\n",
              "      <td>0</td>\n",
              "      <td>0</td>\n",
              "      <td>0</td>\n",
              "      <td>0</td>\n",
              "      <td>0</td>\n",
              "      <td>0</td>\n",
              "      <td>...</td>\n",
              "      <td>0</td>\n",
              "      <td>0</td>\n",
              "      <td>0</td>\n",
              "      <td>0</td>\n",
              "      <td>0</td>\n",
              "      <td>0</td>\n",
              "      <td>0</td>\n",
              "      <td>-</td>\n",
              "      <td>NaN</td>\n",
              "      <td>NaN</td>\n",
              "    </tr>\n",
              "    <tr>\n",
              "      <th>361</th>\n",
              "      <td>355030227</td>\n",
              "      <td>Pico Do Jaraguá</td>\n",
              "      <td>São Paulo</td>\n",
              "      <td>SP</td>\n",
              "      <td>0</td>\n",
              "      <td>0</td>\n",
              "      <td>0</td>\n",
              "      <td>0</td>\n",
              "      <td>0</td>\n",
              "      <td>0</td>\n",
              "      <td>...</td>\n",
              "      <td>0</td>\n",
              "      <td>0</td>\n",
              "      <td>0</td>\n",
              "      <td>0</td>\n",
              "      <td>0</td>\n",
              "      <td>0</td>\n",
              "      <td>0</td>\n",
              "      <td>-</td>\n",
              "      <td>NaN</td>\n",
              "      <td>NaN</td>\n",
              "    </tr>\n",
              "    <tr>\n",
              "      <th>376</th>\n",
              "      <td>355030167</td>\n",
              "      <td>Reserva Da Cantareira</td>\n",
              "      <td>São Paulo</td>\n",
              "      <td>SP</td>\n",
              "      <td>0</td>\n",
              "      <td>0</td>\n",
              "      <td>0</td>\n",
              "      <td>0</td>\n",
              "      <td>0</td>\n",
              "      <td>0</td>\n",
              "      <td>...</td>\n",
              "      <td>0</td>\n",
              "      <td>0</td>\n",
              "      <td>0</td>\n",
              "      <td>0</td>\n",
              "      <td>0</td>\n",
              "      <td>0</td>\n",
              "      <td>0</td>\n",
              "      <td>-</td>\n",
              "      <td>NaN</td>\n",
              "      <td>NaN</td>\n",
              "    </tr>\n",
              "  </tbody>\n",
              "</table>\n",
              "<p>3 rows × 24 columns</p>\n",
              "</div>\n",
              "      <button class=\"colab-df-convert\" onclick=\"convertToInteractive('df-6016524f-9813-4093-a430-96812279c455')\"\n",
              "              title=\"Convert this dataframe to an interactive table.\"\n",
              "              style=\"display:none;\">\n",
              "        \n",
              "  <svg xmlns=\"http://www.w3.org/2000/svg\" height=\"24px\"viewBox=\"0 0 24 24\"\n",
              "       width=\"24px\">\n",
              "    <path d=\"M0 0h24v24H0V0z\" fill=\"none\"/>\n",
              "    <path d=\"M18.56 5.44l.94 2.06.94-2.06 2.06-.94-2.06-.94-.94-2.06-.94 2.06-2.06.94zm-11 1L8.5 8.5l.94-2.06 2.06-.94-2.06-.94L8.5 2.5l-.94 2.06-2.06.94zm10 10l.94 2.06.94-2.06 2.06-.94-2.06-.94-.94-2.06-.94 2.06-2.06.94z\"/><path d=\"M17.41 7.96l-1.37-1.37c-.4-.4-.92-.59-1.43-.59-.52 0-1.04.2-1.43.59L10.3 9.45l-7.72 7.72c-.78.78-.78 2.05 0 2.83L4 21.41c.39.39.9.59 1.41.59.51 0 1.02-.2 1.41-.59l7.78-7.78 2.81-2.81c.8-.78.8-2.07 0-2.86zM5.41 20L4 18.59l7.72-7.72 1.47 1.35L5.41 20z\"/>\n",
              "  </svg>\n",
              "      </button>\n",
              "      \n",
              "  <style>\n",
              "    .colab-df-container {\n",
              "      display:flex;\n",
              "      flex-wrap:wrap;\n",
              "      gap: 12px;\n",
              "    }\n",
              "\n",
              "    .colab-df-convert {\n",
              "      background-color: #E8F0FE;\n",
              "      border: none;\n",
              "      border-radius: 50%;\n",
              "      cursor: pointer;\n",
              "      display: none;\n",
              "      fill: #1967D2;\n",
              "      height: 32px;\n",
              "      padding: 0 0 0 0;\n",
              "      width: 32px;\n",
              "    }\n",
              "\n",
              "    .colab-df-convert:hover {\n",
              "      background-color: #E2EBFA;\n",
              "      box-shadow: 0px 1px 2px rgba(60, 64, 67, 0.3), 0px 1px 3px 1px rgba(60, 64, 67, 0.15);\n",
              "      fill: #174EA6;\n",
              "    }\n",
              "\n",
              "    [theme=dark] .colab-df-convert {\n",
              "      background-color: #3B4455;\n",
              "      fill: #D2E3FC;\n",
              "    }\n",
              "\n",
              "    [theme=dark] .colab-df-convert:hover {\n",
              "      background-color: #434B5C;\n",
              "      box-shadow: 0px 1px 3px 1px rgba(0, 0, 0, 0.15);\n",
              "      filter: drop-shadow(0px 1px 2px rgba(0, 0, 0, 0.3));\n",
              "      fill: #FFFFFF;\n",
              "    }\n",
              "  </style>\n",
              "\n",
              "      <script>\n",
              "        const buttonEl =\n",
              "          document.querySelector('#df-6016524f-9813-4093-a430-96812279c455 button.colab-df-convert');\n",
              "        buttonEl.style.display =\n",
              "          google.colab.kernel.accessAllowed ? 'block' : 'none';\n",
              "\n",
              "        async function convertToInteractive(key) {\n",
              "          const element = document.querySelector('#df-6016524f-9813-4093-a430-96812279c455');\n",
              "          const dataTable =\n",
              "            await google.colab.kernel.invokeFunction('convertToInteractive',\n",
              "                                                     [key], {});\n",
              "          if (!dataTable) return;\n",
              "\n",
              "          const docLinkHtml = 'Like what you see? Visit the ' +\n",
              "            '<a target=\"_blank\" href=https://colab.research.google.com/notebooks/data_table.ipynb>data table notebook</a>'\n",
              "            + ' to learn more about interactive tables.';\n",
              "          element.innerHTML = '';\n",
              "          dataTable['output_type'] = 'display_data';\n",
              "          await google.colab.output.renderOutput(dataTable, element);\n",
              "          const docLink = document.createElement('div');\n",
              "          docLink.innerHTML = docLinkHtml;\n",
              "          element.appendChild(docLink);\n",
              "        }\n",
              "      </script>\n",
              "    </div>\n",
              "  </div>\n",
              "  "
            ]
          },
          "metadata": {},
          "execution_count": 134
        }
      ]
    },
    {
      "cell_type": "code",
      "source": [
        "fat_pot_df.rendaMedia.replace('-','', inplace = True)\n",
        "fat_pot_df.rendaMedia = pd.to_numeric(fat_pot_df.rendaMedia)"
      ],
      "metadata": {
        "id": "gAUFIIDX49Hl"
      },
      "execution_count": 7,
      "outputs": []
    },
    {
      "cell_type": "code",
      "source": [
        "#fat_pot_df = fat_pot_df.dropna(subset=['rendaMedia'])\n",
        "fat_pot_df.rendaMedia.interpolate(method='linear', inplace=True)"
      ],
      "metadata": {
        "id": "YKI5U_hxlA5e"
      },
      "execution_count": 8,
      "outputs": []
    },
    {
      "cell_type": "code",
      "source": [
        "fat_pot_rj = fat_pot_df[fat_pot_df['estado'] == 'RJ']\n",
        "fat_pot_rj.drop(['codigo', 'cidade', 'estado'], axis=1, inplace = True)"
      ],
      "metadata": {
        "id": "CYOHA8qIzgFd"
      },
      "execution_count": 9,
      "outputs": []
    },
    {
      "cell_type": "code",
      "source": [
        "fat_pot_sp = fat_pot_df[fat_pot_df['estado'] == 'SP']\n",
        "fat_pot_sp.drop(['codigo', 'cidade', 'estado', 'faturamento', 'potencial'], axis=1, inplace = True)"
      ],
      "metadata": {
        "id": "OkaRBuve0huc"
      },
      "execution_count": 10,
      "outputs": []
    },
    {
      "cell_type": "code",
      "source": [
        "fat_pot_rj.groupby(['potencial']).sum()"
      ],
      "metadata": {
        "id": "ZV4pW1hS5ccy",
        "colab": {
          "base_uri": "https://localhost:8080/",
          "height": 239
        },
        "outputId": "0be2b2b6-c87d-4da4-bd0c-8593845d17ce"
      },
      "execution_count": null,
      "outputs": [
        {
          "output_type": "execute_result",
          "data": {
            "text/plain": [
              "           população  popAte9  popDe10a14  popDe15a19  popDe20a24  popDe25a34  \\\n",
              "potencial                                                                       \n",
              "Alto         3680822   427791      198767      264021      279746      551489   \n",
              "Baixo        1063732   138723       64930       85876       89360      172103   \n",
              "Médio        2080142   286136      133814      173648      166795      329924   \n",
              "\n",
              "           popDe35a49  popDe50a59  popMaisDe60  domiciliosA1  domiciliosA2  \\\n",
              "potencial                                                                    \n",
              "Alto           740946      488485       729577         58206         83426   \n",
              "Baixo          225261      124516       162963          1162          4745   \n",
              "Médio          446091      240161       303573          2788          9152   \n",
              "\n",
              "           domiciliosB1  domiciliosB2  domiciliosC1  domiciliosC2  \\\n",
              "potencial                                                           \n",
              "Alto             220727        222878        283908        207800   \n",
              "Baixo             26385         53517         93658         92417   \n",
              "Médio             52338        105217        188810        184712   \n",
              "\n",
              "           domiciliosD  domiciliosE  rendaMedia  faturamento  \n",
              "potencial                                                     \n",
              "Alto             37141       116953    313355.0   56001880.0  \n",
              "Baixo            17849        60480    106732.0   48479904.0  \n",
              "Médio            35950       114025    149338.5   35703811.0  "
            ],
            "text/html": [
              "\n",
              "  <div id=\"df-1d01b43b-8d33-498a-a1b2-5ee642feb6d4\">\n",
              "    <div class=\"colab-df-container\">\n",
              "      <div>\n",
              "<style scoped>\n",
              "    .dataframe tbody tr th:only-of-type {\n",
              "        vertical-align: middle;\n",
              "    }\n",
              "\n",
              "    .dataframe tbody tr th {\n",
              "        vertical-align: top;\n",
              "    }\n",
              "\n",
              "    .dataframe thead th {\n",
              "        text-align: right;\n",
              "    }\n",
              "</style>\n",
              "<table border=\"1\" class=\"dataframe\">\n",
              "  <thead>\n",
              "    <tr style=\"text-align: right;\">\n",
              "      <th></th>\n",
              "      <th>população</th>\n",
              "      <th>popAte9</th>\n",
              "      <th>popDe10a14</th>\n",
              "      <th>popDe15a19</th>\n",
              "      <th>popDe20a24</th>\n",
              "      <th>popDe25a34</th>\n",
              "      <th>popDe35a49</th>\n",
              "      <th>popDe50a59</th>\n",
              "      <th>popMaisDe60</th>\n",
              "      <th>domiciliosA1</th>\n",
              "      <th>domiciliosA2</th>\n",
              "      <th>domiciliosB1</th>\n",
              "      <th>domiciliosB2</th>\n",
              "      <th>domiciliosC1</th>\n",
              "      <th>domiciliosC2</th>\n",
              "      <th>domiciliosD</th>\n",
              "      <th>domiciliosE</th>\n",
              "      <th>rendaMedia</th>\n",
              "      <th>faturamento</th>\n",
              "    </tr>\n",
              "    <tr>\n",
              "      <th>potencial</th>\n",
              "      <th></th>\n",
              "      <th></th>\n",
              "      <th></th>\n",
              "      <th></th>\n",
              "      <th></th>\n",
              "      <th></th>\n",
              "      <th></th>\n",
              "      <th></th>\n",
              "      <th></th>\n",
              "      <th></th>\n",
              "      <th></th>\n",
              "      <th></th>\n",
              "      <th></th>\n",
              "      <th></th>\n",
              "      <th></th>\n",
              "      <th></th>\n",
              "      <th></th>\n",
              "      <th></th>\n",
              "      <th></th>\n",
              "    </tr>\n",
              "  </thead>\n",
              "  <tbody>\n",
              "    <tr>\n",
              "      <th>Alto</th>\n",
              "      <td>3680822</td>\n",
              "      <td>427791</td>\n",
              "      <td>198767</td>\n",
              "      <td>264021</td>\n",
              "      <td>279746</td>\n",
              "      <td>551489</td>\n",
              "      <td>740946</td>\n",
              "      <td>488485</td>\n",
              "      <td>729577</td>\n",
              "      <td>58206</td>\n",
              "      <td>83426</td>\n",
              "      <td>220727</td>\n",
              "      <td>222878</td>\n",
              "      <td>283908</td>\n",
              "      <td>207800</td>\n",
              "      <td>37141</td>\n",
              "      <td>116953</td>\n",
              "      <td>313355.0</td>\n",
              "      <td>56001880.0</td>\n",
              "    </tr>\n",
              "    <tr>\n",
              "      <th>Baixo</th>\n",
              "      <td>1063732</td>\n",
              "      <td>138723</td>\n",
              "      <td>64930</td>\n",
              "      <td>85876</td>\n",
              "      <td>89360</td>\n",
              "      <td>172103</td>\n",
              "      <td>225261</td>\n",
              "      <td>124516</td>\n",
              "      <td>162963</td>\n",
              "      <td>1162</td>\n",
              "      <td>4745</td>\n",
              "      <td>26385</td>\n",
              "      <td>53517</td>\n",
              "      <td>93658</td>\n",
              "      <td>92417</td>\n",
              "      <td>17849</td>\n",
              "      <td>60480</td>\n",
              "      <td>106732.0</td>\n",
              "      <td>48479904.0</td>\n",
              "    </tr>\n",
              "    <tr>\n",
              "      <th>Médio</th>\n",
              "      <td>2080142</td>\n",
              "      <td>286136</td>\n",
              "      <td>133814</td>\n",
              "      <td>173648</td>\n",
              "      <td>166795</td>\n",
              "      <td>329924</td>\n",
              "      <td>446091</td>\n",
              "      <td>240161</td>\n",
              "      <td>303573</td>\n",
              "      <td>2788</td>\n",
              "      <td>9152</td>\n",
              "      <td>52338</td>\n",
              "      <td>105217</td>\n",
              "      <td>188810</td>\n",
              "      <td>184712</td>\n",
              "      <td>35950</td>\n",
              "      <td>114025</td>\n",
              "      <td>149338.5</td>\n",
              "      <td>35703811.0</td>\n",
              "    </tr>\n",
              "  </tbody>\n",
              "</table>\n",
              "</div>\n",
              "      <button class=\"colab-df-convert\" onclick=\"convertToInteractive('df-1d01b43b-8d33-498a-a1b2-5ee642feb6d4')\"\n",
              "              title=\"Convert this dataframe to an interactive table.\"\n",
              "              style=\"display:none;\">\n",
              "        \n",
              "  <svg xmlns=\"http://www.w3.org/2000/svg\" height=\"24px\"viewBox=\"0 0 24 24\"\n",
              "       width=\"24px\">\n",
              "    <path d=\"M0 0h24v24H0V0z\" fill=\"none\"/>\n",
              "    <path d=\"M18.56 5.44l.94 2.06.94-2.06 2.06-.94-2.06-.94-.94-2.06-.94 2.06-2.06.94zm-11 1L8.5 8.5l.94-2.06 2.06-.94-2.06-.94L8.5 2.5l-.94 2.06-2.06.94zm10 10l.94 2.06.94-2.06 2.06-.94-2.06-.94-.94-2.06-.94 2.06-2.06.94z\"/><path d=\"M17.41 7.96l-1.37-1.37c-.4-.4-.92-.59-1.43-.59-.52 0-1.04.2-1.43.59L10.3 9.45l-7.72 7.72c-.78.78-.78 2.05 0 2.83L4 21.41c.39.39.9.59 1.41.59.51 0 1.02-.2 1.41-.59l7.78-7.78 2.81-2.81c.8-.78.8-2.07 0-2.86zM5.41 20L4 18.59l7.72-7.72 1.47 1.35L5.41 20z\"/>\n",
              "  </svg>\n",
              "      </button>\n",
              "      \n",
              "  <style>\n",
              "    .colab-df-container {\n",
              "      display:flex;\n",
              "      flex-wrap:wrap;\n",
              "      gap: 12px;\n",
              "    }\n",
              "\n",
              "    .colab-df-convert {\n",
              "      background-color: #E8F0FE;\n",
              "      border: none;\n",
              "      border-radius: 50%;\n",
              "      cursor: pointer;\n",
              "      display: none;\n",
              "      fill: #1967D2;\n",
              "      height: 32px;\n",
              "      padding: 0 0 0 0;\n",
              "      width: 32px;\n",
              "    }\n",
              "\n",
              "    .colab-df-convert:hover {\n",
              "      background-color: #E2EBFA;\n",
              "      box-shadow: 0px 1px 2px rgba(60, 64, 67, 0.3), 0px 1px 3px 1px rgba(60, 64, 67, 0.15);\n",
              "      fill: #174EA6;\n",
              "    }\n",
              "\n",
              "    [theme=dark] .colab-df-convert {\n",
              "      background-color: #3B4455;\n",
              "      fill: #D2E3FC;\n",
              "    }\n",
              "\n",
              "    [theme=dark] .colab-df-convert:hover {\n",
              "      background-color: #434B5C;\n",
              "      box-shadow: 0px 1px 3px 1px rgba(0, 0, 0, 0.15);\n",
              "      filter: drop-shadow(0px 1px 2px rgba(0, 0, 0, 0.3));\n",
              "      fill: #FFFFFF;\n",
              "    }\n",
              "  </style>\n",
              "\n",
              "      <script>\n",
              "        const buttonEl =\n",
              "          document.querySelector('#df-1d01b43b-8d33-498a-a1b2-5ee642feb6d4 button.colab-df-convert');\n",
              "        buttonEl.style.display =\n",
              "          google.colab.kernel.accessAllowed ? 'block' : 'none';\n",
              "\n",
              "        async function convertToInteractive(key) {\n",
              "          const element = document.querySelector('#df-1d01b43b-8d33-498a-a1b2-5ee642feb6d4');\n",
              "          const dataTable =\n",
              "            await google.colab.kernel.invokeFunction('convertToInteractive',\n",
              "                                                     [key], {});\n",
              "          if (!dataTable) return;\n",
              "\n",
              "          const docLinkHtml = 'Like what you see? Visit the ' +\n",
              "            '<a target=\"_blank\" href=https://colab.research.google.com/notebooks/data_table.ipynb>data table notebook</a>'\n",
              "            + ' to learn more about interactive tables.';\n",
              "          element.innerHTML = '';\n",
              "          dataTable['output_type'] = 'display_data';\n",
              "          await google.colab.output.renderOutput(dataTable, element);\n",
              "          const docLink = document.createElement('div');\n",
              "          docLink.innerHTML = docLinkHtml;\n",
              "          element.appendChild(docLink);\n",
              "        }\n",
              "      </script>\n",
              "    </div>\n",
              "  </div>\n",
              "  "
            ]
          },
          "metadata": {},
          "execution_count": 249
        }
      ]
    },
    {
      "cell_type": "code",
      "source": [
        "fat_pot_rj.describe()"
      ],
      "metadata": {
        "id": "iryx95zjAvJf",
        "colab": {
          "base_uri": "https://localhost:8080/",
          "height": 364
        },
        "outputId": "7876da56-2512-4791-fbc1-a321b7c9c057"
      },
      "execution_count": null,
      "outputs": [
        {
          "output_type": "execute_result",
          "data": {
            "text/plain": [
              "           população       popAte9    popDe10a14    popDe15a19    popDe20a24  \\\n",
              "count     160.000000     160.00000    160.000000    160.000000    160.000000   \n",
              "mean    42654.350000    5329.06250   2484.443750   3272.156250   3349.381250   \n",
              "std     64262.949072   10816.19977   4948.827166   5752.156303   5601.893201   \n",
              "min       173.000000      33.00000     13.000000     22.000000     17.000000   \n",
              "25%     13362.750000    1512.75000    690.750000    945.000000    994.750000   \n",
              "50%     26076.000000    3111.50000   1434.000000   2015.000000   2142.500000   \n",
              "75%     46504.500000    5622.25000   2621.500000   3448.750000   3451.750000   \n",
              "max    667603.000000  122578.00000  55935.000000  62342.000000  60567.000000   \n",
              "\n",
              "         popDe25a34     popDe35a49    popDe50a59   popMaisDe60  domiciliosA1  \\\n",
              "count    160.000000     160.000000    160.000000    160.000000    160.000000   \n",
              "mean    6584.475000    8826.862500   5332.262500   7475.706250    388.475000   \n",
              "std     9049.895783   11536.276416   7986.261929  10258.307743   1403.605232   \n",
              "min       28.000000      38.000000     10.000000     12.000000      0.000000   \n",
              "25%     2131.250000    2900.750000   1598.750000   2118.250000      0.000000   \n",
              "50%     4170.500000    5657.000000   3371.500000   4575.500000      0.000000   \n",
              "75%     7145.250000    9586.750000   6333.250000   9196.000000      1.000000   \n",
              "max    86116.000000  105316.000000  83341.000000  91408.000000  13408.000000   \n",
              "\n",
              "       domiciliosA2  domiciliosB1  domiciliosB2  domiciliosC1  domiciliosC2  \\\n",
              "count    160.000000    160.000000    160.000000    160.000000    160.000000   \n",
              "mean     608.268750   1871.562500   2385.075000   3539.850000   3030.806250   \n",
              "std     1535.237669   2973.530791   2779.071565   4324.539462   4003.047836   \n",
              "min        0.000000      0.000000      0.000000      5.000000      3.000000   \n",
              "25%        0.000000    391.500000    716.000000   1088.750000    789.750000   \n",
              "50%      107.500000    848.000000   1536.000000   2394.500000   1861.500000   \n",
              "75%      430.500000   1962.500000   3065.750000   4203.000000   3652.500000   \n",
              "max    11668.000000  19350.000000  21237.000000  33111.000000  25779.000000   \n",
              "\n",
              "       domiciliosD   domiciliosE    rendaMedia   faturamento  \n",
              "count    160.00000    160.000000    160.000000  1.600000e+02  \n",
              "mean     568.37500   1821.612500   3558.909375  8.761600e+05  \n",
              "std      823.92034   2292.079295   5982.697693  4.382106e+05  \n",
              "min        0.00000      2.000000    654.000000  2.465100e+04  \n",
              "25%      117.75000    431.500000   1492.000000  7.112785e+05  \n",
              "50%      327.50000   1042.500000   1938.500000  8.242285e+05  \n",
              "75%      694.00000   2138.250000   2937.500000  9.343208e+05  \n",
              "max     4956.00000  14833.000000  63887.000000  2.915612e+06  "
            ],
            "text/html": [
              "\n",
              "  <div id=\"df-b48d34f9-7ce1-494e-9221-b3d46632cbc6\">\n",
              "    <div class=\"colab-df-container\">\n",
              "      <div>\n",
              "<style scoped>\n",
              "    .dataframe tbody tr th:only-of-type {\n",
              "        vertical-align: middle;\n",
              "    }\n",
              "\n",
              "    .dataframe tbody tr th {\n",
              "        vertical-align: top;\n",
              "    }\n",
              "\n",
              "    .dataframe thead th {\n",
              "        text-align: right;\n",
              "    }\n",
              "</style>\n",
              "<table border=\"1\" class=\"dataframe\">\n",
              "  <thead>\n",
              "    <tr style=\"text-align: right;\">\n",
              "      <th></th>\n",
              "      <th>população</th>\n",
              "      <th>popAte9</th>\n",
              "      <th>popDe10a14</th>\n",
              "      <th>popDe15a19</th>\n",
              "      <th>popDe20a24</th>\n",
              "      <th>popDe25a34</th>\n",
              "      <th>popDe35a49</th>\n",
              "      <th>popDe50a59</th>\n",
              "      <th>popMaisDe60</th>\n",
              "      <th>domiciliosA1</th>\n",
              "      <th>domiciliosA2</th>\n",
              "      <th>domiciliosB1</th>\n",
              "      <th>domiciliosB2</th>\n",
              "      <th>domiciliosC1</th>\n",
              "      <th>domiciliosC2</th>\n",
              "      <th>domiciliosD</th>\n",
              "      <th>domiciliosE</th>\n",
              "      <th>rendaMedia</th>\n",
              "      <th>faturamento</th>\n",
              "    </tr>\n",
              "  </thead>\n",
              "  <tbody>\n",
              "    <tr>\n",
              "      <th>count</th>\n",
              "      <td>160.000000</td>\n",
              "      <td>160.00000</td>\n",
              "      <td>160.000000</td>\n",
              "      <td>160.000000</td>\n",
              "      <td>160.000000</td>\n",
              "      <td>160.000000</td>\n",
              "      <td>160.000000</td>\n",
              "      <td>160.000000</td>\n",
              "      <td>160.000000</td>\n",
              "      <td>160.000000</td>\n",
              "      <td>160.000000</td>\n",
              "      <td>160.000000</td>\n",
              "      <td>160.000000</td>\n",
              "      <td>160.000000</td>\n",
              "      <td>160.000000</td>\n",
              "      <td>160.00000</td>\n",
              "      <td>160.000000</td>\n",
              "      <td>160.000000</td>\n",
              "      <td>1.600000e+02</td>\n",
              "    </tr>\n",
              "    <tr>\n",
              "      <th>mean</th>\n",
              "      <td>42654.350000</td>\n",
              "      <td>5329.06250</td>\n",
              "      <td>2484.443750</td>\n",
              "      <td>3272.156250</td>\n",
              "      <td>3349.381250</td>\n",
              "      <td>6584.475000</td>\n",
              "      <td>8826.862500</td>\n",
              "      <td>5332.262500</td>\n",
              "      <td>7475.706250</td>\n",
              "      <td>388.475000</td>\n",
              "      <td>608.268750</td>\n",
              "      <td>1871.562500</td>\n",
              "      <td>2385.075000</td>\n",
              "      <td>3539.850000</td>\n",
              "      <td>3030.806250</td>\n",
              "      <td>568.37500</td>\n",
              "      <td>1821.612500</td>\n",
              "      <td>3558.909375</td>\n",
              "      <td>8.761600e+05</td>\n",
              "    </tr>\n",
              "    <tr>\n",
              "      <th>std</th>\n",
              "      <td>64262.949072</td>\n",
              "      <td>10816.19977</td>\n",
              "      <td>4948.827166</td>\n",
              "      <td>5752.156303</td>\n",
              "      <td>5601.893201</td>\n",
              "      <td>9049.895783</td>\n",
              "      <td>11536.276416</td>\n",
              "      <td>7986.261929</td>\n",
              "      <td>10258.307743</td>\n",
              "      <td>1403.605232</td>\n",
              "      <td>1535.237669</td>\n",
              "      <td>2973.530791</td>\n",
              "      <td>2779.071565</td>\n",
              "      <td>4324.539462</td>\n",
              "      <td>4003.047836</td>\n",
              "      <td>823.92034</td>\n",
              "      <td>2292.079295</td>\n",
              "      <td>5982.697693</td>\n",
              "      <td>4.382106e+05</td>\n",
              "    </tr>\n",
              "    <tr>\n",
              "      <th>min</th>\n",
              "      <td>173.000000</td>\n",
              "      <td>33.00000</td>\n",
              "      <td>13.000000</td>\n",
              "      <td>22.000000</td>\n",
              "      <td>17.000000</td>\n",
              "      <td>28.000000</td>\n",
              "      <td>38.000000</td>\n",
              "      <td>10.000000</td>\n",
              "      <td>12.000000</td>\n",
              "      <td>0.000000</td>\n",
              "      <td>0.000000</td>\n",
              "      <td>0.000000</td>\n",
              "      <td>0.000000</td>\n",
              "      <td>5.000000</td>\n",
              "      <td>3.000000</td>\n",
              "      <td>0.00000</td>\n",
              "      <td>2.000000</td>\n",
              "      <td>654.000000</td>\n",
              "      <td>2.465100e+04</td>\n",
              "    </tr>\n",
              "    <tr>\n",
              "      <th>25%</th>\n",
              "      <td>13362.750000</td>\n",
              "      <td>1512.75000</td>\n",
              "      <td>690.750000</td>\n",
              "      <td>945.000000</td>\n",
              "      <td>994.750000</td>\n",
              "      <td>2131.250000</td>\n",
              "      <td>2900.750000</td>\n",
              "      <td>1598.750000</td>\n",
              "      <td>2118.250000</td>\n",
              "      <td>0.000000</td>\n",
              "      <td>0.000000</td>\n",
              "      <td>391.500000</td>\n",
              "      <td>716.000000</td>\n",
              "      <td>1088.750000</td>\n",
              "      <td>789.750000</td>\n",
              "      <td>117.75000</td>\n",
              "      <td>431.500000</td>\n",
              "      <td>1492.000000</td>\n",
              "      <td>7.112785e+05</td>\n",
              "    </tr>\n",
              "    <tr>\n",
              "      <th>50%</th>\n",
              "      <td>26076.000000</td>\n",
              "      <td>3111.50000</td>\n",
              "      <td>1434.000000</td>\n",
              "      <td>2015.000000</td>\n",
              "      <td>2142.500000</td>\n",
              "      <td>4170.500000</td>\n",
              "      <td>5657.000000</td>\n",
              "      <td>3371.500000</td>\n",
              "      <td>4575.500000</td>\n",
              "      <td>0.000000</td>\n",
              "      <td>107.500000</td>\n",
              "      <td>848.000000</td>\n",
              "      <td>1536.000000</td>\n",
              "      <td>2394.500000</td>\n",
              "      <td>1861.500000</td>\n",
              "      <td>327.50000</td>\n",
              "      <td>1042.500000</td>\n",
              "      <td>1938.500000</td>\n",
              "      <td>8.242285e+05</td>\n",
              "    </tr>\n",
              "    <tr>\n",
              "      <th>75%</th>\n",
              "      <td>46504.500000</td>\n",
              "      <td>5622.25000</td>\n",
              "      <td>2621.500000</td>\n",
              "      <td>3448.750000</td>\n",
              "      <td>3451.750000</td>\n",
              "      <td>7145.250000</td>\n",
              "      <td>9586.750000</td>\n",
              "      <td>6333.250000</td>\n",
              "      <td>9196.000000</td>\n",
              "      <td>1.000000</td>\n",
              "      <td>430.500000</td>\n",
              "      <td>1962.500000</td>\n",
              "      <td>3065.750000</td>\n",
              "      <td>4203.000000</td>\n",
              "      <td>3652.500000</td>\n",
              "      <td>694.00000</td>\n",
              "      <td>2138.250000</td>\n",
              "      <td>2937.500000</td>\n",
              "      <td>9.343208e+05</td>\n",
              "    </tr>\n",
              "    <tr>\n",
              "      <th>max</th>\n",
              "      <td>667603.000000</td>\n",
              "      <td>122578.00000</td>\n",
              "      <td>55935.000000</td>\n",
              "      <td>62342.000000</td>\n",
              "      <td>60567.000000</td>\n",
              "      <td>86116.000000</td>\n",
              "      <td>105316.000000</td>\n",
              "      <td>83341.000000</td>\n",
              "      <td>91408.000000</td>\n",
              "      <td>13408.000000</td>\n",
              "      <td>11668.000000</td>\n",
              "      <td>19350.000000</td>\n",
              "      <td>21237.000000</td>\n",
              "      <td>33111.000000</td>\n",
              "      <td>25779.000000</td>\n",
              "      <td>4956.00000</td>\n",
              "      <td>14833.000000</td>\n",
              "      <td>63887.000000</td>\n",
              "      <td>2.915612e+06</td>\n",
              "    </tr>\n",
              "  </tbody>\n",
              "</table>\n",
              "</div>\n",
              "      <button class=\"colab-df-convert\" onclick=\"convertToInteractive('df-b48d34f9-7ce1-494e-9221-b3d46632cbc6')\"\n",
              "              title=\"Convert this dataframe to an interactive table.\"\n",
              "              style=\"display:none;\">\n",
              "        \n",
              "  <svg xmlns=\"http://www.w3.org/2000/svg\" height=\"24px\"viewBox=\"0 0 24 24\"\n",
              "       width=\"24px\">\n",
              "    <path d=\"M0 0h24v24H0V0z\" fill=\"none\"/>\n",
              "    <path d=\"M18.56 5.44l.94 2.06.94-2.06 2.06-.94-2.06-.94-.94-2.06-.94 2.06-2.06.94zm-11 1L8.5 8.5l.94-2.06 2.06-.94-2.06-.94L8.5 2.5l-.94 2.06-2.06.94zm10 10l.94 2.06.94-2.06 2.06-.94-2.06-.94-.94-2.06-.94 2.06-2.06.94z\"/><path d=\"M17.41 7.96l-1.37-1.37c-.4-.4-.92-.59-1.43-.59-.52 0-1.04.2-1.43.59L10.3 9.45l-7.72 7.72c-.78.78-.78 2.05 0 2.83L4 21.41c.39.39.9.59 1.41.59.51 0 1.02-.2 1.41-.59l7.78-7.78 2.81-2.81c.8-.78.8-2.07 0-2.86zM5.41 20L4 18.59l7.72-7.72 1.47 1.35L5.41 20z\"/>\n",
              "  </svg>\n",
              "      </button>\n",
              "      \n",
              "  <style>\n",
              "    .colab-df-container {\n",
              "      display:flex;\n",
              "      flex-wrap:wrap;\n",
              "      gap: 12px;\n",
              "    }\n",
              "\n",
              "    .colab-df-convert {\n",
              "      background-color: #E8F0FE;\n",
              "      border: none;\n",
              "      border-radius: 50%;\n",
              "      cursor: pointer;\n",
              "      display: none;\n",
              "      fill: #1967D2;\n",
              "      height: 32px;\n",
              "      padding: 0 0 0 0;\n",
              "      width: 32px;\n",
              "    }\n",
              "\n",
              "    .colab-df-convert:hover {\n",
              "      background-color: #E2EBFA;\n",
              "      box-shadow: 0px 1px 2px rgba(60, 64, 67, 0.3), 0px 1px 3px 1px rgba(60, 64, 67, 0.15);\n",
              "      fill: #174EA6;\n",
              "    }\n",
              "\n",
              "    [theme=dark] .colab-df-convert {\n",
              "      background-color: #3B4455;\n",
              "      fill: #D2E3FC;\n",
              "    }\n",
              "\n",
              "    [theme=dark] .colab-df-convert:hover {\n",
              "      background-color: #434B5C;\n",
              "      box-shadow: 0px 1px 3px 1px rgba(0, 0, 0, 0.15);\n",
              "      filter: drop-shadow(0px 1px 2px rgba(0, 0, 0, 0.3));\n",
              "      fill: #FFFFFF;\n",
              "    }\n",
              "  </style>\n",
              "\n",
              "      <script>\n",
              "        const buttonEl =\n",
              "          document.querySelector('#df-b48d34f9-7ce1-494e-9221-b3d46632cbc6 button.colab-df-convert');\n",
              "        buttonEl.style.display =\n",
              "          google.colab.kernel.accessAllowed ? 'block' : 'none';\n",
              "\n",
              "        async function convertToInteractive(key) {\n",
              "          const element = document.querySelector('#df-b48d34f9-7ce1-494e-9221-b3d46632cbc6');\n",
              "          const dataTable =\n",
              "            await google.colab.kernel.invokeFunction('convertToInteractive',\n",
              "                                                     [key], {});\n",
              "          if (!dataTable) return;\n",
              "\n",
              "          const docLinkHtml = 'Like what you see? Visit the ' +\n",
              "            '<a target=\"_blank\" href=https://colab.research.google.com/notebooks/data_table.ipynb>data table notebook</a>'\n",
              "            + ' to learn more about interactive tables.';\n",
              "          element.innerHTML = '';\n",
              "          dataTable['output_type'] = 'display_data';\n",
              "          await google.colab.output.renderOutput(dataTable, element);\n",
              "          const docLink = document.createElement('div');\n",
              "          docLink.innerHTML = docLinkHtml;\n",
              "          element.appendChild(docLink);\n",
              "        }\n",
              "      </script>\n",
              "    </div>\n",
              "  </div>\n",
              "  "
            ]
          },
          "metadata": {},
          "execution_count": 148
        }
      ]
    },
    {
      "cell_type": "markdown",
      "source": [
        "# Visualizações"
      ],
      "metadata": {
        "id": "yuZjwfv1HsQ_"
      }
    },
    {
      "cell_type": "code",
      "source": [
        "fat_pot_rj_pop = fat_pot_rj.iloc[:, 3:12]\n",
        "fat_pot_rj_pop.head()"
      ],
      "metadata": {
        "colab": {
          "base_uri": "https://localhost:8080/",
          "height": 206
        },
        "id": "7eMSDvppAbHo",
        "outputId": "c864ac64-0754-4f00-e745-7f38568d8e55"
      },
      "execution_count": null,
      "outputs": [
        {
          "output_type": "execute_result",
          "data": {
            "text/plain": [
              "   popDe10a14  popDe15a19  popDe20a24  popDe25a34  popDe35a49  popDe50a59  \\\n",
              "0         483         688         800        1675        2300        1784   \n",
              "1        2188        2697        2630        4810        5308        2403   \n",
              "2         399         597         762        1755        2076        1112   \n",
              "3         538         660         685        1317        2007        1341   \n",
              "4        3774        4892        4600        8660       12272        7157   \n",
              "\n",
              "   popMaisDe60  domiciliosA1  domiciliosA2  \n",
              "0         2919             0           145  \n",
              "1         2397             0             0  \n",
              "2         1419             0            96  \n",
              "3         1986           114           178  \n",
              "4         8190             0             0  "
            ],
            "text/html": [
              "\n",
              "  <div id=\"df-ee9ba00b-16b1-4a0b-b779-dc33318ff286\">\n",
              "    <div class=\"colab-df-container\">\n",
              "      <div>\n",
              "<style scoped>\n",
              "    .dataframe tbody tr th:only-of-type {\n",
              "        vertical-align: middle;\n",
              "    }\n",
              "\n",
              "    .dataframe tbody tr th {\n",
              "        vertical-align: top;\n",
              "    }\n",
              "\n",
              "    .dataframe thead th {\n",
              "        text-align: right;\n",
              "    }\n",
              "</style>\n",
              "<table border=\"1\" class=\"dataframe\">\n",
              "  <thead>\n",
              "    <tr style=\"text-align: right;\">\n",
              "      <th></th>\n",
              "      <th>popDe10a14</th>\n",
              "      <th>popDe15a19</th>\n",
              "      <th>popDe20a24</th>\n",
              "      <th>popDe25a34</th>\n",
              "      <th>popDe35a49</th>\n",
              "      <th>popDe50a59</th>\n",
              "      <th>popMaisDe60</th>\n",
              "      <th>domiciliosA1</th>\n",
              "      <th>domiciliosA2</th>\n",
              "    </tr>\n",
              "  </thead>\n",
              "  <tbody>\n",
              "    <tr>\n",
              "      <th>0</th>\n",
              "      <td>483</td>\n",
              "      <td>688</td>\n",
              "      <td>800</td>\n",
              "      <td>1675</td>\n",
              "      <td>2300</td>\n",
              "      <td>1784</td>\n",
              "      <td>2919</td>\n",
              "      <td>0</td>\n",
              "      <td>145</td>\n",
              "    </tr>\n",
              "    <tr>\n",
              "      <th>1</th>\n",
              "      <td>2188</td>\n",
              "      <td>2697</td>\n",
              "      <td>2630</td>\n",
              "      <td>4810</td>\n",
              "      <td>5308</td>\n",
              "      <td>2403</td>\n",
              "      <td>2397</td>\n",
              "      <td>0</td>\n",
              "      <td>0</td>\n",
              "    </tr>\n",
              "    <tr>\n",
              "      <th>2</th>\n",
              "      <td>399</td>\n",
              "      <td>597</td>\n",
              "      <td>762</td>\n",
              "      <td>1755</td>\n",
              "      <td>2076</td>\n",
              "      <td>1112</td>\n",
              "      <td>1419</td>\n",
              "      <td>0</td>\n",
              "      <td>96</td>\n",
              "    </tr>\n",
              "    <tr>\n",
              "      <th>3</th>\n",
              "      <td>538</td>\n",
              "      <td>660</td>\n",
              "      <td>685</td>\n",
              "      <td>1317</td>\n",
              "      <td>2007</td>\n",
              "      <td>1341</td>\n",
              "      <td>1986</td>\n",
              "      <td>114</td>\n",
              "      <td>178</td>\n",
              "    </tr>\n",
              "    <tr>\n",
              "      <th>4</th>\n",
              "      <td>3774</td>\n",
              "      <td>4892</td>\n",
              "      <td>4600</td>\n",
              "      <td>8660</td>\n",
              "      <td>12272</td>\n",
              "      <td>7157</td>\n",
              "      <td>8190</td>\n",
              "      <td>0</td>\n",
              "      <td>0</td>\n",
              "    </tr>\n",
              "  </tbody>\n",
              "</table>\n",
              "</div>\n",
              "      <button class=\"colab-df-convert\" onclick=\"convertToInteractive('df-ee9ba00b-16b1-4a0b-b779-dc33318ff286')\"\n",
              "              title=\"Convert this dataframe to an interactive table.\"\n",
              "              style=\"display:none;\">\n",
              "        \n",
              "  <svg xmlns=\"http://www.w3.org/2000/svg\" height=\"24px\"viewBox=\"0 0 24 24\"\n",
              "       width=\"24px\">\n",
              "    <path d=\"M0 0h24v24H0V0z\" fill=\"none\"/>\n",
              "    <path d=\"M18.56 5.44l.94 2.06.94-2.06 2.06-.94-2.06-.94-.94-2.06-.94 2.06-2.06.94zm-11 1L8.5 8.5l.94-2.06 2.06-.94-2.06-.94L8.5 2.5l-.94 2.06-2.06.94zm10 10l.94 2.06.94-2.06 2.06-.94-2.06-.94-.94-2.06-.94 2.06-2.06.94z\"/><path d=\"M17.41 7.96l-1.37-1.37c-.4-.4-.92-.59-1.43-.59-.52 0-1.04.2-1.43.59L10.3 9.45l-7.72 7.72c-.78.78-.78 2.05 0 2.83L4 21.41c.39.39.9.59 1.41.59.51 0 1.02-.2 1.41-.59l7.78-7.78 2.81-2.81c.8-.78.8-2.07 0-2.86zM5.41 20L4 18.59l7.72-7.72 1.47 1.35L5.41 20z\"/>\n",
              "  </svg>\n",
              "      </button>\n",
              "      \n",
              "  <style>\n",
              "    .colab-df-container {\n",
              "      display:flex;\n",
              "      flex-wrap:wrap;\n",
              "      gap: 12px;\n",
              "    }\n",
              "\n",
              "    .colab-df-convert {\n",
              "      background-color: #E8F0FE;\n",
              "      border: none;\n",
              "      border-radius: 50%;\n",
              "      cursor: pointer;\n",
              "      display: none;\n",
              "      fill: #1967D2;\n",
              "      height: 32px;\n",
              "      padding: 0 0 0 0;\n",
              "      width: 32px;\n",
              "    }\n",
              "\n",
              "    .colab-df-convert:hover {\n",
              "      background-color: #E2EBFA;\n",
              "      box-shadow: 0px 1px 2px rgba(60, 64, 67, 0.3), 0px 1px 3px 1px rgba(60, 64, 67, 0.15);\n",
              "      fill: #174EA6;\n",
              "    }\n",
              "\n",
              "    [theme=dark] .colab-df-convert {\n",
              "      background-color: #3B4455;\n",
              "      fill: #D2E3FC;\n",
              "    }\n",
              "\n",
              "    [theme=dark] .colab-df-convert:hover {\n",
              "      background-color: #434B5C;\n",
              "      box-shadow: 0px 1px 3px 1px rgba(0, 0, 0, 0.15);\n",
              "      filter: drop-shadow(0px 1px 2px rgba(0, 0, 0, 0.3));\n",
              "      fill: #FFFFFF;\n",
              "    }\n",
              "  </style>\n",
              "\n",
              "      <script>\n",
              "        const buttonEl =\n",
              "          document.querySelector('#df-ee9ba00b-16b1-4a0b-b779-dc33318ff286 button.colab-df-convert');\n",
              "        buttonEl.style.display =\n",
              "          google.colab.kernel.accessAllowed ? 'block' : 'none';\n",
              "\n",
              "        async function convertToInteractive(key) {\n",
              "          const element = document.querySelector('#df-ee9ba00b-16b1-4a0b-b779-dc33318ff286');\n",
              "          const dataTable =\n",
              "            await google.colab.kernel.invokeFunction('convertToInteractive',\n",
              "                                                     [key], {});\n",
              "          if (!dataTable) return;\n",
              "\n",
              "          const docLinkHtml = 'Like what you see? Visit the ' +\n",
              "            '<a target=\"_blank\" href=https://colab.research.google.com/notebooks/data_table.ipynb>data table notebook</a>'\n",
              "            + ' to learn more about interactive tables.';\n",
              "          element.innerHTML = '';\n",
              "          dataTable['output_type'] = 'display_data';\n",
              "          await google.colab.output.renderOutput(dataTable, element);\n",
              "          const docLink = document.createElement('div');\n",
              "          docLink.innerHTML = docLinkHtml;\n",
              "          element.appendChild(docLink);\n",
              "        }\n",
              "      </script>\n",
              "    </div>\n",
              "  </div>\n",
              "  "
            ]
          },
          "metadata": {},
          "execution_count": 149
        }
      ]
    },
    {
      "cell_type": "code",
      "source": [
        "fat_pot_rj_pop.boxplot(grid=False, figsize=(25, 12))"
      ],
      "metadata": {
        "colab": {
          "base_uri": "https://localhost:8080/",
          "height": 734
        },
        "id": "X5YHOry_Ab1r",
        "outputId": "16283c44-4be2-4e92-d1f1-fd6adde86885"
      },
      "execution_count": null,
      "outputs": [
        {
          "output_type": "execute_result",
          "data": {
            "text/plain": [
              "<Axes: >"
            ]
          },
          "metadata": {},
          "execution_count": 150
        },
        {
          "output_type": "display_data",
          "data": {
            "text/plain": [
              "<Figure size 2500x1200 with 1 Axes>"
            ],
            "image/png": "[encoded data removed]"
          },
          "metadata": {}
        }
      ]
    },
    {
      "cell_type": "code",
      "source": [
        "fat_pot_rj_dom = fat_pot_rj.iloc[:, 13:20]\n",
        "fat_pot_rj_dom.head()"
      ],
      "metadata": {
        "colab": {
          "base_uri": "https://localhost:8080/",
          "height": 206
        },
        "id": "zZpVQMmCHo9H",
        "outputId": "d1348d0b-0460-4e58-9f37-d6f00a1bacbd"
      },
      "execution_count": null,
      "outputs": [
        {
          "output_type": "execute_result",
          "data": {
            "text/plain": [
              "   domiciliosB2  domiciliosC1  domiciliosC2  domiciliosD  domiciliosE  \\\n",
              "0          1242          1093           758           92          304   \n",
              "1           506          2040          2490          827         2506   \n",
              "2           652           644           522           77          254   \n",
              "3           517           945           584          137          286   \n",
              "4          2821          5110          5422         1073         3261   \n",
              "\n",
              "   rendaMedia  faturamento  \n",
              "0      2501.0     932515.0  \n",
              "1       931.0     588833.0  \n",
              "2      2391.0     874200.0  \n",
              "3      3727.0     912226.0  \n",
              "4      1380.0     553020.0  "
            ],
            "text/html": [
              "\n",
              "  <div id=\"df-f314c439-6a9c-4270-b7c6-f52744e667fb\">\n",
              "    <div class=\"colab-df-container\">\n",
              "      <div>\n",
              "<style scoped>\n",
              "    .dataframe tbody tr th:only-of-type {\n",
              "        vertical-align: middle;\n",
              "    }\n",
              "\n",
              "    .dataframe tbody tr th {\n",
              "        vertical-align: top;\n",
              "    }\n",
              "\n",
              "    .dataframe thead th {\n",
              "        text-align: right;\n",
              "    }\n",
              "</style>\n",
              "<table border=\"1\" class=\"dataframe\">\n",
              "  <thead>\n",
              "    <tr style=\"text-align: right;\">\n",
              "      <th></th>\n",
              "      <th>domiciliosB2</th>\n",
              "      <th>domiciliosC1</th>\n",
              "      <th>domiciliosC2</th>\n",
              "      <th>domiciliosD</th>\n",
              "      <th>domiciliosE</th>\n",
              "      <th>rendaMedia</th>\n",
              "      <th>faturamento</th>\n",
              "    </tr>\n",
              "  </thead>\n",
              "  <tbody>\n",
              "    <tr>\n",
              "      <th>0</th>\n",
              "      <td>1242</td>\n",
              "      <td>1093</td>\n",
              "      <td>758</td>\n",
              "      <td>92</td>\n",
              "      <td>304</td>\n",
              "      <td>2501.0</td>\n",
              "      <td>932515.0</td>\n",
              "    </tr>\n",
              "    <tr>\n",
              "      <th>1</th>\n",
              "      <td>506</td>\n",
              "      <td>2040</td>\n",
              "      <td>2490</td>\n",
              "      <td>827</td>\n",
              "      <td>2506</td>\n",
              "      <td>931.0</td>\n",
              "      <td>588833.0</td>\n",
              "    </tr>\n",
              "    <tr>\n",
              "      <th>2</th>\n",
              "      <td>652</td>\n",
              "      <td>644</td>\n",
              "      <td>522</td>\n",
              "      <td>77</td>\n",
              "      <td>254</td>\n",
              "      <td>2391.0</td>\n",
              "      <td>874200.0</td>\n",
              "    </tr>\n",
              "    <tr>\n",
              "      <th>3</th>\n",
              "      <td>517</td>\n",
              "      <td>945</td>\n",
              "      <td>584</td>\n",
              "      <td>137</td>\n",
              "      <td>286</td>\n",
              "      <td>3727.0</td>\n",
              "      <td>912226.0</td>\n",
              "    </tr>\n",
              "    <tr>\n",
              "      <th>4</th>\n",
              "      <td>2821</td>\n",
              "      <td>5110</td>\n",
              "      <td>5422</td>\n",
              "      <td>1073</td>\n",
              "      <td>3261</td>\n",
              "      <td>1380.0</td>\n",
              "      <td>553020.0</td>\n",
              "    </tr>\n",
              "  </tbody>\n",
              "</table>\n",
              "</div>\n",
              "      <button class=\"colab-df-convert\" onclick=\"convertToInteractive('df-f314c439-6a9c-4270-b7c6-f52744e667fb')\"\n",
              "              title=\"Convert this dataframe to an interactive table.\"\n",
              "              style=\"display:none;\">\n",
              "        \n",
              "  <svg xmlns=\"http://www.w3.org/2000/svg\" height=\"24px\"viewBox=\"0 0 24 24\"\n",
              "       width=\"24px\">\n",
              "    <path d=\"M0 0h24v24H0V0z\" fill=\"none\"/>\n",
              "    <path d=\"M18.56 5.44l.94 2.06.94-2.06 2.06-.94-2.06-.94-.94-2.06-.94 2.06-2.06.94zm-11 1L8.5 8.5l.94-2.06 2.06-.94-2.06-.94L8.5 2.5l-.94 2.06-2.06.94zm10 10l.94 2.06.94-2.06 2.06-.94-2.06-.94-.94-2.06-.94 2.06-2.06.94z\"/><path d=\"M17.41 7.96l-1.37-1.37c-.4-.4-.92-.59-1.43-.59-.52 0-1.04.2-1.43.59L10.3 9.45l-7.72 7.72c-.78.78-.78 2.05 0 2.83L4 21.41c.39.39.9.59 1.41.59.51 0 1.02-.2 1.41-.59l7.78-7.78 2.81-2.81c.8-.78.8-2.07 0-2.86zM5.41 20L4 18.59l7.72-7.72 1.47 1.35L5.41 20z\"/>\n",
              "  </svg>\n",
              "      </button>\n",
              "      \n",
              "  <style>\n",
              "    .colab-df-container {\n",
              "      display:flex;\n",
              "      flex-wrap:wrap;\n",
              "      gap: 12px;\n",
              "    }\n",
              "\n",
              "    .colab-df-convert {\n",
              "      background-color: #E8F0FE;\n",
              "      border: none;\n",
              "      border-radius: 50%;\n",
              "      cursor: pointer;\n",
              "      display: none;\n",
              "      fill: #1967D2;\n",
              "      height: 32px;\n",
              "      padding: 0 0 0 0;\n",
              "      width: 32px;\n",
              "    }\n",
              "\n",
              "    .colab-df-convert:hover {\n",
              "      background-color: #E2EBFA;\n",
              "      box-shadow: 0px 1px 2px rgba(60, 64, 67, 0.3), 0px 1px 3px 1px rgba(60, 64, 67, 0.15);\n",
              "      fill: #174EA6;\n",
              "    }\n",
              "\n",
              "    [theme=dark] .colab-df-convert {\n",
              "      background-color: #3B4455;\n",
              "      fill: #D2E3FC;\n",
              "    }\n",
              "\n",
              "    [theme=dark] .colab-df-convert:hover {\n",
              "      background-color: #434B5C;\n",
              "      box-shadow: 0px 1px 3px 1px rgba(0, 0, 0, 0.15);\n",
              "      filter: drop-shadow(0px 1px 2px rgba(0, 0, 0, 0.3));\n",
              "      fill: #FFFFFF;\n",
              "    }\n",
              "  </style>\n",
              "\n",
              "      <script>\n",
              "        const buttonEl =\n",
              "          document.querySelector('#df-f314c439-6a9c-4270-b7c6-f52744e667fb button.colab-df-convert');\n",
              "        buttonEl.style.display =\n",
              "          google.colab.kernel.accessAllowed ? 'block' : 'none';\n",
              "\n",
              "        async function convertToInteractive(key) {\n",
              "          const element = document.querySelector('#df-f314c439-6a9c-4270-b7c6-f52744e667fb');\n",
              "          const dataTable =\n",
              "            await google.colab.kernel.invokeFunction('convertToInteractive',\n",
              "                                                     [key], {});\n",
              "          if (!dataTable) return;\n",
              "\n",
              "          const docLinkHtml = 'Like what you see? Visit the ' +\n",
              "            '<a target=\"_blank\" href=https://colab.research.google.com/notebooks/data_table.ipynb>data table notebook</a>'\n",
              "            + ' to learn more about interactive tables.';\n",
              "          element.innerHTML = '';\n",
              "          dataTable['output_type'] = 'display_data';\n",
              "          await google.colab.output.renderOutput(dataTable, element);\n",
              "          const docLink = document.createElement('div');\n",
              "          docLink.innerHTML = docLinkHtml;\n",
              "          element.appendChild(docLink);\n",
              "        }\n",
              "      </script>\n",
              "    </div>\n",
              "  </div>\n",
              "  "
            ]
          },
          "metadata": {},
          "execution_count": 151
        }
      ]
    },
    {
      "cell_type": "code",
      "source": [
        "fat_pot_rj_dom.boxplot(grid=False, figsize=(25, 12))"
      ],
      "metadata": {
        "colab": {
          "base_uri": "https://localhost:8080/",
          "height": 732
        },
        "id": "QNo4Pg-XH29U",
        "outputId": "95090716-fa64-4079-9749-c0cb0c8e3cc3"
      },
      "execution_count": null,
      "outputs": [
        {
          "output_type": "execute_result",
          "data": {
            "text/plain": [
              "<Axes: >"
            ]
          },
          "metadata": {},
          "execution_count": 152
        },
        {
          "output_type": "display_data",
          "data": {
            "text/plain": [
              "<Figure size 2500x1200 with 1 Axes>"
            ],
            "image/png": "[encoded data removed]"
          },
          "metadata": {}
        }
      ]
    },
    {
      "cell_type": "code",
      "source": [
        "plt.boxplot(fat_pot_rj.faturamento)\n",
        "plt.show()"
      ],
      "metadata": {
        "colab": {
          "base_uri": "https://localhost:8080/",
          "height": 426
        },
        "id": "RkkPwFXXK3UA",
        "outputId": "48b0f041-9376-4b99-b0a0-cddf1bd15b98"
      },
      "execution_count": null,
      "outputs": [
        {
          "output_type": "display_data",
          "data": {
            "text/plain": [
              "<Figure size 640x480 with 1 Axes>"
            ],
            "image/png": "[encoded data removed]"
          },
          "metadata": {}
        }
      ]
    },
    {
      "cell_type": "code",
      "source": [
        "plt.figure(figsize=(10,10))\n",
        "sns.heatmap(fat_pot_rj.corr(), annot=True, cmap='crest')"
      ],
      "metadata": {
        "colab": {
          "base_uri": "https://localhost:8080/",
          "height": 906
        },
        "id": "DoBD7rko8mHS",
        "outputId": "9ee352e6-3145-41a9-d89b-a82de12fafa0"
      },
      "execution_count": null,
      "outputs": [
        {
          "output_type": "execute_result",
          "data": {
            "text/plain": [
              "<Axes: >"
            ]
          },
          "metadata": {},
          "execution_count": 154
        },
        {
          "output_type": "display_data",
          "data": {
            "text/plain": [
              "<Figure size 1000x1000 with 2 Axes>"
            ],
            "image/png": "[encoded data removed]"
          },
          "metadata": {}
        }
      ]
    },
    {
      "cell_type": "code",
      "source": [
        "fat_pot_rj.drop(['população'], axis=1, inplace = True)\n",
        "fat_pot_sp.drop(['população'], axis=1, inplace = True)"
      ],
      "metadata": {
        "id": "3IXq72ExedWe"
      },
      "execution_count": 11,
      "outputs": []
    },
    {
      "cell_type": "code",
      "source": [
        "# my_report_rj = sv.analyze(fat_pot_rj)\n",
        "# my_report_rj.show_html('Análise do faturamento do Rio de Janeiro.html')"
      ],
      "metadata": {
        "id": "Czkml6Fos0bW"
      },
      "execution_count": null,
      "outputs": []
    },
    {
      "cell_type": "code",
      "source": [
        "# my_report_sp = sv.analyze(fat_pot_sp)\n",
        "# my_report_sp.show_html('Análise do faturamento de São Paulo.html')"
      ],
      "metadata": {
        "id": "QIvPiPoBzPCp"
      },
      "execution_count": null,
      "outputs": []
    },
    {
      "cell_type": "code",
      "source": [
        "my_report = sv.compare([fat_pot_rj, 'Rio de Janeiro'], [fat_pot_sp, 'São Paulo'])\n",
        "my_report.show_html('Análise do faturamento comparativo.html')"
      ],
      "metadata": {
        "colab": {
          "base_uri": "https://localhost:8080/",
          "height": 66,
          "referenced_widgets": [
            "ee1037336bf641e39a855b530383c77f",
            "e9371aff1d4b460fa9b3bb4f51149354",
            "8a398358be3c4384812dda5399a0ee0b",
            "0ec4697884314cd69c1217037248af16",
            "75f4bfd9a4594d7c953295edd28effb4",
            "d24a8515cbde4b508da45696ac5781e0",
            "85aef762d9e84890b5a688150fb16ad9",
            "ea248d03703743a08e26eb96feac1445",
            "28853401c12e439d9feab03bb179acd1",
            "8eab0994c4e74c8da915d05bced7ef4e",
            "25aa85b8ffd34778b077051ddb9e8d52"
          ]
        },
        "id": "KfCwLHawF4-7",
        "outputId": "8c6fe5dc-0ff6-4f97-926d-d9b083e531b0"
      },
      "execution_count": null,
      "outputs": [
        {
          "output_type": "display_data",
          "data": {
            "text/plain": [
              "                                             |          | [  0%]   00:00 -> (? left)"
            ],
            "application/vnd.jupyter.widget-view+json": {
              "version_major": 2,
              "version_minor": 0,
              "model_id": "ee1037336bf641e39a855b530383c77f"
            }
          },
          "metadata": {}
        },
        {
          "output_type": "stream",
          "name": "stdout",
          "text": [
            "Report Análise do faturamento comparativo.html was generated! NOTEBOOK/COLAB USERS: the web browser MAY not pop up, regardless, the report IS saved in your notebook/colab files.\n"
          ]
        }
      ]
    },
    {
      "cell_type": "markdown",
      "source": [
        "# Escolhendo o melhor modelo de regressão"
      ],
      "metadata": {
        "id": "BvyoNH7sQfu0"
      }
    },
    {
      "cell_type": "code",
      "source": [
        "fat_pot_rj_mr = fat_pot_rj.drop(['potencial', 'nome'], axis=1)"
      ],
      "metadata": {
        "id": "F2XHPwCJjs3e"
      },
      "execution_count": 12,
      "outputs": []
    },
    {
      "cell_type": "code",
      "source": [
        "X = fat_pot_rj_mr.drop(columns = ['faturamento']).copy()\n",
        "y = fat_pot_rj_mr['faturamento']"
      ],
      "metadata": {
        "id": "Xa17FqojExfq"
      },
      "execution_count": 13,
      "outputs": []
    },
    {
      "cell_type": "code",
      "source": [
        "X_train, X_test, y_train, y_test = train_test_split(X,y, train_size=0.7, random_state=7)"
      ],
      "metadata": {
        "id": "P9vLFXbcFaFd"
      },
      "execution_count": 14,
      "outputs": []
    },
    {
      "cell_type": "markdown",
      "source": [
        "Linear Regression"
      ],
      "metadata": {
        "id": "PZatxaA5dtyQ"
      }
    },
    {
      "cell_type": "code",
      "source": [
        "regr = LinearRegression()"
      ],
      "metadata": {
        "id": "mH_WtppXFZ_Z"
      },
      "execution_count": null,
      "outputs": []
    },
    {
      "cell_type": "code",
      "source": [
        "regr.fit(X_train, y_train)"
      ],
      "metadata": {
        "colab": {
          "base_uri": "https://localhost:8080/",
          "height": 75
        },
        "id": "kgqKejVGFwNo",
        "outputId": "d81857ee-cdaa-416a-8658-80a118325b29"
      },
      "execution_count": null,
      "outputs": [
        {
          "output_type": "execute_result",
          "data": {
            "text/plain": [
              "LinearRegression()"
            ],
            "text/html": [
              "<style>#sk-container-id-2 {color: black;background-color: white;}#sk-container-id-2 pre{padding: 0;}#sk-container-id-2 div.sk-toggleable {background-color: white;}#sk-container-id-2 label.sk-toggleable__label {cursor: pointer;display: block;width: 100%;margin-bottom: 0;padding: 0.3em;box-sizing: border-box;text-align: center;}#sk-container-id-2 label.sk-toggleable__label-arrow:before {content: \"▸\";float: left;margin-right: 0.25em;color: #696969;}#sk-container-id-2 label.sk-toggleable__label-arrow:hover:before {color: black;}#sk-container-id-2 div.sk-estimator:hover label.sk-toggleable__label-arrow:before {color: black;}#sk-container-id-2 div.sk-toggleable__content {max-height: 0;max-width: 0;overflow: hidden;text-align: left;background-color: #f0f8ff;}#sk-container-id-2 div.sk-toggleable__content pre {margin: 0.2em;color: black;border-radius: 0.25em;background-color: #f0f8ff;}#sk-container-id-2 input.sk-toggleable__control:checked~div.sk-toggleable__content {max-height: 200px;max-width: 100%;overflow: auto;}#sk-container-id-2 input.sk-toggleable__control:checked~label.sk-toggleable__label-arrow:before {content: \"▾\";}#sk-container-id-2 div.sk-estimator input.sk-toggleable__control:checked~label.sk-toggleable__label {background-color: #d4ebff;}#sk-container-id-2 div.sk-label input.sk-toggleable__control:checked~label.sk-toggleable__label {background-color: #d4ebff;}#sk-container-id-2 input.sk-hidden--visually {border: 0;clip: rect(1px 1px 1px 1px);clip: rect(1px, 1px, 1px, 1px);height: 1px;margin: -1px;overflow: hidden;padding: 0;position: absolute;width: 1px;}#sk-container-id-2 div.sk-estimator {font-family: monospace;background-color: #f0f8ff;border: 1px dotted black;border-radius: 0.25em;box-sizing: border-box;margin-bottom: 0.5em;}#sk-container-id-2 div.sk-estimator:hover {background-color: #d4ebff;}#sk-container-id-2 div.sk-parallel-item::after {content: \"\";width: 100%;border-bottom: 1px solid gray;flex-grow: 1;}#sk-container-id-2 div.sk-label:hover label.sk-toggleable__label {background-color: #d4ebff;}#sk-container-id-2 div.sk-serial::before {content: \"\";position: absolute;border-left: 1px solid gray;box-sizing: border-box;top: 0;bottom: 0;left: 50%;z-index: 0;}#sk-container-id-2 div.sk-serial {display: flex;flex-direction: column;align-items: center;background-color: white;padding-right: 0.2em;padding-left: 0.2em;position: relative;}#sk-container-id-2 div.sk-item {position: relative;z-index: 1;}#sk-container-id-2 div.sk-parallel {display: flex;align-items: stretch;justify-content: center;background-color: white;position: relative;}#sk-container-id-2 div.sk-item::before, #sk-container-id-2 div.sk-parallel-item::before {content: \"\";position: absolute;border-left: 1px solid gray;box-sizing: border-box;top: 0;bottom: 0;left: 50%;z-index: -1;}#sk-container-id-2 div.sk-parallel-item {display: flex;flex-direction: column;z-index: 1;position: relative;background-color: white;}#sk-container-id-2 div.sk-parallel-item:first-child::after {align-self: flex-end;width: 50%;}#sk-container-id-2 div.sk-parallel-item:last-child::after {align-self: flex-start;width: 50%;}#sk-container-id-2 div.sk-parallel-item:only-child::after {width: 0;}#sk-container-id-2 div.sk-dashed-wrapped {border: 1px dashed gray;margin: 0 0.4em 0.5em 0.4em;box-sizing: border-box;padding-bottom: 0.4em;background-color: white;}#sk-container-id-2 div.sk-label label {font-family: monospace;font-weight: bold;display: inline-block;line-height: 1.2em;}#sk-container-id-2 div.sk-label-container {text-align: center;}#sk-container-id-2 div.sk-container {/* jupyter's `normalize.less` sets `[hidden] { display: none; }` but bootstrap.min.css set `[hidden] { display: none !important; }` so we also need the `!important` here to be able to override the default hidden behavior on the sphinx rendered scikit-learn.org. See: https://github.com/scikit-learn/scikit-learn/issues/21755 */display: inline-block !important;position: relative;}#sk-container-id-2 div.sk-text-repr-fallback {display: none;}</style><div id=\"sk-container-id-2\" class=\"sk-top-container\"><div class=\"sk-text-repr-fallback\"><pre>LinearRegression()</pre><b>In a Jupyter environment, please rerun this cell to show the HTML representation or trust the notebook. <br />On GitHub, the HTML representation is unable to render, please try loading this page with nbviewer.org.</b></div><div class=\"sk-container\" hidden><div class=\"sk-item\"><div class=\"sk-estimator sk-toggleable\"><input class=\"sk-toggleable__control sk-hidden--visually\" id=\"sk-estimator-id-2\" type=\"checkbox\" checked><label for=\"sk-estimator-id-2\" class=\"sk-toggleable__label sk-toggleable__label-arrow\">LinearRegression</label><div class=\"sk-toggleable__content\"><pre>LinearRegression()</pre></div></div></div></div></div>"
            ]
          },
          "metadata": {},
          "execution_count": 161
        }
      ]
    },
    {
      "cell_type": "code",
      "source": [
        "y_pred = regr.predict(X_test)"
      ],
      "metadata": {
        "id": "dhl8m3uOF8QL"
      },
      "execution_count": null,
      "outputs": []
    },
    {
      "cell_type": "code",
      "source": [
        "print(\"Coeficientes: \\n\", regr.coef_)\n",
        "# Mean Squared Error\n",
        "print(\"MSE: %.2f\" % mean_squared_error(y_test, y_pred))\n",
        "# Root Mean Squared Error\n",
        "print(\"RMSE: %.2f\" % np.sqrt(mean_squared_error(y_test, y_pred)))\n",
        "# Coeficiente de determinação R2\n",
        "print(\"R2: %.2f\" % r2_score(y_test, y_pred))"
      ],
      "metadata": {
        "colab": {
          "base_uri": "https://localhost:8080/"
        },
        "id": "lzHw1A10F8F0",
        "outputId": "7941a3cc-09a3-4901-b891-227b1030cc5d"
      },
      "execution_count": null,
      "outputs": [
        {
          "output_type": "stream",
          "name": "stdout",
          "text": [
            "Coeficientes: \n",
            " [  15.93432789 -167.35253427  171.18752122 -166.14724046  113.77641458\n",
            " -105.38543494  113.0473496   -25.4819271   -16.33091346   84.48454818\n",
            "   41.71161591   67.88470679  -28.14622537  -23.53816523 -134.92968596\n",
            "   31.3037263    34.25509372]\n",
            "MSE: 58608373290.99\n",
            "RMSE: 242091.66\n",
            "R2: 0.65\n"
          ]
        }
      ]
    },
    {
      "cell_type": "markdown",
      "source": [
        "Support Vector Regression"
      ],
      "metadata": {
        "id": "FPyf2iUAegk8"
      }
    },
    {
      "cell_type": "code",
      "source": [
        "# Fit regression model\n",
        "svr = make_pipeline(StandardScaler(), SVR())\n",
        "svr.fit(X_train, y_train)\n",
        "# Predict\n",
        "y_pred = svr.predict(X_test)\n",
        "print(y_pred)"
      ],
      "metadata": {
        "id": "Jy42DeQyeq4C",
        "colab": {
          "base_uri": "https://localhost:8080/"
        },
        "outputId": "aa23aaf1-7d7f-43a9-d65a-32ec596b8ca3"
      },
      "execution_count": null,
      "outputs": [
        {
          "output_type": "stream",
          "name": "stdout",
          "text": [
            "[809612.43813112 809604.20586264 809605.67512285 809616.91319026\n",
            " 809613.18664315 809617.79125572 809617.59593529 809599.25819498\n",
            " 809603.2767731  809609.34177624 809607.95880419 809612.64050498\n",
            " 809607.43083785 809610.56289469 809607.70665863 809613.84752497\n",
            " 809612.56907233 809609.4424687  809614.98802359 809608.248936\n",
            " 809608.59908588 809612.55748402 809611.05619403 809614.17772023\n",
            " 809611.63256987 809610.8649383  809607.98430747 809610.84018152\n",
            " 809604.33462074 809619.28733889 809602.52031929 809612.93007033\n",
            " 809608.66235562 809610.41791764 809614.66939369 809612.80607802\n",
            " 809608.2968001  809613.88310959 809618.8761612  809616.31379951\n",
            " 809610.71907803 809612.18557037 809606.36845827 809611.04418967\n",
            " 809608.51272713 809611.91684405 809612.72412053 809604.26376719]\n"
          ]
        }
      ]
    },
    {
      "cell_type": "code",
      "source": [
        "# Mean Squared Error\n",
        "print(\"MSE: %.2f\" % mean_squared_error(y_test, y_pred))\n",
        "# Root Mean Squared Error\n",
        "print(\"RMSE: %.2f\" % np.sqrt(mean_squared_error(y_test, y_pred)))\n",
        "# Coeficiente de determinação R2\n",
        "print(\"R2: %.2f\" % r2_score(y_test, y_pred))"
      ],
      "metadata": {
        "colab": {
          "base_uri": "https://localhost:8080/"
        },
        "id": "Q_lHpzL2fDVS",
        "outputId": "23416f99-6699-4e50-bbc4-ccfb04700f0c"
      },
      "execution_count": null,
      "outputs": [
        {
          "output_type": "stream",
          "name": "stdout",
          "text": [
            "MSE: 181633314458.22\n",
            "RMSE: 426184.60\n",
            "R2: -0.07\n"
          ]
        }
      ]
    },
    {
      "cell_type": "markdown",
      "source": [
        "Decision Tree Regressor"
      ],
      "metadata": {
        "id": "GOrjOnZHgK_P"
      }
    },
    {
      "cell_type": "code",
      "source": [
        "# Fit regression model\n",
        "regr = DecisionTreeRegressor()\n",
        "regr.fit(X_train, y_train)\n",
        "# Predict\n",
        "y_pred = regr.predict(X_test)\n",
        "# Mean Squared Error\n",
        "print(\"MSE: %.2f\" % mean_squared_error(y_test, y_pred))\n",
        "# Root Mean Squared Error\n",
        "print(\"RMSE: %.2f\" % np.sqrt(mean_squared_error(y_test, y_pred)))\n",
        "# Coeficiente de determinação R2\n",
        "print(\"R2: %.2f\" % r2_score(y_test, y_pred))"
      ],
      "metadata": {
        "colab": {
          "base_uri": "https://localhost:8080/"
        },
        "id": "bczv7MnrgcNn",
        "outputId": "fe0a065c-28ca-408b-af61-8336525f6918"
      },
      "execution_count": null,
      "outputs": [
        {
          "output_type": "stream",
          "name": "stdout",
          "text": [
            "MSE: 17417038796.71\n",
            "RMSE: 131973.63\n",
            "R2: 0.90\n"
          ]
        }
      ]
    },
    {
      "cell_type": "markdown",
      "source": [
        "# Automatic Feature Selection"
      ],
      "metadata": {
        "id": "C98DpEJH9SZv"
      }
    },
    {
      "cell_type": "code",
      "source": [
        "#FS = FeatureSelector(objective = 'regression', auto = True)\n",
        "selected_feats = FeatureSelector(objective = 'regression', seed = 13).fit_transform(X_train, y_train)"
      ],
      "metadata": {
        "colab": {
          "base_uri": "https://localhost:8080/"
        },
        "id": "Bk8jAwWX9Zg7",
        "outputId": "8663c427-0e9e-4314-f698-a1984b967bc9"
      },
      "execution_count": 19,
      "outputs": [
        {
          "output_type": "stream",
          "name": "stdout",
          "text": [
            "\n",
            " * Initiating FeatureSelector\n",
            "\n",
            "   - Running feature selection with RandomForestRegressor(max_depth=2, n_estimators=50)\n",
            "     . Experiments are carried out on complete dataset\n",
            "     . Selected 5 features from 17\n",
            "\n",
            "Time elapsed for fit_transform execution: 4.42754 seconds\n"
          ]
        }
      ]
    },
    {
      "cell_type": "code",
      "source": [
        "selected_feats = X_train[['popAte9', 'domiciliosA1', 'domiciliosA2', 'domiciliosD', 'domiciliosE']]"
      ],
      "metadata": {
        "id": "eaqcxHUwK9wX"
      },
      "execution_count": 21,
      "outputs": []
    },
    {
      "cell_type": "code",
      "source": [
        "regr = DecisionTreeRegressor()\n",
        "regr.fit(selected_feats,y_train)\n",
        "X_test_afs = X_test[['popAte9', 'domiciliosA1', 'domiciliosA2', 'domiciliosD', 'domiciliosE']]\n",
        "# Predict\n",
        "y_pred = regr.predict(X_test_afs)\n",
        "# Mean Squared Error\n",
        "print(\"MSE: %.2f\" % mean_squared_error(y_test, y_pred))\n",
        "# Root Mean Squared Error\n",
        "print(\"RMSE: %.2f\" % np.sqrt(mean_squared_error(y_test, y_pred)))\n",
        "# Coeficiente de determinação R2\n",
        "print(\"R2: %.2f\" % r2_score(y_test, y_pred))"
      ],
      "metadata": {
        "colab": {
          "base_uri": "https://localhost:8080/"
        },
        "id": "2gh2IgdMRWrv",
        "outputId": "a44b511d-744d-4911-e33b-4e27df68fe49"
      },
      "execution_count": 22,
      "outputs": [
        {
          "output_type": "stream",
          "name": "stdout",
          "text": [
            "MSE: 16699518704.48\n",
            "RMSE: 129226.62\n",
            "R2: 0.90\n"
          ]
        }
      ]
    },
    {
      "cell_type": "markdown",
      "source": [
        "# Otimizando o modelo modelo de regressão"
      ],
      "metadata": {
        "id": "eIkbM4KU9Mf0"
      }
    },
    {
      "cell_type": "code",
      "source": [
        "regr = DecisionTreeRegressor()\n",
        "regr.fit(selected_feats, y_train)"
      ],
      "metadata": {
        "id": "4lCSSK0Np7nR"
      },
      "execution_count": null,
      "outputs": []
    },
    {
      "cell_type": "code",
      "source": [
        "param_grid = {\n",
        "'min_samples_split': list(range(1,100)),\n",
        "'min_samples_leaf': list(range(1, 100)),\n",
        "'max_depth': list(range(2, 50))}\n",
        "rnd_search = RandomizedSearchCV(regr, param_distributions = param_grid, n_iter=1000000000, cv=4, random_state=7)\n",
        "rnd_search.fit(selected_feats,y_train)"
      ],
      "metadata": {
        "colab": {
          "base_uri": "https://localhost:8080/",
          "height": 116
        },
        "id": "xQtQ7h9Gp7ca",
        "outputId": "c591e9e2-72b3-462b-9390-ebe6701a6899"
      },
      "execution_count": 23,
      "outputs": [
        {
          "output_type": "execute_result",
          "data": {
            "text/plain": [
              "RandomizedSearchCV(cv=4, estimator=DecisionTreeRegressor(), n_iter=1000000000,\n",
              "                   param_distributions={'max_depth': [2, 3, 4, 5, 6, 7, 8, 9,\n",
              "                                                      10, 11, 12, 13, 14, 15,\n",
              "                                                      16, 17, 18, 19, 20, 21,\n",
              "                                                      22, 23, 24, 25, 26, 27,\n",
              "                                                      28, 29, 30, 31, ...],\n",
              "                                        'min_samples_leaf': [1, 2, 3, 4, 5, 6,\n",
              "                                                             7, 8, 9, 10, 11,\n",
              "                                                             12, 13, 14, 15, 16,\n",
              "                                                             17, 18, 19, 20, 21,\n",
              "                                                             22, 23, 24, 25, 26,\n",
              "                                                             27, 28, 29, 30, ...],\n",
              "                                        'min_samples_split': [1, 2, 3, 4, 5, 6,\n",
              "                                                              7, 8, 9, 10, 11,\n",
              "                                                              12, 13, 14, 15,\n",
              "                                                              16, 17, 18, 19,\n",
              "                                                              20, 21, 22, 23,\n",
              "                                                              24, 25, 26, 27,\n",
              "                                                              28, 29, 30, ...]},\n",
              "                   random_state=7)"
            ],
            "text/html": [
              "<style>#sk-container-id-1 {color: black;background-color: white;}#sk-container-id-1 pre{padding: 0;}#sk-container-id-1 div.sk-toggleable {background-color: white;}#sk-container-id-1 label.sk-toggleable__label {cursor: pointer;display: block;width: 100%;margin-bottom: 0;padding: 0.3em;box-sizing: border-box;text-align: center;}#sk-container-id-1 label.sk-toggleable__label-arrow:before {content: \"▸\";float: left;margin-right: 0.25em;color: #696969;}#sk-container-id-1 label.sk-toggleable__label-arrow:hover:before {color: black;}#sk-container-id-1 div.sk-estimator:hover label.sk-toggleable__label-arrow:before {color: black;}#sk-container-id-1 div.sk-toggleable__content {max-height: 0;max-width: 0;overflow: hidden;text-align: left;background-color: #f0f8ff;}#sk-container-id-1 div.sk-toggleable__content pre {margin: 0.2em;color: black;border-radius: 0.25em;background-color: #f0f8ff;}#sk-container-id-1 input.sk-toggleable__control:checked~div.sk-toggleable__content {max-height: 200px;max-width: 100%;overflow: auto;}#sk-container-id-1 input.sk-toggleable__control:checked~label.sk-toggleable__label-arrow:before {content: \"▾\";}#sk-container-id-1 div.sk-estimator input.sk-toggleable__control:checked~label.sk-toggleable__label {background-color: #d4ebff;}#sk-container-id-1 div.sk-label input.sk-toggleable__control:checked~label.sk-toggleable__label {background-color: #d4ebff;}#sk-container-id-1 input.sk-hidden--visually {border: 0;clip: rect(1px 1px 1px 1px);clip: rect(1px, 1px, 1px, 1px);height: 1px;margin: -1px;overflow: hidden;padding: 0;position: absolute;width: 1px;}#sk-container-id-1 div.sk-estimator {font-family: monospace;background-color: #f0f8ff;border: 1px dotted black;border-radius: 0.25em;box-sizing: border-box;margin-bottom: 0.5em;}#sk-container-id-1 div.sk-estimator:hover {background-color: #d4ebff;}#sk-container-id-1 div.sk-parallel-item::after {content: \"\";width: 100%;border-bottom: 1px solid gray;flex-grow: 1;}#sk-container-id-1 div.sk-label:hover label.sk-toggleable__label {background-color: #d4ebff;}#sk-container-id-1 div.sk-serial::before {content: \"\";position: absolute;border-left: 1px solid gray;box-sizing: border-box;top: 0;bottom: 0;left: 50%;z-index: 0;}#sk-container-id-1 div.sk-serial {display: flex;flex-direction: column;align-items: center;background-color: white;padding-right: 0.2em;padding-left: 0.2em;position: relative;}#sk-container-id-1 div.sk-item {position: relative;z-index: 1;}#sk-container-id-1 div.sk-parallel {display: flex;align-items: stretch;justify-content: center;background-color: white;position: relative;}#sk-container-id-1 div.sk-item::before, #sk-container-id-1 div.sk-parallel-item::before {content: \"\";position: absolute;border-left: 1px solid gray;box-sizing: border-box;top: 0;bottom: 0;left: 50%;z-index: -1;}#sk-container-id-1 div.sk-parallel-item {display: flex;flex-direction: column;z-index: 1;position: relative;background-color: white;}#sk-container-id-1 div.sk-parallel-item:first-child::after {align-self: flex-end;width: 50%;}#sk-container-id-1 div.sk-parallel-item:last-child::after {align-self: flex-start;width: 50%;}#sk-container-id-1 div.sk-parallel-item:only-child::after {width: 0;}#sk-container-id-1 div.sk-dashed-wrapped {border: 1px dashed gray;margin: 0 0.4em 0.5em 0.4em;box-sizing: border-box;padding-bottom: 0.4em;background-color: white;}#sk-container-id-1 div.sk-label label {font-family: monospace;font-weight: bold;display: inline-block;line-height: 1.2em;}#sk-container-id-1 div.sk-label-container {text-align: center;}#sk-container-id-1 div.sk-container {/* jupyter's `normalize.less` sets `[hidden] { display: none; }` but bootstrap.min.css set `[hidden] { display: none !important; }` so we also need the `!important` here to be able to override the default hidden behavior on the sphinx rendered scikit-learn.org. See: https://github.com/scikit-learn/scikit-learn/issues/21755 */display: inline-block !important;position: relative;}#sk-container-id-1 div.sk-text-repr-fallback {display: none;}</style><div id=\"sk-container-id-1\" class=\"sk-top-container\"><div class=\"sk-text-repr-fallback\"><pre>RandomizedSearchCV(cv=4, estimator=DecisionTreeRegressor(), n_iter=1000000000,\n",
              "                   param_distributions={&#x27;max_depth&#x27;: [2, 3, 4, 5, 6, 7, 8, 9,\n",
              "                                                      10, 11, 12, 13, 14, 15,\n",
              "                                                      16, 17, 18, 19, 20, 21,\n",
              "                                                      22, 23, 24, 25, 26, 27,\n",
              "                                                      28, 29, 30, 31, ...],\n",
              "                                        &#x27;min_samples_leaf&#x27;: [1, 2, 3, 4, 5, 6,\n",
              "                                                             7, 8, 9, 10, 11,\n",
              "                                                             12, 13, 14, 15, 16,\n",
              "                                                             17, 18, 19, 20, 21,\n",
              "                                                             22, 23, 24, 25, 26,\n",
              "                                                             27, 28, 29, 30, ...],\n",
              "                                        &#x27;min_samples_split&#x27;: [1, 2, 3, 4, 5, 6,\n",
              "                                                              7, 8, 9, 10, 11,\n",
              "                                                              12, 13, 14, 15,\n",
              "                                                              16, 17, 18, 19,\n",
              "                                                              20, 21, 22, 23,\n",
              "                                                              24, 25, 26, 27,\n",
              "                                                              28, 29, 30, ...]},\n",
              "                   random_state=7)</pre><b>In a Jupyter environment, please rerun this cell to show the HTML representation or trust the notebook. <br />On GitHub, the HTML representation is unable to render, please try loading this page with nbviewer.org.</b></div><div class=\"sk-container\" hidden><div class=\"sk-item sk-dashed-wrapped\"><div class=\"sk-label-container\"><div class=\"sk-label sk-toggleable\"><input class=\"sk-toggleable__control sk-hidden--visually\" id=\"sk-estimator-id-1\" type=\"checkbox\" ><label for=\"sk-estimator-id-1\" class=\"sk-toggleable__label sk-toggleable__label-arrow\">RandomizedSearchCV</label><div class=\"sk-toggleable__content\"><pre>RandomizedSearchCV(cv=4, estimator=DecisionTreeRegressor(), n_iter=1000000000,\n",
              "                   param_distributions={&#x27;max_depth&#x27;: [2, 3, 4, 5, 6, 7, 8, 9,\n",
              "                                                      10, 11, 12, 13, 14, 15,\n",
              "                                                      16, 17, 18, 19, 20, 21,\n",
              "                                                      22, 23, 24, 25, 26, 27,\n",
              "                                                      28, 29, 30, 31, ...],\n",
              "                                        &#x27;min_samples_leaf&#x27;: [1, 2, 3, 4, 5, 6,\n",
              "                                                             7, 8, 9, 10, 11,\n",
              "                                                             12, 13, 14, 15, 16,\n",
              "                                                             17, 18, 19, 20, 21,\n",
              "                                                             22, 23, 24, 25, 26,\n",
              "                                                             27, 28, 29, 30, ...],\n",
              "                                        &#x27;min_samples_split&#x27;: [1, 2, 3, 4, 5, 6,\n",
              "                                                              7, 8, 9, 10, 11,\n",
              "                                                              12, 13, 14, 15,\n",
              "                                                              16, 17, 18, 19,\n",
              "                                                              20, 21, 22, 23,\n",
              "                                                              24, 25, 26, 27,\n",
              "                                                              28, 29, 30, ...]},\n",
              "                   random_state=7)</pre></div></div></div><div class=\"sk-parallel\"><div class=\"sk-parallel-item\"><div class=\"sk-item\"><div class=\"sk-label-container\"><div class=\"sk-label sk-toggleable\"><input class=\"sk-toggleable__control sk-hidden--visually\" id=\"sk-estimator-id-2\" type=\"checkbox\" ><label for=\"sk-estimator-id-2\" class=\"sk-toggleable__label sk-toggleable__label-arrow\">estimator: DecisionTreeRegressor</label><div class=\"sk-toggleable__content\"><pre>DecisionTreeRegressor()</pre></div></div></div><div class=\"sk-serial\"><div class=\"sk-item\"><div class=\"sk-estimator sk-toggleable\"><input class=\"sk-toggleable__control sk-hidden--visually\" id=\"sk-estimator-id-3\" type=\"checkbox\" ><label for=\"sk-estimator-id-3\" class=\"sk-toggleable__label sk-toggleable__label-arrow\">DecisionTreeRegressor</label><div class=\"sk-toggleable__content\"><pre>DecisionTreeRegressor()</pre></div></div></div></div></div></div></div></div></div></div>"
            ]
          },
          "metadata": {},
          "execution_count": 23
        }
      ]
    },
    {
      "cell_type": "code",
      "source": [
        "rnd_search.best_params_"
      ],
      "metadata": {
        "colab": {
          "base_uri": "https://localhost:8080/"
        },
        "id": "5lJDYAhxqCtf",
        "outputId": "85b698c5-80d4-4101-8b14-965def864ace"
      },
      "execution_count": 24,
      "outputs": [
        {
          "output_type": "execute_result",
          "data": {
            "text/plain": [
              "{'min_samples_split': 4, 'min_samples_leaf': 1, 'max_depth': 20}"
            ]
          },
          "metadata": {},
          "execution_count": 24
        }
      ]
    },
    {
      "cell_type": "code",
      "source": [
        "X_test_afs = X_test[['popAte9', 'domiciliosA1', 'domiciliosA2', 'domiciliosD', 'domiciliosE']]\n",
        "# Predict\n",
        "y_pred = rnd_search.predict(X_test_afs)\n",
        "# Mean Squared Error\n",
        "print(\"MSE: %.2f\" % mean_squared_error(y_test, y_pred))\n",
        "# Root Mean Squared Error\n",
        "print(\"RMSE: %.2f\" % np.sqrt(mean_squared_error(y_test, y_pred)))\n",
        "# Coeficiente de determinação R2\n",
        "print(\"R2: %.2f\" % r2_score(y_test, y_pred))"
      ],
      "metadata": {
        "colab": {
          "base_uri": "https://localhost:8080/"
        },
        "id": "QEOZ3A83qHPk",
        "outputId": "38ecd4a8-44a7-4db8-db95-e16e2982c52c"
      },
      "execution_count": 25,
      "outputs": [
        {
          "output_type": "stream",
          "name": "stdout",
          "text": [
            "MSE: 14974154823.87\n",
            "RMSE: 122368.93\n",
            "R2: 0.91\n"
          ]
        }
      ]
    },
    {
      "cell_type": "code",
      "source": [
        "fat_pot_sp = fat_pot_sp[['popAte9', 'domiciliosA1', 'domiciliosA2', 'domiciliosD', 'domiciliosE']]"
      ],
      "metadata": {
        "id": "NQoA-qoUr_wc"
      },
      "execution_count": null,
      "outputs": []
    },
    {
      "cell_type": "code",
      "source": [
        "y_pred_DTR_sp = rnd_search.predict(fat_pot_sp)"
      ],
      "metadata": {
        "id": "AfYzP4cKrAmd"
      },
      "execution_count": 97,
      "outputs": []
    },
    {
      "cell_type": "markdown",
      "source": [
        "# Escolhendo modelo de classificação"
      ],
      "metadata": {
        "id": "S_d2DpLsfC9w"
      }
    },
    {
      "cell_type": "code",
      "source": [
        "fat_pot_rj_mc = fat_pot_rj.drop(['faturamento', 'nome'], axis=1)"
      ],
      "metadata": {
        "id": "6wCLZ2zQws6E"
      },
      "execution_count": 66,
      "outputs": []
    },
    {
      "cell_type": "code",
      "source": [
        "X = fat_pot_rj_mc.drop(columns = ['potencial']).copy()\n",
        "y = fat_pot_rj_mc['potencial']"
      ],
      "metadata": {
        "id": "LppUgnoMnSej"
      },
      "execution_count": 67,
      "outputs": []
    },
    {
      "cell_type": "code",
      "source": [
        "X_train, X_test, y_train, y_test = train_test_split(X,y, train_size=0.7, random_state = 10)"
      ],
      "metadata": {
        "id": "bbqjfFpenR78"
      },
      "execution_count": 68,
      "outputs": []
    },
    {
      "cell_type": "markdown",
      "source": [
        "Logistic Regression"
      ],
      "metadata": {
        "id": "K1TWZiVPo7F4"
      }
    },
    {
      "cell_type": "code",
      "source": [
        "X_train = X_train[['popAte9', 'domiciliosA1', 'domiciliosA2', 'domiciliosD', 'domiciliosE']]\n",
        "X_test = X_test[['popAte9', 'domiciliosA1', 'domiciliosA2', 'domiciliosD', 'domiciliosE']]"
      ],
      "metadata": {
        "id": "O__9hbaNe84M"
      },
      "execution_count": 69,
      "outputs": []
    },
    {
      "cell_type": "code",
      "source": [
        "lgtic = make_pipeline(StandardScaler(), LogisticRegression())\n",
        "lgtic.fit(X_train, y_train)"
      ],
      "metadata": {
        "colab": {
          "base_uri": "https://localhost:8080/",
          "height": 124
        },
        "id": "eSa3nWTyo7u1",
        "outputId": "b77bd6ca-1604-4932-949d-f9e2bfbd8340"
      },
      "execution_count": 70,
      "outputs": [
        {
          "output_type": "execute_result",
          "data": {
            "text/plain": [
              "Pipeline(steps=[('standardscaler', StandardScaler()),\n",
              "                ('logisticregression', LogisticRegression())])"
            ],
            "text/html": [
              "<style>#sk-container-id-6 {color: black;background-color: white;}#sk-container-id-6 pre{padding: 0;}#sk-container-id-6 div.sk-toggleable {background-color: white;}#sk-container-id-6 label.sk-toggleable__label {cursor: pointer;display: block;width: 100%;margin-bottom: 0;padding: 0.3em;box-sizing: border-box;text-align: center;}#sk-container-id-6 label.sk-toggleable__label-arrow:before {content: \"▸\";float: left;margin-right: 0.25em;color: #696969;}#sk-container-id-6 label.sk-toggleable__label-arrow:hover:before {color: black;}#sk-container-id-6 div.sk-estimator:hover label.sk-toggleable__label-arrow:before {color: black;}#sk-container-id-6 div.sk-toggleable__content {max-height: 0;max-width: 0;overflow: hidden;text-align: left;background-color: #f0f8ff;}#sk-container-id-6 div.sk-toggleable__content pre {margin: 0.2em;color: black;border-radius: 0.25em;background-color: #f0f8ff;}#sk-container-id-6 input.sk-toggleable__control:checked~div.sk-toggleable__content {max-height: 200px;max-width: 100%;overflow: auto;}#sk-container-id-6 input.sk-toggleable__control:checked~label.sk-toggleable__label-arrow:before {content: \"▾\";}#sk-container-id-6 div.sk-estimator input.sk-toggleable__control:checked~label.sk-toggleable__label {background-color: #d4ebff;}#sk-container-id-6 div.sk-label input.sk-toggleable__control:checked~label.sk-toggleable__label {background-color: #d4ebff;}#sk-container-id-6 input.sk-hidden--visually {border: 0;clip: rect(1px 1px 1px 1px);clip: rect(1px, 1px, 1px, 1px);height: 1px;margin: -1px;overflow: hidden;padding: 0;position: absolute;width: 1px;}#sk-container-id-6 div.sk-estimator {font-family: monospace;background-color: #f0f8ff;border: 1px dotted black;border-radius: 0.25em;box-sizing: border-box;margin-bottom: 0.5em;}#sk-container-id-6 div.sk-estimator:hover {background-color: #d4ebff;}#sk-container-id-6 div.sk-parallel-item::after {content: \"\";width: 100%;border-bottom: 1px solid gray;flex-grow: 1;}#sk-container-id-6 div.sk-label:hover label.sk-toggleable__label {background-color: #d4ebff;}#sk-container-id-6 div.sk-serial::before {content: \"\";position: absolute;border-left: 1px solid gray;box-sizing: border-box;top: 0;bottom: 0;left: 50%;z-index: 0;}#sk-container-id-6 div.sk-serial {display: flex;flex-direction: column;align-items: center;background-color: white;padding-right: 0.2em;padding-left: 0.2em;position: relative;}#sk-container-id-6 div.sk-item {position: relative;z-index: 1;}#sk-container-id-6 div.sk-parallel {display: flex;align-items: stretch;justify-content: center;background-color: white;position: relative;}#sk-container-id-6 div.sk-item::before, #sk-container-id-6 div.sk-parallel-item::before {content: \"\";position: absolute;border-left: 1px solid gray;box-sizing: border-box;top: 0;bottom: 0;left: 50%;z-index: -1;}#sk-container-id-6 div.sk-parallel-item {display: flex;flex-direction: column;z-index: 1;position: relative;background-color: white;}#sk-container-id-6 div.sk-parallel-item:first-child::after {align-self: flex-end;width: 50%;}#sk-container-id-6 div.sk-parallel-item:last-child::after {align-self: flex-start;width: 50%;}#sk-container-id-6 div.sk-parallel-item:only-child::after {width: 0;}#sk-container-id-6 div.sk-dashed-wrapped {border: 1px dashed gray;margin: 0 0.4em 0.5em 0.4em;box-sizing: border-box;padding-bottom: 0.4em;background-color: white;}#sk-container-id-6 div.sk-label label {font-family: monospace;font-weight: bold;display: inline-block;line-height: 1.2em;}#sk-container-id-6 div.sk-label-container {text-align: center;}#sk-container-id-6 div.sk-container {/* jupyter's `normalize.less` sets `[hidden] { display: none; }` but bootstrap.min.css set `[hidden] { display: none !important; }` so we also need the `!important` here to be able to override the default hidden behavior on the sphinx rendered scikit-learn.org. See: https://github.com/scikit-learn/scikit-learn/issues/21755 */display: inline-block !important;position: relative;}#sk-container-id-6 div.sk-text-repr-fallback {display: none;}</style><div id=\"sk-container-id-6\" class=\"sk-top-container\"><div class=\"sk-text-repr-fallback\"><pre>Pipeline(steps=[(&#x27;standardscaler&#x27;, StandardScaler()),\n",
              "                (&#x27;logisticregression&#x27;, LogisticRegression())])</pre><b>In a Jupyter environment, please rerun this cell to show the HTML representation or trust the notebook. <br />On GitHub, the HTML representation is unable to render, please try loading this page with nbviewer.org.</b></div><div class=\"sk-container\" hidden><div class=\"sk-item sk-dashed-wrapped\"><div class=\"sk-label-container\"><div class=\"sk-label sk-toggleable\"><input class=\"sk-toggleable__control sk-hidden--visually\" id=\"sk-estimator-id-16\" type=\"checkbox\" ><label for=\"sk-estimator-id-16\" class=\"sk-toggleable__label sk-toggleable__label-arrow\">Pipeline</label><div class=\"sk-toggleable__content\"><pre>Pipeline(steps=[(&#x27;standardscaler&#x27;, StandardScaler()),\n",
              "                (&#x27;logisticregression&#x27;, LogisticRegression())])</pre></div></div></div><div class=\"sk-serial\"><div class=\"sk-item\"><div class=\"sk-estimator sk-toggleable\"><input class=\"sk-toggleable__control sk-hidden--visually\" id=\"sk-estimator-id-17\" type=\"checkbox\" ><label for=\"sk-estimator-id-17\" class=\"sk-toggleable__label sk-toggleable__label-arrow\">StandardScaler</label><div class=\"sk-toggleable__content\"><pre>StandardScaler()</pre></div></div></div><div class=\"sk-item\"><div class=\"sk-estimator sk-toggleable\"><input class=\"sk-toggleable__control sk-hidden--visually\" id=\"sk-estimator-id-18\" type=\"checkbox\" ><label for=\"sk-estimator-id-18\" class=\"sk-toggleable__label sk-toggleable__label-arrow\">LogisticRegression</label><div class=\"sk-toggleable__content\"><pre>LogisticRegression()</pre></div></div></div></div></div></div></div>"
            ]
          },
          "metadata": {},
          "execution_count": 70
        }
      ]
    },
    {
      "cell_type": "code",
      "source": [
        "y_pred = lgtic.predict(X_test)"
      ],
      "metadata": {
        "id": "krvDgUgBr36l"
      },
      "execution_count": 71,
      "outputs": []
    },
    {
      "cell_type": "code",
      "source": [
        "print(confusion_matrix(y_test, y_pred))"
      ],
      "metadata": {
        "colab": {
          "base_uri": "https://localhost:8080/"
        },
        "id": "AD_IaxXfr7zL",
        "outputId": "1c6843ef-0b59-4ae7-f910-7df8a3e9e68f"
      },
      "execution_count": 73,
      "outputs": [
        {
          "output_type": "stream",
          "name": "stdout",
          "text": [
            "[[10  3  2]\n",
            " [ 0 14  2]\n",
            " [ 2  8  7]]\n"
          ]
        }
      ]
    },
    {
      "cell_type": "code",
      "source": [
        "target_names = ['Baixo', 'Medio', 'Alto']\n",
        "print(classification_report(y_test, y_pred, target_names=target_names))"
      ],
      "metadata": {
        "colab": {
          "base_uri": "https://localhost:8080/"
        },
        "id": "Cfee-YyKr-_o",
        "outputId": "b420de1c-88ff-40a4-d9e5-a9f330d88a1f"
      },
      "execution_count": 74,
      "outputs": [
        {
          "output_type": "stream",
          "name": "stdout",
          "text": [
            "              precision    recall  f1-score   support\n",
            "\n",
            "       Baixo       0.83      0.67      0.74        15\n",
            "       Medio       0.56      0.88      0.68        16\n",
            "        Alto       0.64      0.41      0.50        17\n",
            "\n",
            "    accuracy                           0.65        48\n",
            "   macro avg       0.68      0.65      0.64        48\n",
            "weighted avg       0.67      0.65      0.64        48\n",
            "\n"
          ]
        }
      ]
    },
    {
      "cell_type": "markdown",
      "source": [
        "k-Nearest Neighbors"
      ],
      "metadata": {
        "id": "kCqni64foZ2f"
      }
    },
    {
      "cell_type": "code",
      "source": [
        "neigh = make_pipeline(StandardScaler(), KNeighborsClassifier())\n",
        "neigh.fit(X_train, y_train)"
      ],
      "metadata": {
        "colab": {
          "base_uri": "https://localhost:8080/",
          "height": 124
        },
        "id": "ncquvxVKlTf8",
        "outputId": "a63f99fd-b128-43dd-9a04-9c439cc2d4bb"
      },
      "execution_count": 75,
      "outputs": [
        {
          "output_type": "execute_result",
          "data": {
            "text/plain": [
              "Pipeline(steps=[('standardscaler', StandardScaler()),\n",
              "                ('kneighborsclassifier', KNeighborsClassifier())])"
            ],
            "text/html": [
              "<style>#sk-container-id-7 {color: black;background-color: white;}#sk-container-id-7 pre{padding: 0;}#sk-container-id-7 div.sk-toggleable {background-color: white;}#sk-container-id-7 label.sk-toggleable__label {cursor: pointer;display: block;width: 100%;margin-bottom: 0;padding: 0.3em;box-sizing: border-box;text-align: center;}#sk-container-id-7 label.sk-toggleable__label-arrow:before {content: \"▸\";float: left;margin-right: 0.25em;color: #696969;}#sk-container-id-7 label.sk-toggleable__label-arrow:hover:before {color: black;}#sk-container-id-7 div.sk-estimator:hover label.sk-toggleable__label-arrow:before {color: black;}#sk-container-id-7 div.sk-toggleable__content {max-height: 0;max-width: 0;overflow: hidden;text-align: left;background-color: #f0f8ff;}#sk-container-id-7 div.sk-toggleable__content pre {margin: 0.2em;color: black;border-radius: 0.25em;background-color: #f0f8ff;}#sk-container-id-7 input.sk-toggleable__control:checked~div.sk-toggleable__content {max-height: 200px;max-width: 100%;overflow: auto;}#sk-container-id-7 input.sk-toggleable__control:checked~label.sk-toggleable__label-arrow:before {content: \"▾\";}#sk-container-id-7 div.sk-estimator input.sk-toggleable__control:checked~label.sk-toggleable__label {background-color: #d4ebff;}#sk-container-id-7 div.sk-label input.sk-toggleable__control:checked~label.sk-toggleable__label {background-color: #d4ebff;}#sk-container-id-7 input.sk-hidden--visually {border: 0;clip: rect(1px 1px 1px 1px);clip: rect(1px, 1px, 1px, 1px);height: 1px;margin: -1px;overflow: hidden;padding: 0;position: absolute;width: 1px;}#sk-container-id-7 div.sk-estimator {font-family: monospace;background-color: #f0f8ff;border: 1px dotted black;border-radius: 0.25em;box-sizing: border-box;margin-bottom: 0.5em;}#sk-container-id-7 div.sk-estimator:hover {background-color: #d4ebff;}#sk-container-id-7 div.sk-parallel-item::after {content: \"\";width: 100%;border-bottom: 1px solid gray;flex-grow: 1;}#sk-container-id-7 div.sk-label:hover label.sk-toggleable__label {background-color: #d4ebff;}#sk-container-id-7 div.sk-serial::before {content: \"\";position: absolute;border-left: 1px solid gray;box-sizing: border-box;top: 0;bottom: 0;left: 50%;z-index: 0;}#sk-container-id-7 div.sk-serial {display: flex;flex-direction: column;align-items: center;background-color: white;padding-right: 0.2em;padding-left: 0.2em;position: relative;}#sk-container-id-7 div.sk-item {position: relative;z-index: 1;}#sk-container-id-7 div.sk-parallel {display: flex;align-items: stretch;justify-content: center;background-color: white;position: relative;}#sk-container-id-7 div.sk-item::before, #sk-container-id-7 div.sk-parallel-item::before {content: \"\";position: absolute;border-left: 1px solid gray;box-sizing: border-box;top: 0;bottom: 0;left: 50%;z-index: -1;}#sk-container-id-7 div.sk-parallel-item {display: flex;flex-direction: column;z-index: 1;position: relative;background-color: white;}#sk-container-id-7 div.sk-parallel-item:first-child::after {align-self: flex-end;width: 50%;}#sk-container-id-7 div.sk-parallel-item:last-child::after {align-self: flex-start;width: 50%;}#sk-container-id-7 div.sk-parallel-item:only-child::after {width: 0;}#sk-container-id-7 div.sk-dashed-wrapped {border: 1px dashed gray;margin: 0 0.4em 0.5em 0.4em;box-sizing: border-box;padding-bottom: 0.4em;background-color: white;}#sk-container-id-7 div.sk-label label {font-family: monospace;font-weight: bold;display: inline-block;line-height: 1.2em;}#sk-container-id-7 div.sk-label-container {text-align: center;}#sk-container-id-7 div.sk-container {/* jupyter's `normalize.less` sets `[hidden] { display: none; }` but bootstrap.min.css set `[hidden] { display: none !important; }` so we also need the `!important` here to be able to override the default hidden behavior on the sphinx rendered scikit-learn.org. See: https://github.com/scikit-learn/scikit-learn/issues/21755 */display: inline-block !important;position: relative;}#sk-container-id-7 div.sk-text-repr-fallback {display: none;}</style><div id=\"sk-container-id-7\" class=\"sk-top-container\"><div class=\"sk-text-repr-fallback\"><pre>Pipeline(steps=[(&#x27;standardscaler&#x27;, StandardScaler()),\n",
              "                (&#x27;kneighborsclassifier&#x27;, KNeighborsClassifier())])</pre><b>In a Jupyter environment, please rerun this cell to show the HTML representation or trust the notebook. <br />On GitHub, the HTML representation is unable to render, please try loading this page with nbviewer.org.</b></div><div class=\"sk-container\" hidden><div class=\"sk-item sk-dashed-wrapped\"><div class=\"sk-label-container\"><div class=\"sk-label sk-toggleable\"><input class=\"sk-toggleable__control sk-hidden--visually\" id=\"sk-estimator-id-19\" type=\"checkbox\" ><label for=\"sk-estimator-id-19\" class=\"sk-toggleable__label sk-toggleable__label-arrow\">Pipeline</label><div class=\"sk-toggleable__content\"><pre>Pipeline(steps=[(&#x27;standardscaler&#x27;, StandardScaler()),\n",
              "                (&#x27;kneighborsclassifier&#x27;, KNeighborsClassifier())])</pre></div></div></div><div class=\"sk-serial\"><div class=\"sk-item\"><div class=\"sk-estimator sk-toggleable\"><input class=\"sk-toggleable__control sk-hidden--visually\" id=\"sk-estimator-id-20\" type=\"checkbox\" ><label for=\"sk-estimator-id-20\" class=\"sk-toggleable__label sk-toggleable__label-arrow\">StandardScaler</label><div class=\"sk-toggleable__content\"><pre>StandardScaler()</pre></div></div></div><div class=\"sk-item\"><div class=\"sk-estimator sk-toggleable\"><input class=\"sk-toggleable__control sk-hidden--visually\" id=\"sk-estimator-id-21\" type=\"checkbox\" ><label for=\"sk-estimator-id-21\" class=\"sk-toggleable__label sk-toggleable__label-arrow\">KNeighborsClassifier</label><div class=\"sk-toggleable__content\"><pre>KNeighborsClassifier()</pre></div></div></div></div></div></div></div>"
            ]
          },
          "metadata": {},
          "execution_count": 75
        }
      ]
    },
    {
      "cell_type": "code",
      "source": [
        "y_pred = neigh.predict(X_test)"
      ],
      "metadata": {
        "id": "dwab5AXwlrKt"
      },
      "execution_count": 76,
      "outputs": []
    },
    {
      "cell_type": "code",
      "source": [
        "print(confusion_matrix(y_test, y_pred))"
      ],
      "metadata": {
        "colab": {
          "base_uri": "https://localhost:8080/"
        },
        "id": "rhjAWS7em1AA",
        "outputId": "f0d1df49-4477-42e3-de95-1dadb30764a8"
      },
      "execution_count": 77,
      "outputs": [
        {
          "output_type": "stream",
          "name": "stdout",
          "text": [
            "[[12  2  1]\n",
            " [ 1 13  2]\n",
            " [ 2  5 10]]\n"
          ]
        }
      ]
    },
    {
      "cell_type": "code",
      "source": [
        "print(classification_report(y_test, y_pred, target_names=target_names))"
      ],
      "metadata": {
        "colab": {
          "base_uri": "https://localhost:8080/"
        },
        "id": "0euWTskYqMG1",
        "outputId": "e61b63d5-6f71-435f-c00f-1cfc2b953aeb"
      },
      "execution_count": 78,
      "outputs": [
        {
          "output_type": "stream",
          "name": "stdout",
          "text": [
            "              precision    recall  f1-score   support\n",
            "\n",
            "       Baixo       0.80      0.80      0.80        15\n",
            "       Medio       0.65      0.81      0.72        16\n",
            "        Alto       0.77      0.59      0.67        17\n",
            "\n",
            "    accuracy                           0.73        48\n",
            "   macro avg       0.74      0.73      0.73        48\n",
            "weighted avg       0.74      0.73      0.73        48\n",
            "\n"
          ]
        }
      ]
    },
    {
      "cell_type": "code",
      "source": [
        "nomes_sp = fat_pot_sp['nome']\n",
        "fat_pot_sp.drop(['nome'], axis=1, inplace =True)"
      ],
      "metadata": {
        "id": "6em7kX9qF5-R"
      },
      "execution_count": 40,
      "outputs": []
    },
    {
      "cell_type": "markdown",
      "source": [
        "Support Vector Machines"
      ],
      "metadata": {
        "id": "U5gbM77th_1A"
      }
    },
    {
      "cell_type": "code",
      "source": [
        "clf = make_pipeline(StandardScaler(), SVC())\n",
        "clf.fit(X_test, y_test)"
      ],
      "metadata": {
        "colab": {
          "base_uri": "https://localhost:8080/",
          "height": 124
        },
        "id": "ZfK6aXQXpBb_",
        "outputId": "d05f2bb7-f055-42c5-f104-34f491ba39c2"
      },
      "execution_count": 79,
      "outputs": [
        {
          "output_type": "execute_result",
          "data": {
            "text/plain": [
              "Pipeline(steps=[('standardscaler', StandardScaler()), ('svc', SVC())])"
            ],
            "text/html": [
              "<style>#sk-container-id-8 {color: black;background-color: white;}#sk-container-id-8 pre{padding: 0;}#sk-container-id-8 div.sk-toggleable {background-color: white;}#sk-container-id-8 label.sk-toggleable__label {cursor: pointer;display: block;width: 100%;margin-bottom: 0;padding: 0.3em;box-sizing: border-box;text-align: center;}#sk-container-id-8 label.sk-toggleable__label-arrow:before {content: \"▸\";float: left;margin-right: 0.25em;color: #696969;}#sk-container-id-8 label.sk-toggleable__label-arrow:hover:before {color: black;}#sk-container-id-8 div.sk-estimator:hover label.sk-toggleable__label-arrow:before {color: black;}#sk-container-id-8 div.sk-toggleable__content {max-height: 0;max-width: 0;overflow: hidden;text-align: left;background-color: #f0f8ff;}#sk-container-id-8 div.sk-toggleable__content pre {margin: 0.2em;color: black;border-radius: 0.25em;background-color: #f0f8ff;}#sk-container-id-8 input.sk-toggleable__control:checked~div.sk-toggleable__content {max-height: 200px;max-width: 100%;overflow: auto;}#sk-container-id-8 input.sk-toggleable__control:checked~label.sk-toggleable__label-arrow:before {content: \"▾\";}#sk-container-id-8 div.sk-estimator input.sk-toggleable__control:checked~label.sk-toggleable__label {background-color: #d4ebff;}#sk-container-id-8 div.sk-label input.sk-toggleable__control:checked~label.sk-toggleable__label {background-color: #d4ebff;}#sk-container-id-8 input.sk-hidden--visually {border: 0;clip: rect(1px 1px 1px 1px);clip: rect(1px, 1px, 1px, 1px);height: 1px;margin: -1px;overflow: hidden;padding: 0;position: absolute;width: 1px;}#sk-container-id-8 div.sk-estimator {font-family: monospace;background-color: #f0f8ff;border: 1px dotted black;border-radius: 0.25em;box-sizing: border-box;margin-bottom: 0.5em;}#sk-container-id-8 div.sk-estimator:hover {background-color: #d4ebff;}#sk-container-id-8 div.sk-parallel-item::after {content: \"\";width: 100%;border-bottom: 1px solid gray;flex-grow: 1;}#sk-container-id-8 div.sk-label:hover label.sk-toggleable__label {background-color: #d4ebff;}#sk-container-id-8 div.sk-serial::before {content: \"\";position: absolute;border-left: 1px solid gray;box-sizing: border-box;top: 0;bottom: 0;left: 50%;z-index: 0;}#sk-container-id-8 div.sk-serial {display: flex;flex-direction: column;align-items: center;background-color: white;padding-right: 0.2em;padding-left: 0.2em;position: relative;}#sk-container-id-8 div.sk-item {position: relative;z-index: 1;}#sk-container-id-8 div.sk-parallel {display: flex;align-items: stretch;justify-content: center;background-color: white;position: relative;}#sk-container-id-8 div.sk-item::before, #sk-container-id-8 div.sk-parallel-item::before {content: \"\";position: absolute;border-left: 1px solid gray;box-sizing: border-box;top: 0;bottom: 0;left: 50%;z-index: -1;}#sk-container-id-8 div.sk-parallel-item {display: flex;flex-direction: column;z-index: 1;position: relative;background-color: white;}#sk-container-id-8 div.sk-parallel-item:first-child::after {align-self: flex-end;width: 50%;}#sk-container-id-8 div.sk-parallel-item:last-child::after {align-self: flex-start;width: 50%;}#sk-container-id-8 div.sk-parallel-item:only-child::after {width: 0;}#sk-container-id-8 div.sk-dashed-wrapped {border: 1px dashed gray;margin: 0 0.4em 0.5em 0.4em;box-sizing: border-box;padding-bottom: 0.4em;background-color: white;}#sk-container-id-8 div.sk-label label {font-family: monospace;font-weight: bold;display: inline-block;line-height: 1.2em;}#sk-container-id-8 div.sk-label-container {text-align: center;}#sk-container-id-8 div.sk-container {/* jupyter's `normalize.less` sets `[hidden] { display: none; }` but bootstrap.min.css set `[hidden] { display: none !important; }` so we also need the `!important` here to be able to override the default hidden behavior on the sphinx rendered scikit-learn.org. See: https://github.com/scikit-learn/scikit-learn/issues/21755 */display: inline-block !important;position: relative;}#sk-container-id-8 div.sk-text-repr-fallback {display: none;}</style><div id=\"sk-container-id-8\" class=\"sk-top-container\"><div class=\"sk-text-repr-fallback\"><pre>Pipeline(steps=[(&#x27;standardscaler&#x27;, StandardScaler()), (&#x27;svc&#x27;, SVC())])</pre><b>In a Jupyter environment, please rerun this cell to show the HTML representation or trust the notebook. <br />On GitHub, the HTML representation is unable to render, please try loading this page with nbviewer.org.</b></div><div class=\"sk-container\" hidden><div class=\"sk-item sk-dashed-wrapped\"><div class=\"sk-label-container\"><div class=\"sk-label sk-toggleable\"><input class=\"sk-toggleable__control sk-hidden--visually\" id=\"sk-estimator-id-22\" type=\"checkbox\" ><label for=\"sk-estimator-id-22\" class=\"sk-toggleable__label sk-toggleable__label-arrow\">Pipeline</label><div class=\"sk-toggleable__content\"><pre>Pipeline(steps=[(&#x27;standardscaler&#x27;, StandardScaler()), (&#x27;svc&#x27;, SVC())])</pre></div></div></div><div class=\"sk-serial\"><div class=\"sk-item\"><div class=\"sk-estimator sk-toggleable\"><input class=\"sk-toggleable__control sk-hidden--visually\" id=\"sk-estimator-id-23\" type=\"checkbox\" ><label for=\"sk-estimator-id-23\" class=\"sk-toggleable__label sk-toggleable__label-arrow\">StandardScaler</label><div class=\"sk-toggleable__content\"><pre>StandardScaler()</pre></div></div></div><div class=\"sk-item\"><div class=\"sk-estimator sk-toggleable\"><input class=\"sk-toggleable__control sk-hidden--visually\" id=\"sk-estimator-id-24\" type=\"checkbox\" ><label for=\"sk-estimator-id-24\" class=\"sk-toggleable__label sk-toggleable__label-arrow\">SVC</label><div class=\"sk-toggleable__content\"><pre>SVC()</pre></div></div></div></div></div></div></div>"
            ]
          },
          "metadata": {},
          "execution_count": 79
        }
      ]
    },
    {
      "cell_type": "code",
      "source": [
        "y_pred = clf.predict(X_test)"
      ],
      "metadata": {
        "id": "h8OF9oGcq1XM"
      },
      "execution_count": 80,
      "outputs": []
    },
    {
      "cell_type": "code",
      "source": [
        "print(confusion_matrix(y_test, y_pred))"
      ],
      "metadata": {
        "colab": {
          "base_uri": "https://localhost:8080/"
        },
        "id": "EzqfR8TUq-1R",
        "outputId": "2bc9c343-5b67-45f7-dbef-278333dc7e27"
      },
      "execution_count": 81,
      "outputs": [
        {
          "output_type": "stream",
          "name": "stdout",
          "text": [
            "[[13  1  1]\n",
            " [ 1 14  1]\n",
            " [ 4  6  7]]\n"
          ]
        }
      ]
    },
    {
      "cell_type": "code",
      "source": [
        "print(classification_report(y_test, y_pred, target_names=target_names))"
      ],
      "metadata": {
        "colab": {
          "base_uri": "https://localhost:8080/"
        },
        "id": "7qGfM8UNrA0K",
        "outputId": "77e8b838-d76a-48ac-8099-9f5e1aa9a7fc"
      },
      "execution_count": 82,
      "outputs": [
        {
          "output_type": "stream",
          "name": "stdout",
          "text": [
            "              precision    recall  f1-score   support\n",
            "\n",
            "       Baixo       0.72      0.87      0.79        15\n",
            "       Medio       0.67      0.88      0.76        16\n",
            "        Alto       0.78      0.41      0.54        17\n",
            "\n",
            "    accuracy                           0.71        48\n",
            "   macro avg       0.72      0.72      0.69        48\n",
            "weighted avg       0.72      0.71      0.69        48\n",
            "\n"
          ]
        }
      ]
    },
    {
      "cell_type": "markdown",
      "source": [
        "Random Forest Classifier"
      ],
      "metadata": {
        "id": "2HJtq2c-iBF4"
      }
    },
    {
      "cell_type": "code",
      "source": [
        "rfc=RandomForestClassifier()\n",
        "rfc.fit(X_train,y_train)\n",
        "y_pred = rfc.predict(X_test)\n",
        "print(confusion_matrix(y_test, y_pred))"
      ],
      "metadata": {
        "colab": {
          "base_uri": "https://localhost:8080/"
        },
        "id": "pNileXYqgx1D",
        "outputId": "c776732c-370b-4893-d64a-2382750744d6"
      },
      "execution_count": 83,
      "outputs": [
        {
          "output_type": "stream",
          "name": "stdout",
          "text": [
            "[[13  0  2]\n",
            " [ 0 14  2]\n",
            " [ 3  3 11]]\n"
          ]
        }
      ]
    },
    {
      "cell_type": "code",
      "source": [
        "print(classification_report(y_test, y_pred, target_names=target_names))"
      ],
      "metadata": {
        "colab": {
          "base_uri": "https://localhost:8080/"
        },
        "id": "Eci4eQ_TivGf",
        "outputId": "e5ea7ef5-727d-4e11-8ebb-ec5fb1f9e675"
      },
      "execution_count": 84,
      "outputs": [
        {
          "output_type": "stream",
          "name": "stdout",
          "text": [
            "              precision    recall  f1-score   support\n",
            "\n",
            "       Baixo       0.81      0.87      0.84        15\n",
            "       Medio       0.82      0.88      0.85        16\n",
            "        Alto       0.73      0.65      0.69        17\n",
            "\n",
            "    accuracy                           0.79        48\n",
            "   macro avg       0.79      0.80      0.79        48\n",
            "weighted avg       0.79      0.79      0.79        48\n",
            "\n"
          ]
        }
      ]
    },
    {
      "cell_type": "code",
      "source": [
        "y_pred_RFC_sp = rfc.predict(fat_pot_sp)"
      ],
      "metadata": {
        "id": "HIQVjsTupKuV"
      },
      "execution_count": 88,
      "outputs": []
    },
    {
      "cell_type": "markdown",
      "source": [
        "# Salvando os aquivos"
      ],
      "metadata": {
        "id": "CMF8Cb9zgscf"
      }
    },
    {
      "cell_type": "code",
      "source": [
        "fat_pot_sp['faturamento'] = y_pred_DTR_sp"
      ],
      "metadata": {
        "id": "I6msVvnML1vR"
      },
      "execution_count": 98,
      "outputs": []
    },
    {
      "cell_type": "code",
      "source": [
        "fat_pot_sp['potencial'] = y_pred_RFC_sp"
      ],
      "metadata": {
        "id": "jQGs4t-SL48X"
      },
      "execution_count": 89,
      "outputs": []
    },
    {
      "cell_type": "code",
      "source": [
        "fat_pot_sp['estado'] = 'SP'\n",
        "fat_pot_rj['estado'] = 'RJ'"
      ],
      "metadata": {
        "id": "Xsm-SpzF-JYg"
      },
      "execution_count": 99,
      "outputs": []
    },
    {
      "cell_type": "code",
      "source": [
        "fat_pot_pred = pd.concat([fat_pot_rj, fat_pot_sp], axis=0)"
      ],
      "metadata": {
        "id": "jR6ozRPnT3Gl"
      },
      "execution_count": 100,
      "outputs": []
    },
    {
      "cell_type": "code",
      "source": [
        "fat_pot_pred.to_excel(\"/content/drive/My Drive/geofusion_data/Previsaodefaturamentoepotencial.xlsx\")"
      ],
      "metadata": {
        "id": "4s4ORgDFTNJl"
      },
      "execution_count": 101,
      "outputs": []
    }
  ]
}