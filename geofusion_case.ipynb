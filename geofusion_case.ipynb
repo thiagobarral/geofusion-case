{
  "nbformat": 4,
  "nbformat_minor": 0,
  "metadata": {
    "colab": {
      "provenance": [],
      "toc_visible": true,
      "authorship_tag": "ABX9TyPXYPMjuLbjc4yF1ajkFJ70",
      "include_colab_link": true
    },
    "kernelspec": {
      "name": "python3",
      "display_name": "Python 3"
    },
    "language_info": {
      "name": "python"
    },
    "widgets": {
      "application/vnd.jupyter.widget-state+json": {
        "61203d968aa44cf180795bdf3a970345": {
          "model_module": "@jupyter-widgets/controls",
          "model_name": "HBoxModel",
          "model_module_version": "1.5.0",
          "state": {
            "_dom_classes": [],
            "_model_module": "@jupyter-widgets/controls",
            "_model_module_version": "1.5.0",
            "_model_name": "HBoxModel",
            "_view_count": null,
            "_view_module": "@jupyter-widgets/controls",
            "_view_module_version": "1.5.0",
            "_view_name": "HBoxView",
            "box_style": "",
            "children": [
              "IPY_MODEL_e0c9b6c70f4b4bdcb2fffb44c4129568",
              "IPY_MODEL_4d8e206909f7420b854c5d427db44fd6",
              "IPY_MODEL_3a5ba7ee45a44b17b2cd4182161c8415"
            ],
            "layout": "IPY_MODEL_f38ed9cac76b479ab5647d375c7ffc22"
          }
        },
        "e0c9b6c70f4b4bdcb2fffb44c4129568": {
          "model_module": "@jupyter-widgets/controls",
          "model_name": "HTMLModel",
          "model_module_version": "1.5.0",
          "state": {
            "_dom_classes": [],
            "_model_module": "@jupyter-widgets/controls",
            "_model_module_version": "1.5.0",
            "_model_name": "HTMLModel",
            "_view_count": null,
            "_view_module": "@jupyter-widgets/controls",
            "_view_module_version": "1.5.0",
            "_view_name": "HTMLView",
            "description": "",
            "description_tooltip": null,
            "layout": "IPY_MODEL_865febb68e2d4c3895527174a1e7f6e9",
            "placeholder": "​",
            "style": "IPY_MODEL_809e8a36881240ab89492bd5cb757624",
            "value": "Done! Use &#x27;show&#x27; commands to display/save.   "
          }
        },
        "4d8e206909f7420b854c5d427db44fd6": {
          "model_module": "@jupyter-widgets/controls",
          "model_name": "FloatProgressModel",
          "model_module_version": "1.5.0",
          "state": {
            "_dom_classes": [],
            "_model_module": "@jupyter-widgets/controls",
            "_model_module_version": "1.5.0",
            "_model_name": "FloatProgressModel",
            "_view_count": null,
            "_view_module": "@jupyter-widgets/controls",
            "_view_module_version": "1.5.0",
            "_view_name": "ProgressView",
            "bar_style": "success",
            "description": "",
            "description_tooltip": null,
            "layout": "IPY_MODEL_a49e2ec5035645359a622ca35611cbd8",
            "max": 1,
            "min": 0,
            "orientation": "horizontal",
            "style": "IPY_MODEL_6351a58e0b0d421a90511704f2499567",
            "value": 1
          }
        },
        "3a5ba7ee45a44b17b2cd4182161c8415": {
          "model_module": "@jupyter-widgets/controls",
          "model_name": "HTMLModel",
          "model_module_version": "1.5.0",
          "state": {
            "_dom_classes": [],
            "_model_module": "@jupyter-widgets/controls",
            "_model_module_version": "1.5.0",
            "_model_name": "HTMLModel",
            "_view_count": null,
            "_view_module": "@jupyter-widgets/controls",
            "_view_module_version": "1.5.0",
            "_view_name": "HTMLView",
            "description": "",
            "description_tooltip": null,
            "layout": "IPY_MODEL_732cdd084f6c45f1b5968cf4d3360bd9",
            "placeholder": "​",
            "style": "IPY_MODEL_6631177046ad45de8275cc9a598ce865",
            "value": " [100%]   00:01 -&gt; (00:00 left)"
          }
        },
        "f38ed9cac76b479ab5647d375c7ffc22": {
          "model_module": "@jupyter-widgets/base",
          "model_name": "LayoutModel",
          "model_module_version": "1.2.0",
          "state": {
            "_model_module": "@jupyter-widgets/base",
            "_model_module_version": "1.2.0",
            "_model_name": "LayoutModel",
            "_view_count": null,
            "_view_module": "@jupyter-widgets/base",
            "_view_module_version": "1.2.0",
            "_view_name": "LayoutView",
            "align_content": null,
            "align_items": null,
            "align_self": null,
            "border": null,
            "bottom": null,
            "display": "inline-flex",
            "flex": null,
            "flex_flow": "row wrap",
            "grid_area": null,
            "grid_auto_columns": null,
            "grid_auto_flow": null,
            "grid_auto_rows": null,
            "grid_column": null,
            "grid_gap": null,
            "grid_row": null,
            "grid_template_areas": null,
            "grid_template_columns": null,
            "grid_template_rows": null,
            "height": null,
            "justify_content": null,
            "justify_items": null,
            "left": null,
            "margin": null,
            "max_height": null,
            "max_width": null,
            "min_height": null,
            "min_width": null,
            "object_fit": null,
            "object_position": null,
            "order": null,
            "overflow": null,
            "overflow_x": null,
            "overflow_y": null,
            "padding": null,
            "right": null,
            "top": null,
            "visibility": null,
            "width": "100%"
          }
        },
        "865febb68e2d4c3895527174a1e7f6e9": {
          "model_module": "@jupyter-widgets/base",
          "model_name": "LayoutModel",
          "model_module_version": "1.2.0",
          "state": {
            "_model_module": "@jupyter-widgets/base",
            "_model_module_version": "1.2.0",
            "_model_name": "LayoutModel",
            "_view_count": null,
            "_view_module": "@jupyter-widgets/base",
            "_view_module_version": "1.2.0",
            "_view_name": "LayoutView",
            "align_content": null,
            "align_items": null,
            "align_self": null,
            "border": null,
            "bottom": null,
            "display": null,
            "flex": null,
            "flex_flow": null,
            "grid_area": null,
            "grid_auto_columns": null,
            "grid_auto_flow": null,
            "grid_auto_rows": null,
            "grid_column": null,
            "grid_gap": null,
            "grid_row": null,
            "grid_template_areas": null,
            "grid_template_columns": null,
            "grid_template_rows": null,
            "height": null,
            "justify_content": null,
            "justify_items": null,
            "left": null,
            "margin": null,
            "max_height": null,
            "max_width": null,
            "min_height": null,
            "min_width": null,
            "object_fit": null,
            "object_position": null,
            "order": null,
            "overflow": null,
            "overflow_x": null,
            "overflow_y": null,
            "padding": null,
            "right": null,
            "top": null,
            "visibility": null,
            "width": null
          }
        },
        "809e8a36881240ab89492bd5cb757624": {
          "model_module": "@jupyter-widgets/controls",
          "model_name": "DescriptionStyleModel",
          "model_module_version": "1.5.0",
          "state": {
            "_model_module": "@jupyter-widgets/controls",
            "_model_module_version": "1.5.0",
            "_model_name": "DescriptionStyleModel",
            "_view_count": null,
            "_view_module": "@jupyter-widgets/base",
            "_view_module_version": "1.2.0",
            "_view_name": "StyleView",
            "description_width": ""
          }
        },
        "a49e2ec5035645359a622ca35611cbd8": {
          "model_module": "@jupyter-widgets/base",
          "model_name": "LayoutModel",
          "model_module_version": "1.2.0",
          "state": {
            "_model_module": "@jupyter-widgets/base",
            "_model_module_version": "1.2.0",
            "_model_name": "LayoutModel",
            "_view_count": null,
            "_view_module": "@jupyter-widgets/base",
            "_view_module_version": "1.2.0",
            "_view_name": "LayoutView",
            "align_content": null,
            "align_items": null,
            "align_self": null,
            "border": null,
            "bottom": null,
            "display": null,
            "flex": "2",
            "flex_flow": null,
            "grid_area": null,
            "grid_auto_columns": null,
            "grid_auto_flow": null,
            "grid_auto_rows": null,
            "grid_column": null,
            "grid_gap": null,
            "grid_row": null,
            "grid_template_areas": null,
            "grid_template_columns": null,
            "grid_template_rows": null,
            "height": null,
            "justify_content": null,
            "justify_items": null,
            "left": null,
            "margin": null,
            "max_height": null,
            "max_width": null,
            "min_height": null,
            "min_width": null,
            "object_fit": null,
            "object_position": null,
            "order": null,
            "overflow": null,
            "overflow_x": null,
            "overflow_y": null,
            "padding": null,
            "right": null,
            "top": null,
            "visibility": null,
            "width": null
          }
        },
        "6351a58e0b0d421a90511704f2499567": {
          "model_module": "@jupyter-widgets/controls",
          "model_name": "ProgressStyleModel",
          "model_module_version": "1.5.0",
          "state": {
            "_model_module": "@jupyter-widgets/controls",
            "_model_module_version": "1.5.0",
            "_model_name": "ProgressStyleModel",
            "_view_count": null,
            "_view_module": "@jupyter-widgets/base",
            "_view_module_version": "1.2.0",
            "_view_name": "StyleView",
            "bar_color": null,
            "description_width": ""
          }
        },
        "732cdd084f6c45f1b5968cf4d3360bd9": {
          "model_module": "@jupyter-widgets/base",
          "model_name": "LayoutModel",
          "model_module_version": "1.2.0",
          "state": {
            "_model_module": "@jupyter-widgets/base",
            "_model_module_version": "1.2.0",
            "_model_name": "LayoutModel",
            "_view_count": null,
            "_view_module": "@jupyter-widgets/base",
            "_view_module_version": "1.2.0",
            "_view_name": "LayoutView",
            "align_content": null,
            "align_items": null,
            "align_self": null,
            "border": null,
            "bottom": null,
            "display": null,
            "flex": null,
            "flex_flow": null,
            "grid_area": null,
            "grid_auto_columns": null,
            "grid_auto_flow": null,
            "grid_auto_rows": null,
            "grid_column": null,
            "grid_gap": null,
            "grid_row": null,
            "grid_template_areas": null,
            "grid_template_columns": null,
            "grid_template_rows": null,
            "height": null,
            "justify_content": null,
            "justify_items": null,
            "left": null,
            "margin": null,
            "max_height": null,
            "max_width": null,
            "min_height": null,
            "min_width": null,
            "object_fit": null,
            "object_position": null,
            "order": null,
            "overflow": null,
            "overflow_x": null,
            "overflow_y": null,
            "padding": null,
            "right": null,
            "top": null,
            "visibility": null,
            "width": null
          }
        },
        "6631177046ad45de8275cc9a598ce865": {
          "model_module": "@jupyter-widgets/controls",
          "model_name": "DescriptionStyleModel",
          "model_module_version": "1.5.0",
          "state": {
            "_model_module": "@jupyter-widgets/controls",
            "_model_module_version": "1.5.0",
            "_model_name": "DescriptionStyleModel",
            "_view_count": null,
            "_view_module": "@jupyter-widgets/base",
            "_view_module_version": "1.2.0",
            "_view_name": "StyleView",
            "description_width": ""
          }
        }
      }
    }
  },
  "cells": [
    {
      "cell_type": "markdown",
      "metadata": {
        "id": "view-in-github",
        "colab_type": "text"
      },
      "source": [
        "<a href=\"https://colab.research.google.com/github/thiagobarral/geofusion-case/blob/main/geofusion_case.ipynb\" target=\"_parent\"><img src=\"https://colab.research.google.com/assets/colab-badge.svg\" alt=\"Open In Colab\"/></a>"
      ]
    },
    {
      "cell_type": "markdown",
      "source": [
        "# Instalando e importando as bibliotecas"
      ],
      "metadata": {
        "id": "jqh8r7ZDbeeq"
      }
    },
    {
      "cell_type": "code",
      "source": [
        "!pip install sweetviz"
      ],
      "metadata": {
        "colab": {
          "base_uri": "https://localhost:8080/"
        },
        "id": "rAug2plhFq6K",
        "outputId": "392265da-b8e2-4a3d-c2db-8c8404a4c547"
      },
      "execution_count": 1,
      "outputs": [
        {
          "output_type": "stream",
          "name": "stdout",
          "text": [
            "Looking in indexes: https://pypi.org/simple, https://us-python.pkg.dev/colab-wheels/public/simple/\n",
            "Collecting sweetviz\n",
            "  Downloading sweetviz-2.1.4-py3-none-any.whl (15.1 MB)\n",
            "\u001b[K     |████████████████████████████████| 15.1 MB 5.3 MB/s \n",
            "\u001b[?25hRequirement already satisfied: pandas!=1.0.0,!=1.0.1,!=1.0.2,>=0.25.3 in /usr/local/lib/python3.7/dist-packages (from sweetviz) (1.3.5)\n",
            "Requirement already satisfied: jinja2>=2.11.1 in /usr/local/lib/python3.7/dist-packages (from sweetviz) (2.11.3)\n",
            "Requirement already satisfied: tqdm>=4.43.0 in /usr/local/lib/python3.7/dist-packages (from sweetviz) (4.64.1)\n",
            "Requirement already satisfied: numpy>=1.16.0 in /usr/local/lib/python3.7/dist-packages (from sweetviz) (1.21.6)\n",
            "Requirement already satisfied: scipy>=1.3.2 in /usr/local/lib/python3.7/dist-packages (from sweetviz) (1.7.3)\n",
            "Requirement already satisfied: importlib-resources>=1.2.0 in /usr/local/lib/python3.7/dist-packages (from sweetviz) (5.10.0)\n",
            "Requirement already satisfied: matplotlib>=3.1.3 in /usr/local/lib/python3.7/dist-packages (from sweetviz) (3.2.2)\n",
            "Requirement already satisfied: zipp>=3.1.0 in /usr/local/lib/python3.7/dist-packages (from importlib-resources>=1.2.0->sweetviz) (3.10.0)\n",
            "Requirement already satisfied: MarkupSafe>=0.23 in /usr/local/lib/python3.7/dist-packages (from jinja2>=2.11.1->sweetviz) (2.0.1)\n",
            "Requirement already satisfied: python-dateutil>=2.1 in /usr/local/lib/python3.7/dist-packages (from matplotlib>=3.1.3->sweetviz) (2.8.2)\n",
            "Requirement already satisfied: pyparsing!=2.0.4,!=2.1.2,!=2.1.6,>=2.0.1 in /usr/local/lib/python3.7/dist-packages (from matplotlib>=3.1.3->sweetviz) (3.0.9)\n",
            "Requirement already satisfied: cycler>=0.10 in /usr/local/lib/python3.7/dist-packages (from matplotlib>=3.1.3->sweetviz) (0.11.0)\n",
            "Requirement already satisfied: kiwisolver>=1.0.1 in /usr/local/lib/python3.7/dist-packages (from matplotlib>=3.1.3->sweetviz) (1.4.4)\n",
            "Requirement already satisfied: typing-extensions in /usr/local/lib/python3.7/dist-packages (from kiwisolver>=1.0.1->matplotlib>=3.1.3->sweetviz) (4.1.1)\n",
            "Requirement already satisfied: pytz>=2017.3 in /usr/local/lib/python3.7/dist-packages (from pandas!=1.0.0,!=1.0.1,!=1.0.2,>=0.25.3->sweetviz) (2022.6)\n",
            "Requirement already satisfied: six>=1.5 in /usr/local/lib/python3.7/dist-packages (from python-dateutil>=2.1->matplotlib>=3.1.3->sweetviz) (1.15.0)\n",
            "Installing collected packages: sweetviz\n",
            "Successfully installed sweetviz-2.1.4\n"
          ]
        }
      ]
    },
    {
      "cell_type": "code",
      "execution_count": 2,
      "metadata": {
        "id": "JfhipyNvbElS"
      },
      "outputs": [],
      "source": [
        "import pandas as pd\n",
        "import numpy as np\n",
        "import matplotlib.pyplot as plt\n",
        "from matplotlib.pyplot import figure\n",
        "import seaborn as sns\n",
        "import sweetviz as sv\n",
        "from sklearn.linear_model import LinearRegression\n",
        "from sklearn.metrics import mean_squared_error, r2_score\n",
        "from sklearn.model_selection import train_test_split\n",
        "from sklearn.tree import DecisionTreeRegressor\n",
        "from scipy.stats import expon as sp_expon\n",
        "from scipy.stats import randint as sp_randint\n",
        "from sklearn.model_selection import RandomizedSearchCV\n",
        "from sklearn.svm import SVR\n",
        "from sklearn.linear_model import LogisticRegression\n",
        "from sklearn.naive_bayes import MultinomialNB\n",
        "from sklearn.neighbors import KNeighborsClassifier\n",
        "from sklearn.svm import SVC\n",
        "from sklearn.metrics import confusion_matrix\n",
        "from sklearn.pipeline import make_pipeline\n",
        "from sklearn.preprocessing import StandardScaler\n",
        "from sklearn.metrics import accuracy_score\n",
        "from google.colab import drive"
      ]
    },
    {
      "cell_type": "code",
      "source": [
        "import warnings\n",
        "warnings.filterwarnings('ignore')"
      ],
      "metadata": {
        "id": "wrI5bfM1FU74"
      },
      "execution_count": 3,
      "outputs": []
    },
    {
      "cell_type": "markdown",
      "source": [
        "# Importando os dados"
      ],
      "metadata": {
        "id": "6YvSzas1bmtP"
      }
    },
    {
      "cell_type": "code",
      "source": [
        "drive.mount('/content/drive')"
      ],
      "metadata": {
        "colab": {
          "base_uri": "https://localhost:8080/"
        },
        "id": "b8LfN68ibRjD",
        "outputId": "75d71cae-14aa-4799-82eb-0769ae1d9392"
      },
      "execution_count": 4,
      "outputs": [
        {
          "output_type": "stream",
          "name": "stdout",
          "text": [
            "Mounted at /content/drive\n"
          ]
        }
      ]
    },
    {
      "cell_type": "code",
      "source": [
        "!ls \"/content/drive/My Drive/geofusion_data\""
      ],
      "metadata": {
        "colab": {
          "base_uri": "https://localhost:8080/"
        },
        "id": "xcTF_Ul6cVIX",
        "outputId": "f504bd94-349b-4e15-f0cc-5e1360bf6d7f"
      },
      "execution_count": 5,
      "outputs": [
        {
          "output_type": "stream",
          "name": "stdout",
          "text": [
            " DadosDesafioCientista.xlsx\n",
            "'Desafio Técnico - Cientista de Dados.pdf'\n",
            " Previsaodefaturamentoepotencial.xlsx\n"
          ]
        }
      ]
    },
    {
      "cell_type": "code",
      "source": [
        "fat_pot_df = pd.read_excel(\"/content/drive/My Drive/geofusion_data/DadosDesafioCientista.xlsx\")"
      ],
      "metadata": {
        "id": "yM1MAhJZdZGq"
      },
      "execution_count": 6,
      "outputs": []
    },
    {
      "cell_type": "markdown",
      "source": [
        "# Manipulando os dados"
      ],
      "metadata": {
        "id": "FIvt5GwIzi9I"
      }
    },
    {
      "cell_type": "code",
      "source": [
        "fat_pot_df.dtypes"
      ],
      "metadata": {
        "colab": {
          "base_uri": "https://localhost:8080/"
        },
        "id": "97xJmhmJ4zgD",
        "outputId": "8da3559c-3562-46e0-eead-255166c4d2fc"
      },
      "execution_count": 7,
      "outputs": [
        {
          "output_type": "execute_result",
          "data": {
            "text/plain": [
              "codigo          float64\n",
              "nome             object\n",
              "cidade           object\n",
              "estado           object\n",
              "população       float64\n",
              "popAte9         float64\n",
              "popDe10a14      float64\n",
              "popDe15a19      float64\n",
              "popDe20a24      float64\n",
              "popDe25a34      float64\n",
              "popDe35a49      float64\n",
              "popDe50a59      float64\n",
              "popMaisDe60     float64\n",
              "domiciliosA1    float64\n",
              "domiciliosA2    float64\n",
              "domiciliosB1    float64\n",
              "domiciliosB2    float64\n",
              "domiciliosC1    float64\n",
              "domiciliosC2    float64\n",
              "domiciliosD     float64\n",
              "domiciliosE     float64\n",
              "rendaMedia       object\n",
              "faturamento     float64\n",
              "potencial        object\n",
              "dtype: object"
            ]
          },
          "metadata": {},
          "execution_count": 7
        }
      ]
    },
    {
      "cell_type": "code",
      "source": [
        "fat_pot_df.rendaMedia.replace('-','', inplace = True)\n",
        "fat_pot_df.rendaMedia = pd.to_numeric(fat_pot_df.rendaMedia)"
      ],
      "metadata": {
        "id": "gAUFIIDX49Hl"
      },
      "execution_count": 8,
      "outputs": []
    },
    {
      "cell_type": "code",
      "source": [
        "fat_pot_df.dtypes"
      ],
      "metadata": {
        "colab": {
          "base_uri": "https://localhost:8080/"
        },
        "id": "sNYKFFIetUp6",
        "outputId": "6c886f62-29ca-4a54-e068-62c95cdf71b7"
      },
      "execution_count": 9,
      "outputs": [
        {
          "output_type": "execute_result",
          "data": {
            "text/plain": [
              "codigo          float64\n",
              "nome             object\n",
              "cidade           object\n",
              "estado           object\n",
              "população       float64\n",
              "popAte9         float64\n",
              "popDe10a14      float64\n",
              "popDe15a19      float64\n",
              "popDe20a24      float64\n",
              "popDe25a34      float64\n",
              "popDe35a49      float64\n",
              "popDe50a59      float64\n",
              "popMaisDe60     float64\n",
              "domiciliosA1    float64\n",
              "domiciliosA2    float64\n",
              "domiciliosB1    float64\n",
              "domiciliosB2    float64\n",
              "domiciliosC1    float64\n",
              "domiciliosC2    float64\n",
              "domiciliosD     float64\n",
              "domiciliosE     float64\n",
              "rendaMedia      float64\n",
              "faturamento     float64\n",
              "potencial        object\n",
              "dtype: object"
            ]
          },
          "metadata": {},
          "execution_count": 9
        }
      ]
    },
    {
      "cell_type": "code",
      "source": [
        "fat_pot_df = fat_pot_df.dropna(subset=['rendaMedia'])"
      ],
      "metadata": {
        "id": "YKI5U_hxlA5e"
      },
      "execution_count": 10,
      "outputs": []
    },
    {
      "cell_type": "code",
      "source": [
        "fat_pot_rj = fat_pot_df[fat_pot_df['estado'] == 'RJ']\n",
        "fat_pot_rj.drop(['codigo', 'cidade', 'estado'], axis=1, inplace = True)"
      ],
      "metadata": {
        "id": "CYOHA8qIzgFd"
      },
      "execution_count": 11,
      "outputs": []
    },
    {
      "cell_type": "code",
      "source": [
        "fat_pot_sp = fat_pot_df[fat_pot_df['estado'] == 'SP']\n",
        "fat_pot_sp.drop(['codigo', 'cidade', 'estado', 'faturamento', 'potencial'], axis=1, inplace = True)"
      ],
      "metadata": {
        "id": "OkaRBuve0huc"
      },
      "execution_count": 12,
      "outputs": []
    },
    {
      "cell_type": "code",
      "source": [
        "fat_pot_rj.groupby(['potencial']).sum()"
      ],
      "metadata": {
        "colab": {
          "base_uri": "https://localhost:8080/",
          "height": 239
        },
        "id": "ZV4pW1hS5ccy",
        "outputId": "a6ab73f5-5e2a-4507-e0e9-d8d3de98d484"
      },
      "execution_count": 13,
      "outputs": [
        {
          "output_type": "execute_result",
          "data": {
            "text/plain": [
              "           população   popAte9  popDe10a14  popDe15a19  popDe20a24  \\\n",
              "potencial                                                            \n",
              "Alto       3680822.0  427791.0    198767.0    264021.0    279746.0   \n",
              "Baixo       945462.0  126169.0     59029.0     77500.0     80167.0   \n",
              "Médio      2007641.0  278145.0    130105.0    168391.0    161636.0   \n",
              "\n",
              "           popDe25a34  popDe35a49  popDe50a59  popMaisDe60  domiciliosA1  \\\n",
              "potencial                                                                  \n",
              "Alto         551489.0    740946.0    488485.0     729577.0       58206.0   \n",
              "Baixo        153661.0    200732.0    108685.0     139519.0          68.0   \n",
              "Médio        319001.0    429216.0    230554.0     290593.0        2090.0   \n",
              "\n",
              "           domiciliosA2  domiciliosB1  domiciliosB2  domiciliosC1  \\\n",
              "potencial                                                           \n",
              "Alto            83426.0      220727.0      222878.0      283908.0   \n",
              "Baixo            1871.0       18882.0       45823.0       84605.0   \n",
              "Médio            6583.0       46296.0      100276.0      183755.0   \n",
              "\n",
              "           domiciliosC2  domiciliosD  domiciliosE  rendaMedia  faturamento  \n",
              "potencial                                                                   \n",
              "Alto           207800.0      37141.0     116953.0    313355.0   56001880.0  \n",
              "Baixo           84523.0      16480.0      56635.0     94882.0   43599468.0  \n",
              "Médio          180793.0      35246.0     112355.0    147406.0   34406423.0  "
            ],
            "text/html": [
              "\n",
              "  <div id=\"df-1f56ed7d-e6e3-41c9-aae4-d4c6c2bb3789\">\n",
              "    <div class=\"colab-df-container\">\n",
              "      <div>\n",
              "<style scoped>\n",
              "    .dataframe tbody tr th:only-of-type {\n",
              "        vertical-align: middle;\n",
              "    }\n",
              "\n",
              "    .dataframe tbody tr th {\n",
              "        vertical-align: top;\n",
              "    }\n",
              "\n",
              "    .dataframe thead th {\n",
              "        text-align: right;\n",
              "    }\n",
              "</style>\n",
              "<table border=\"1\" class=\"dataframe\">\n",
              "  <thead>\n",
              "    <tr style=\"text-align: right;\">\n",
              "      <th></th>\n",
              "      <th>população</th>\n",
              "      <th>popAte9</th>\n",
              "      <th>popDe10a14</th>\n",
              "      <th>popDe15a19</th>\n",
              "      <th>popDe20a24</th>\n",
              "      <th>popDe25a34</th>\n",
              "      <th>popDe35a49</th>\n",
              "      <th>popDe50a59</th>\n",
              "      <th>popMaisDe60</th>\n",
              "      <th>domiciliosA1</th>\n",
              "      <th>domiciliosA2</th>\n",
              "      <th>domiciliosB1</th>\n",
              "      <th>domiciliosB2</th>\n",
              "      <th>domiciliosC1</th>\n",
              "      <th>domiciliosC2</th>\n",
              "      <th>domiciliosD</th>\n",
              "      <th>domiciliosE</th>\n",
              "      <th>rendaMedia</th>\n",
              "      <th>faturamento</th>\n",
              "    </tr>\n",
              "    <tr>\n",
              "      <th>potencial</th>\n",
              "      <th></th>\n",
              "      <th></th>\n",
              "      <th></th>\n",
              "      <th></th>\n",
              "      <th></th>\n",
              "      <th></th>\n",
              "      <th></th>\n",
              "      <th></th>\n",
              "      <th></th>\n",
              "      <th></th>\n",
              "      <th></th>\n",
              "      <th></th>\n",
              "      <th></th>\n",
              "      <th></th>\n",
              "      <th></th>\n",
              "      <th></th>\n",
              "      <th></th>\n",
              "      <th></th>\n",
              "      <th></th>\n",
              "    </tr>\n",
              "  </thead>\n",
              "  <tbody>\n",
              "    <tr>\n",
              "      <th>Alto</th>\n",
              "      <td>3680822.0</td>\n",
              "      <td>427791.0</td>\n",
              "      <td>198767.0</td>\n",
              "      <td>264021.0</td>\n",
              "      <td>279746.0</td>\n",
              "      <td>551489.0</td>\n",
              "      <td>740946.0</td>\n",
              "      <td>488485.0</td>\n",
              "      <td>729577.0</td>\n",
              "      <td>58206.0</td>\n",
              "      <td>83426.0</td>\n",
              "      <td>220727.0</td>\n",
              "      <td>222878.0</td>\n",
              "      <td>283908.0</td>\n",
              "      <td>207800.0</td>\n",
              "      <td>37141.0</td>\n",
              "      <td>116953.0</td>\n",
              "      <td>313355.0</td>\n",
              "      <td>56001880.0</td>\n",
              "    </tr>\n",
              "    <tr>\n",
              "      <th>Baixo</th>\n",
              "      <td>945462.0</td>\n",
              "      <td>126169.0</td>\n",
              "      <td>59029.0</td>\n",
              "      <td>77500.0</td>\n",
              "      <td>80167.0</td>\n",
              "      <td>153661.0</td>\n",
              "      <td>200732.0</td>\n",
              "      <td>108685.0</td>\n",
              "      <td>139519.0</td>\n",
              "      <td>68.0</td>\n",
              "      <td>1871.0</td>\n",
              "      <td>18882.0</td>\n",
              "      <td>45823.0</td>\n",
              "      <td>84605.0</td>\n",
              "      <td>84523.0</td>\n",
              "      <td>16480.0</td>\n",
              "      <td>56635.0</td>\n",
              "      <td>94882.0</td>\n",
              "      <td>43599468.0</td>\n",
              "    </tr>\n",
              "    <tr>\n",
              "      <th>Médio</th>\n",
              "      <td>2007641.0</td>\n",
              "      <td>278145.0</td>\n",
              "      <td>130105.0</td>\n",
              "      <td>168391.0</td>\n",
              "      <td>161636.0</td>\n",
              "      <td>319001.0</td>\n",
              "      <td>429216.0</td>\n",
              "      <td>230554.0</td>\n",
              "      <td>290593.0</td>\n",
              "      <td>2090.0</td>\n",
              "      <td>6583.0</td>\n",
              "      <td>46296.0</td>\n",
              "      <td>100276.0</td>\n",
              "      <td>183755.0</td>\n",
              "      <td>180793.0</td>\n",
              "      <td>35246.0</td>\n",
              "      <td>112355.0</td>\n",
              "      <td>147406.0</td>\n",
              "      <td>34406423.0</td>\n",
              "    </tr>\n",
              "  </tbody>\n",
              "</table>\n",
              "</div>\n",
              "      <button class=\"colab-df-convert\" onclick=\"convertToInteractive('df-1f56ed7d-e6e3-41c9-aae4-d4c6c2bb3789')\"\n",
              "              title=\"Convert this dataframe to an interactive table.\"\n",
              "              style=\"display:none;\">\n",
              "        \n",
              "  <svg xmlns=\"http://www.w3.org/2000/svg\" height=\"24px\"viewBox=\"0 0 24 24\"\n",
              "       width=\"24px\">\n",
              "    <path d=\"M0 0h24v24H0V0z\" fill=\"none\"/>\n",
              "    <path d=\"M18.56 5.44l.94 2.06.94-2.06 2.06-.94-2.06-.94-.94-2.06-.94 2.06-2.06.94zm-11 1L8.5 8.5l.94-2.06 2.06-.94-2.06-.94L8.5 2.5l-.94 2.06-2.06.94zm10 10l.94 2.06.94-2.06 2.06-.94-2.06-.94-.94-2.06-.94 2.06-2.06.94z\"/><path d=\"M17.41 7.96l-1.37-1.37c-.4-.4-.92-.59-1.43-.59-.52 0-1.04.2-1.43.59L10.3 9.45l-7.72 7.72c-.78.78-.78 2.05 0 2.83L4 21.41c.39.39.9.59 1.41.59.51 0 1.02-.2 1.41-.59l7.78-7.78 2.81-2.81c.8-.78.8-2.07 0-2.86zM5.41 20L4 18.59l7.72-7.72 1.47 1.35L5.41 20z\"/>\n",
              "  </svg>\n",
              "      </button>\n",
              "      \n",
              "  <style>\n",
              "    .colab-df-container {\n",
              "      display:flex;\n",
              "      flex-wrap:wrap;\n",
              "      gap: 12px;\n",
              "    }\n",
              "\n",
              "    .colab-df-convert {\n",
              "      background-color: #E8F0FE;\n",
              "      border: none;\n",
              "      border-radius: 50%;\n",
              "      cursor: pointer;\n",
              "      display: none;\n",
              "      fill: #1967D2;\n",
              "      height: 32px;\n",
              "      padding: 0 0 0 0;\n",
              "      width: 32px;\n",
              "    }\n",
              "\n",
              "    .colab-df-convert:hover {\n",
              "      background-color: #E2EBFA;\n",
              "      box-shadow: 0px 1px 2px rgba(60, 64, 67, 0.3), 0px 1px 3px 1px rgba(60, 64, 67, 0.15);\n",
              "      fill: #174EA6;\n",
              "    }\n",
              "\n",
              "    [theme=dark] .colab-df-convert {\n",
              "      background-color: #3B4455;\n",
              "      fill: #D2E3FC;\n",
              "    }\n",
              "\n",
              "    [theme=dark] .colab-df-convert:hover {\n",
              "      background-color: #434B5C;\n",
              "      box-shadow: 0px 1px 3px 1px rgba(0, 0, 0, 0.15);\n",
              "      filter: drop-shadow(0px 1px 2px rgba(0, 0, 0, 0.3));\n",
              "      fill: #FFFFFF;\n",
              "    }\n",
              "  </style>\n",
              "\n",
              "      <script>\n",
              "        const buttonEl =\n",
              "          document.querySelector('#df-1f56ed7d-e6e3-41c9-aae4-d4c6c2bb3789 button.colab-df-convert');\n",
              "        buttonEl.style.display =\n",
              "          google.colab.kernel.accessAllowed ? 'block' : 'none';\n",
              "\n",
              "        async function convertToInteractive(key) {\n",
              "          const element = document.querySelector('#df-1f56ed7d-e6e3-41c9-aae4-d4c6c2bb3789');\n",
              "          const dataTable =\n",
              "            await google.colab.kernel.invokeFunction('convertToInteractive',\n",
              "                                                     [key], {});\n",
              "          if (!dataTable) return;\n",
              "\n",
              "          const docLinkHtml = 'Like what you see? Visit the ' +\n",
              "            '<a target=\"_blank\" href=https://colab.research.google.com/notebooks/data_table.ipynb>data table notebook</a>'\n",
              "            + ' to learn more about interactive tables.';\n",
              "          element.innerHTML = '';\n",
              "          dataTable['output_type'] = 'display_data';\n",
              "          await google.colab.output.renderOutput(dataTable, element);\n",
              "          const docLink = document.createElement('div');\n",
              "          docLink.innerHTML = docLinkHtml;\n",
              "          element.appendChild(docLink);\n",
              "        }\n",
              "      </script>\n",
              "    </div>\n",
              "  </div>\n",
              "  "
            ]
          },
          "metadata": {},
          "execution_count": 13
        }
      ]
    },
    {
      "cell_type": "code",
      "source": [
        "fat_pot_rj.describe()"
      ],
      "metadata": {
        "colab": {
          "base_uri": "https://localhost:8080/",
          "height": 364
        },
        "id": "iryx95zjAvJf",
        "outputId": "f310294c-d48f-41a4-e832-1b8e9c844739"
      },
      "execution_count": 14,
      "outputs": [
        {
          "output_type": "execute_result",
          "data": {
            "text/plain": [
              "           população        popAte9    popDe10a14    popDe15a19    popDe20a24  \\\n",
              "count     154.000000     154.000000    154.000000    154.000000    154.000000   \n",
              "mean    43077.435065    5403.279221   2518.837662   3311.116883   3386.681818   \n",
              "std     65336.035109   11008.972231   5037.002622   5851.900968   5698.898125   \n",
              "min       173.000000      33.000000     13.000000     22.000000     17.000000   \n",
              "25%     13443.250000    1512.250000    678.250000    945.000000    988.500000   \n",
              "50%     26567.000000    3150.000000   1450.500000   2034.000000   2183.500000   \n",
              "75%     46557.500000    5650.750000   2648.500000   3450.250000   3435.750000   \n",
              "max    667603.000000  122578.000000  55935.000000  62342.000000  60567.000000   \n",
              "\n",
              "         popDe25a34     popDe35a49    popDe50a59   popMaisDe60  domiciliosA1  \\\n",
              "count    154.000000     154.000000    154.000000    154.000000    154.000000   \n",
              "mean    6650.331169    8901.909091   5374.831169   7530.448052    391.974026   \n",
              "std     9196.873495   11710.858917   8118.995209  10425.899252   1429.321101   \n",
              "min       28.000000      38.000000     10.000000     12.000000      0.000000   \n",
              "25%     2151.500000    2910.250000   1630.750000   2114.750000      0.000000   \n",
              "50%     4288.500000    5675.000000   3337.500000   4536.500000      0.000000   \n",
              "75%     7143.500000    9596.250000   6333.750000   9282.000000      0.000000   \n",
              "max    86116.000000  105316.000000  83341.000000  91408.000000  13408.000000   \n",
              "\n",
              "       domiciliosA2  domiciliosB1  domiciliosB2  domiciliosC1  domiciliosC2  \\\n",
              "count    154.000000    154.000000    154.000000    154.000000    154.000000   \n",
              "mean     596.623377   1856.525974   2395.954545   3586.155844   3072.181818   \n",
              "std     1552.853995   3004.463147   2817.055628   4391.463785   4065.856812   \n",
              "min        0.000000      0.000000      0.000000      5.000000      3.000000   \n",
              "25%        0.000000    393.000000    728.000000   1080.250000    774.750000   \n",
              "50%      104.000000    833.500000   1497.000000   2458.000000   1883.500000   \n",
              "75%      351.750000   1909.000000   3079.250000   4261.000000   3627.250000   \n",
              "max    11668.000000  19350.000000  21237.000000  33111.000000  25779.000000   \n",
              "\n",
              "       domiciliosD   domiciliosE    rendaMedia   faturamento  \n",
              "count   154.000000    154.000000    154.000000  1.540000e+02  \n",
              "mean    577.058442   1856.772727   3608.071429  8.701803e+05  \n",
              "std     837.320073   2327.010887   6091.865305  4.430037e+05  \n",
              "min       0.000000      2.000000    654.000000  2.465100e+04  \n",
              "25%     117.250000    430.500000   1486.000000  7.051840e+05  \n",
              "50%     330.000000   1051.500000   1915.500000  8.220250e+05  \n",
              "75%     696.000000   2267.250000   2954.500000  9.325952e+05  \n",
              "max    4956.000000  14833.000000  63887.000000  2.915612e+06  "
            ],
            "text/html": [
              "\n",
              "  <div id=\"df-9be09b82-e35d-4933-9a75-2c42894afa7d\">\n",
              "    <div class=\"colab-df-container\">\n",
              "      <div>\n",
              "<style scoped>\n",
              "    .dataframe tbody tr th:only-of-type {\n",
              "        vertical-align: middle;\n",
              "    }\n",
              "\n",
              "    .dataframe tbody tr th {\n",
              "        vertical-align: top;\n",
              "    }\n",
              "\n",
              "    .dataframe thead th {\n",
              "        text-align: right;\n",
              "    }\n",
              "</style>\n",
              "<table border=\"1\" class=\"dataframe\">\n",
              "  <thead>\n",
              "    <tr style=\"text-align: right;\">\n",
              "      <th></th>\n",
              "      <th>população</th>\n",
              "      <th>popAte9</th>\n",
              "      <th>popDe10a14</th>\n",
              "      <th>popDe15a19</th>\n",
              "      <th>popDe20a24</th>\n",
              "      <th>popDe25a34</th>\n",
              "      <th>popDe35a49</th>\n",
              "      <th>popDe50a59</th>\n",
              "      <th>popMaisDe60</th>\n",
              "      <th>domiciliosA1</th>\n",
              "      <th>domiciliosA2</th>\n",
              "      <th>domiciliosB1</th>\n",
              "      <th>domiciliosB2</th>\n",
              "      <th>domiciliosC1</th>\n",
              "      <th>domiciliosC2</th>\n",
              "      <th>domiciliosD</th>\n",
              "      <th>domiciliosE</th>\n",
              "      <th>rendaMedia</th>\n",
              "      <th>faturamento</th>\n",
              "    </tr>\n",
              "  </thead>\n",
              "  <tbody>\n",
              "    <tr>\n",
              "      <th>count</th>\n",
              "      <td>154.000000</td>\n",
              "      <td>154.000000</td>\n",
              "      <td>154.000000</td>\n",
              "      <td>154.000000</td>\n",
              "      <td>154.000000</td>\n",
              "      <td>154.000000</td>\n",
              "      <td>154.000000</td>\n",
              "      <td>154.000000</td>\n",
              "      <td>154.000000</td>\n",
              "      <td>154.000000</td>\n",
              "      <td>154.000000</td>\n",
              "      <td>154.000000</td>\n",
              "      <td>154.000000</td>\n",
              "      <td>154.000000</td>\n",
              "      <td>154.000000</td>\n",
              "      <td>154.000000</td>\n",
              "      <td>154.000000</td>\n",
              "      <td>154.000000</td>\n",
              "      <td>1.540000e+02</td>\n",
              "    </tr>\n",
              "    <tr>\n",
              "      <th>mean</th>\n",
              "      <td>43077.435065</td>\n",
              "      <td>5403.279221</td>\n",
              "      <td>2518.837662</td>\n",
              "      <td>3311.116883</td>\n",
              "      <td>3386.681818</td>\n",
              "      <td>6650.331169</td>\n",
              "      <td>8901.909091</td>\n",
              "      <td>5374.831169</td>\n",
              "      <td>7530.448052</td>\n",
              "      <td>391.974026</td>\n",
              "      <td>596.623377</td>\n",
              "      <td>1856.525974</td>\n",
              "      <td>2395.954545</td>\n",
              "      <td>3586.155844</td>\n",
              "      <td>3072.181818</td>\n",
              "      <td>577.058442</td>\n",
              "      <td>1856.772727</td>\n",
              "      <td>3608.071429</td>\n",
              "      <td>8.701803e+05</td>\n",
              "    </tr>\n",
              "    <tr>\n",
              "      <th>std</th>\n",
              "      <td>65336.035109</td>\n",
              "      <td>11008.972231</td>\n",
              "      <td>5037.002622</td>\n",
              "      <td>5851.900968</td>\n",
              "      <td>5698.898125</td>\n",
              "      <td>9196.873495</td>\n",
              "      <td>11710.858917</td>\n",
              "      <td>8118.995209</td>\n",
              "      <td>10425.899252</td>\n",
              "      <td>1429.321101</td>\n",
              "      <td>1552.853995</td>\n",
              "      <td>3004.463147</td>\n",
              "      <td>2817.055628</td>\n",
              "      <td>4391.463785</td>\n",
              "      <td>4065.856812</td>\n",
              "      <td>837.320073</td>\n",
              "      <td>2327.010887</td>\n",
              "      <td>6091.865305</td>\n",
              "      <td>4.430037e+05</td>\n",
              "    </tr>\n",
              "    <tr>\n",
              "      <th>min</th>\n",
              "      <td>173.000000</td>\n",
              "      <td>33.000000</td>\n",
              "      <td>13.000000</td>\n",
              "      <td>22.000000</td>\n",
              "      <td>17.000000</td>\n",
              "      <td>28.000000</td>\n",
              "      <td>38.000000</td>\n",
              "      <td>10.000000</td>\n",
              "      <td>12.000000</td>\n",
              "      <td>0.000000</td>\n",
              "      <td>0.000000</td>\n",
              "      <td>0.000000</td>\n",
              "      <td>0.000000</td>\n",
              "      <td>5.000000</td>\n",
              "      <td>3.000000</td>\n",
              "      <td>0.000000</td>\n",
              "      <td>2.000000</td>\n",
              "      <td>654.000000</td>\n",
              "      <td>2.465100e+04</td>\n",
              "    </tr>\n",
              "    <tr>\n",
              "      <th>25%</th>\n",
              "      <td>13443.250000</td>\n",
              "      <td>1512.250000</td>\n",
              "      <td>678.250000</td>\n",
              "      <td>945.000000</td>\n",
              "      <td>988.500000</td>\n",
              "      <td>2151.500000</td>\n",
              "      <td>2910.250000</td>\n",
              "      <td>1630.750000</td>\n",
              "      <td>2114.750000</td>\n",
              "      <td>0.000000</td>\n",
              "      <td>0.000000</td>\n",
              "      <td>393.000000</td>\n",
              "      <td>728.000000</td>\n",
              "      <td>1080.250000</td>\n",
              "      <td>774.750000</td>\n",
              "      <td>117.250000</td>\n",
              "      <td>430.500000</td>\n",
              "      <td>1486.000000</td>\n",
              "      <td>7.051840e+05</td>\n",
              "    </tr>\n",
              "    <tr>\n",
              "      <th>50%</th>\n",
              "      <td>26567.000000</td>\n",
              "      <td>3150.000000</td>\n",
              "      <td>1450.500000</td>\n",
              "      <td>2034.000000</td>\n",
              "      <td>2183.500000</td>\n",
              "      <td>4288.500000</td>\n",
              "      <td>5675.000000</td>\n",
              "      <td>3337.500000</td>\n",
              "      <td>4536.500000</td>\n",
              "      <td>0.000000</td>\n",
              "      <td>104.000000</td>\n",
              "      <td>833.500000</td>\n",
              "      <td>1497.000000</td>\n",
              "      <td>2458.000000</td>\n",
              "      <td>1883.500000</td>\n",
              "      <td>330.000000</td>\n",
              "      <td>1051.500000</td>\n",
              "      <td>1915.500000</td>\n",
              "      <td>8.220250e+05</td>\n",
              "    </tr>\n",
              "    <tr>\n",
              "      <th>75%</th>\n",
              "      <td>46557.500000</td>\n",
              "      <td>5650.750000</td>\n",
              "      <td>2648.500000</td>\n",
              "      <td>3450.250000</td>\n",
              "      <td>3435.750000</td>\n",
              "      <td>7143.500000</td>\n",
              "      <td>9596.250000</td>\n",
              "      <td>6333.750000</td>\n",
              "      <td>9282.000000</td>\n",
              "      <td>0.000000</td>\n",
              "      <td>351.750000</td>\n",
              "      <td>1909.000000</td>\n",
              "      <td>3079.250000</td>\n",
              "      <td>4261.000000</td>\n",
              "      <td>3627.250000</td>\n",
              "      <td>696.000000</td>\n",
              "      <td>2267.250000</td>\n",
              "      <td>2954.500000</td>\n",
              "      <td>9.325952e+05</td>\n",
              "    </tr>\n",
              "    <tr>\n",
              "      <th>max</th>\n",
              "      <td>667603.000000</td>\n",
              "      <td>122578.000000</td>\n",
              "      <td>55935.000000</td>\n",
              "      <td>62342.000000</td>\n",
              "      <td>60567.000000</td>\n",
              "      <td>86116.000000</td>\n",
              "      <td>105316.000000</td>\n",
              "      <td>83341.000000</td>\n",
              "      <td>91408.000000</td>\n",
              "      <td>13408.000000</td>\n",
              "      <td>11668.000000</td>\n",
              "      <td>19350.000000</td>\n",
              "      <td>21237.000000</td>\n",
              "      <td>33111.000000</td>\n",
              "      <td>25779.000000</td>\n",
              "      <td>4956.000000</td>\n",
              "      <td>14833.000000</td>\n",
              "      <td>63887.000000</td>\n",
              "      <td>2.915612e+06</td>\n",
              "    </tr>\n",
              "  </tbody>\n",
              "</table>\n",
              "</div>\n",
              "      <button class=\"colab-df-convert\" onclick=\"convertToInteractive('df-9be09b82-e35d-4933-9a75-2c42894afa7d')\"\n",
              "              title=\"Convert this dataframe to an interactive table.\"\n",
              "              style=\"display:none;\">\n",
              "        \n",
              "  <svg xmlns=\"http://www.w3.org/2000/svg\" height=\"24px\"viewBox=\"0 0 24 24\"\n",
              "       width=\"24px\">\n",
              "    <path d=\"M0 0h24v24H0V0z\" fill=\"none\"/>\n",
              "    <path d=\"M18.56 5.44l.94 2.06.94-2.06 2.06-.94-2.06-.94-.94-2.06-.94 2.06-2.06.94zm-11 1L8.5 8.5l.94-2.06 2.06-.94-2.06-.94L8.5 2.5l-.94 2.06-2.06.94zm10 10l.94 2.06.94-2.06 2.06-.94-2.06-.94-.94-2.06-.94 2.06-2.06.94z\"/><path d=\"M17.41 7.96l-1.37-1.37c-.4-.4-.92-.59-1.43-.59-.52 0-1.04.2-1.43.59L10.3 9.45l-7.72 7.72c-.78.78-.78 2.05 0 2.83L4 21.41c.39.39.9.59 1.41.59.51 0 1.02-.2 1.41-.59l7.78-7.78 2.81-2.81c.8-.78.8-2.07 0-2.86zM5.41 20L4 18.59l7.72-7.72 1.47 1.35L5.41 20z\"/>\n",
              "  </svg>\n",
              "      </button>\n",
              "      \n",
              "  <style>\n",
              "    .colab-df-container {\n",
              "      display:flex;\n",
              "      flex-wrap:wrap;\n",
              "      gap: 12px;\n",
              "    }\n",
              "\n",
              "    .colab-df-convert {\n",
              "      background-color: #E8F0FE;\n",
              "      border: none;\n",
              "      border-radius: 50%;\n",
              "      cursor: pointer;\n",
              "      display: none;\n",
              "      fill: #1967D2;\n",
              "      height: 32px;\n",
              "      padding: 0 0 0 0;\n",
              "      width: 32px;\n",
              "    }\n",
              "\n",
              "    .colab-df-convert:hover {\n",
              "      background-color: #E2EBFA;\n",
              "      box-shadow: 0px 1px 2px rgba(60, 64, 67, 0.3), 0px 1px 3px 1px rgba(60, 64, 67, 0.15);\n",
              "      fill: #174EA6;\n",
              "    }\n",
              "\n",
              "    [theme=dark] .colab-df-convert {\n",
              "      background-color: #3B4455;\n",
              "      fill: #D2E3FC;\n",
              "    }\n",
              "\n",
              "    [theme=dark] .colab-df-convert:hover {\n",
              "      background-color: #434B5C;\n",
              "      box-shadow: 0px 1px 3px 1px rgba(0, 0, 0, 0.15);\n",
              "      filter: drop-shadow(0px 1px 2px rgba(0, 0, 0, 0.3));\n",
              "      fill: #FFFFFF;\n",
              "    }\n",
              "  </style>\n",
              "\n",
              "      <script>\n",
              "        const buttonEl =\n",
              "          document.querySelector('#df-9be09b82-e35d-4933-9a75-2c42894afa7d button.colab-df-convert');\n",
              "        buttonEl.style.display =\n",
              "          google.colab.kernel.accessAllowed ? 'block' : 'none';\n",
              "\n",
              "        async function convertToInteractive(key) {\n",
              "          const element = document.querySelector('#df-9be09b82-e35d-4933-9a75-2c42894afa7d');\n",
              "          const dataTable =\n",
              "            await google.colab.kernel.invokeFunction('convertToInteractive',\n",
              "                                                     [key], {});\n",
              "          if (!dataTable) return;\n",
              "\n",
              "          const docLinkHtml = 'Like what you see? Visit the ' +\n",
              "            '<a target=\"_blank\" href=https://colab.research.google.com/notebooks/data_table.ipynb>data table notebook</a>'\n",
              "            + ' to learn more about interactive tables.';\n",
              "          element.innerHTML = '';\n",
              "          dataTable['output_type'] = 'display_data';\n",
              "          await google.colab.output.renderOutput(dataTable, element);\n",
              "          const docLink = document.createElement('div');\n",
              "          docLink.innerHTML = docLinkHtml;\n",
              "          element.appendChild(docLink);\n",
              "        }\n",
              "      </script>\n",
              "    </div>\n",
              "  </div>\n",
              "  "
            ]
          },
          "metadata": {},
          "execution_count": 14
        }
      ]
    },
    {
      "cell_type": "markdown",
      "source": [
        "# Visualizações"
      ],
      "metadata": {
        "id": "yuZjwfv1HsQ_"
      }
    },
    {
      "cell_type": "code",
      "source": [
        "fat_pot_rj_pop = fat_pot_rj.iloc[:, 3:12]\n",
        "fat_pot_rj_pop.head()"
      ],
      "metadata": {
        "colab": {
          "base_uri": "https://localhost:8080/",
          "height": 206
        },
        "id": "7eMSDvppAbHo",
        "outputId": "e8f1603a-55b3-4d75-802b-da82e44c5c24"
      },
      "execution_count": 15,
      "outputs": [
        {
          "output_type": "execute_result",
          "data": {
            "text/plain": [
              "   popDe10a14  popDe15a19  popDe20a24  popDe25a34  popDe35a49  popDe50a59  \\\n",
              "0       483.0       688.0       800.0      1675.0      2300.0      1784.0   \n",
              "1      2188.0      2697.0      2630.0      4810.0      5308.0      2403.0   \n",
              "2       399.0       597.0       762.0      1755.0      2076.0      1112.0   \n",
              "3       538.0       660.0       685.0      1317.0      2007.0      1341.0   \n",
              "4      3774.0      4892.0      4600.0      8660.0     12272.0      7157.0   \n",
              "\n",
              "   popMaisDe60  domiciliosA1  domiciliosA2  \n",
              "0       2919.0           0.0         145.0  \n",
              "1       2397.0           0.0           0.0  \n",
              "2       1419.0           0.0          96.0  \n",
              "3       1986.0         114.0         178.0  \n",
              "4       8190.0           0.0           0.0  "
            ],
            "text/html": [
              "\n",
              "  <div id=\"df-e3a0e31b-bb5b-458d-9dfe-97f426603868\">\n",
              "    <div class=\"colab-df-container\">\n",
              "      <div>\n",
              "<style scoped>\n",
              "    .dataframe tbody tr th:only-of-type {\n",
              "        vertical-align: middle;\n",
              "    }\n",
              "\n",
              "    .dataframe tbody tr th {\n",
              "        vertical-align: top;\n",
              "    }\n",
              "\n",
              "    .dataframe thead th {\n",
              "        text-align: right;\n",
              "    }\n",
              "</style>\n",
              "<table border=\"1\" class=\"dataframe\">\n",
              "  <thead>\n",
              "    <tr style=\"text-align: right;\">\n",
              "      <th></th>\n",
              "      <th>popDe10a14</th>\n",
              "      <th>popDe15a19</th>\n",
              "      <th>popDe20a24</th>\n",
              "      <th>popDe25a34</th>\n",
              "      <th>popDe35a49</th>\n",
              "      <th>popDe50a59</th>\n",
              "      <th>popMaisDe60</th>\n",
              "      <th>domiciliosA1</th>\n",
              "      <th>domiciliosA2</th>\n",
              "    </tr>\n",
              "  </thead>\n",
              "  <tbody>\n",
              "    <tr>\n",
              "      <th>0</th>\n",
              "      <td>483.0</td>\n",
              "      <td>688.0</td>\n",
              "      <td>800.0</td>\n",
              "      <td>1675.0</td>\n",
              "      <td>2300.0</td>\n",
              "      <td>1784.0</td>\n",
              "      <td>2919.0</td>\n",
              "      <td>0.0</td>\n",
              "      <td>145.0</td>\n",
              "    </tr>\n",
              "    <tr>\n",
              "      <th>1</th>\n",
              "      <td>2188.0</td>\n",
              "      <td>2697.0</td>\n",
              "      <td>2630.0</td>\n",
              "      <td>4810.0</td>\n",
              "      <td>5308.0</td>\n",
              "      <td>2403.0</td>\n",
              "      <td>2397.0</td>\n",
              "      <td>0.0</td>\n",
              "      <td>0.0</td>\n",
              "    </tr>\n",
              "    <tr>\n",
              "      <th>2</th>\n",
              "      <td>399.0</td>\n",
              "      <td>597.0</td>\n",
              "      <td>762.0</td>\n",
              "      <td>1755.0</td>\n",
              "      <td>2076.0</td>\n",
              "      <td>1112.0</td>\n",
              "      <td>1419.0</td>\n",
              "      <td>0.0</td>\n",
              "      <td>96.0</td>\n",
              "    </tr>\n",
              "    <tr>\n",
              "      <th>3</th>\n",
              "      <td>538.0</td>\n",
              "      <td>660.0</td>\n",
              "      <td>685.0</td>\n",
              "      <td>1317.0</td>\n",
              "      <td>2007.0</td>\n",
              "      <td>1341.0</td>\n",
              "      <td>1986.0</td>\n",
              "      <td>114.0</td>\n",
              "      <td>178.0</td>\n",
              "    </tr>\n",
              "    <tr>\n",
              "      <th>4</th>\n",
              "      <td>3774.0</td>\n",
              "      <td>4892.0</td>\n",
              "      <td>4600.0</td>\n",
              "      <td>8660.0</td>\n",
              "      <td>12272.0</td>\n",
              "      <td>7157.0</td>\n",
              "      <td>8190.0</td>\n",
              "      <td>0.0</td>\n",
              "      <td>0.0</td>\n",
              "    </tr>\n",
              "  </tbody>\n",
              "</table>\n",
              "</div>\n",
              "      <button class=\"colab-df-convert\" onclick=\"convertToInteractive('df-e3a0e31b-bb5b-458d-9dfe-97f426603868')\"\n",
              "              title=\"Convert this dataframe to an interactive table.\"\n",
              "              style=\"display:none;\">\n",
              "        \n",
              "  <svg xmlns=\"http://www.w3.org/2000/svg\" height=\"24px\"viewBox=\"0 0 24 24\"\n",
              "       width=\"24px\">\n",
              "    <path d=\"M0 0h24v24H0V0z\" fill=\"none\"/>\n",
              "    <path d=\"M18.56 5.44l.94 2.06.94-2.06 2.06-.94-2.06-.94-.94-2.06-.94 2.06-2.06.94zm-11 1L8.5 8.5l.94-2.06 2.06-.94-2.06-.94L8.5 2.5l-.94 2.06-2.06.94zm10 10l.94 2.06.94-2.06 2.06-.94-2.06-.94-.94-2.06-.94 2.06-2.06.94z\"/><path d=\"M17.41 7.96l-1.37-1.37c-.4-.4-.92-.59-1.43-.59-.52 0-1.04.2-1.43.59L10.3 9.45l-7.72 7.72c-.78.78-.78 2.05 0 2.83L4 21.41c.39.39.9.59 1.41.59.51 0 1.02-.2 1.41-.59l7.78-7.78 2.81-2.81c.8-.78.8-2.07 0-2.86zM5.41 20L4 18.59l7.72-7.72 1.47 1.35L5.41 20z\"/>\n",
              "  </svg>\n",
              "      </button>\n",
              "      \n",
              "  <style>\n",
              "    .colab-df-container {\n",
              "      display:flex;\n",
              "      flex-wrap:wrap;\n",
              "      gap: 12px;\n",
              "    }\n",
              "\n",
              "    .colab-df-convert {\n",
              "      background-color: #E8F0FE;\n",
              "      border: none;\n",
              "      border-radius: 50%;\n",
              "      cursor: pointer;\n",
              "      display: none;\n",
              "      fill: #1967D2;\n",
              "      height: 32px;\n",
              "      padding: 0 0 0 0;\n",
              "      width: 32px;\n",
              "    }\n",
              "\n",
              "    .colab-df-convert:hover {\n",
              "      background-color: #E2EBFA;\n",
              "      box-shadow: 0px 1px 2px rgba(60, 64, 67, 0.3), 0px 1px 3px 1px rgba(60, 64, 67, 0.15);\n",
              "      fill: #174EA6;\n",
              "    }\n",
              "\n",
              "    [theme=dark] .colab-df-convert {\n",
              "      background-color: #3B4455;\n",
              "      fill: #D2E3FC;\n",
              "    }\n",
              "\n",
              "    [theme=dark] .colab-df-convert:hover {\n",
              "      background-color: #434B5C;\n",
              "      box-shadow: 0px 1px 3px 1px rgba(0, 0, 0, 0.15);\n",
              "      filter: drop-shadow(0px 1px 2px rgba(0, 0, 0, 0.3));\n",
              "      fill: #FFFFFF;\n",
              "    }\n",
              "  </style>\n",
              "\n",
              "      <script>\n",
              "        const buttonEl =\n",
              "          document.querySelector('#df-e3a0e31b-bb5b-458d-9dfe-97f426603868 button.colab-df-convert');\n",
              "        buttonEl.style.display =\n",
              "          google.colab.kernel.accessAllowed ? 'block' : 'none';\n",
              "\n",
              "        async function convertToInteractive(key) {\n",
              "          const element = document.querySelector('#df-e3a0e31b-bb5b-458d-9dfe-97f426603868');\n",
              "          const dataTable =\n",
              "            await google.colab.kernel.invokeFunction('convertToInteractive',\n",
              "                                                     [key], {});\n",
              "          if (!dataTable) return;\n",
              "\n",
              "          const docLinkHtml = 'Like what you see? Visit the ' +\n",
              "            '<a target=\"_blank\" href=https://colab.research.google.com/notebooks/data_table.ipynb>data table notebook</a>'\n",
              "            + ' to learn more about interactive tables.';\n",
              "          element.innerHTML = '';\n",
              "          dataTable['output_type'] = 'display_data';\n",
              "          await google.colab.output.renderOutput(dataTable, element);\n",
              "          const docLink = document.createElement('div');\n",
              "          docLink.innerHTML = docLinkHtml;\n",
              "          element.appendChild(docLink);\n",
              "        }\n",
              "      </script>\n",
              "    </div>\n",
              "  </div>\n",
              "  "
            ]
          },
          "metadata": {},
          "execution_count": 15
        }
      ]
    },
    {
      "cell_type": "code",
      "source": [
        "fat_pot_rj_pop.boxplot(grid=False, figsize=(25, 12))"
      ],
      "metadata": {
        "colab": {
          "base_uri": "https://localhost:8080/",
          "height": 717
        },
        "id": "X5YHOry_Ab1r",
        "outputId": "49b4e320-e015-4fb5-ffc5-9ad23631f782"
      },
      "execution_count": 16,
      "outputs": [
        {
          "output_type": "execute_result",
          "data": {
            "text/plain": [
              "<matplotlib.axes._subplots.AxesSubplot at 0x7facd536eb50>"
            ]
          },
          "metadata": {},
          "execution_count": 16
        },
        {
          "output_type": "display_data",
          "data": {
            "text/plain": [
              "<Figure size 1800x864 with 1 Axes>"
            ],
            "image/png": "[encoded data removed]"
          },
          "metadata": {
            "needs_background": "light"
          }
        }
      ]
    },
    {
      "cell_type": "code",
      "source": [
        "fat_pot_rj_dom = fat_pot_rj.iloc[:, 13:20]\n",
        "fat_pot_rj_dom.head()"
      ],
      "metadata": {
        "colab": {
          "base_uri": "https://localhost:8080/",
          "height": 206
        },
        "id": "zZpVQMmCHo9H",
        "outputId": "d3c7fe7d-343f-4e8f-d222-0275e9eec13f"
      },
      "execution_count": 17,
      "outputs": [
        {
          "output_type": "execute_result",
          "data": {
            "text/plain": [
              "   domiciliosB2  domiciliosC1  domiciliosC2  domiciliosD  domiciliosE  \\\n",
              "0        1242.0        1093.0         758.0         92.0        304.0   \n",
              "1         506.0        2040.0        2490.0        827.0       2506.0   \n",
              "2         652.0         644.0         522.0         77.0        254.0   \n",
              "3         517.0         945.0         584.0        137.0        286.0   \n",
              "4        2821.0        5110.0        5422.0       1073.0       3261.0   \n",
              "\n",
              "   rendaMedia  faturamento  \n",
              "0      2501.0     932515.0  \n",
              "1       931.0     588833.0  \n",
              "2      2391.0     874200.0  \n",
              "3      3727.0     912226.0  \n",
              "4      1380.0     553020.0  "
            ],
            "text/html": [
              "\n",
              "  <div id=\"df-e28196bd-9273-4064-a90b-aa1680544995\">\n",
              "    <div class=\"colab-df-container\">\n",
              "      <div>\n",
              "<style scoped>\n",
              "    .dataframe tbody tr th:only-of-type {\n",
              "        vertical-align: middle;\n",
              "    }\n",
              "\n",
              "    .dataframe tbody tr th {\n",
              "        vertical-align: top;\n",
              "    }\n",
              "\n",
              "    .dataframe thead th {\n",
              "        text-align: right;\n",
              "    }\n",
              "</style>\n",
              "<table border=\"1\" class=\"dataframe\">\n",
              "  <thead>\n",
              "    <tr style=\"text-align: right;\">\n",
              "      <th></th>\n",
              "      <th>domiciliosB2</th>\n",
              "      <th>domiciliosC1</th>\n",
              "      <th>domiciliosC2</th>\n",
              "      <th>domiciliosD</th>\n",
              "      <th>domiciliosE</th>\n",
              "      <th>rendaMedia</th>\n",
              "      <th>faturamento</th>\n",
              "    </tr>\n",
              "  </thead>\n",
              "  <tbody>\n",
              "    <tr>\n",
              "      <th>0</th>\n",
              "      <td>1242.0</td>\n",
              "      <td>1093.0</td>\n",
              "      <td>758.0</td>\n",
              "      <td>92.0</td>\n",
              "      <td>304.0</td>\n",
              "      <td>2501.0</td>\n",
              "      <td>932515.0</td>\n",
              "    </tr>\n",
              "    <tr>\n",
              "      <th>1</th>\n",
              "      <td>506.0</td>\n",
              "      <td>2040.0</td>\n",
              "      <td>2490.0</td>\n",
              "      <td>827.0</td>\n",
              "      <td>2506.0</td>\n",
              "      <td>931.0</td>\n",
              "      <td>588833.0</td>\n",
              "    </tr>\n",
              "    <tr>\n",
              "      <th>2</th>\n",
              "      <td>652.0</td>\n",
              "      <td>644.0</td>\n",
              "      <td>522.0</td>\n",
              "      <td>77.0</td>\n",
              "      <td>254.0</td>\n",
              "      <td>2391.0</td>\n",
              "      <td>874200.0</td>\n",
              "    </tr>\n",
              "    <tr>\n",
              "      <th>3</th>\n",
              "      <td>517.0</td>\n",
              "      <td>945.0</td>\n",
              "      <td>584.0</td>\n",
              "      <td>137.0</td>\n",
              "      <td>286.0</td>\n",
              "      <td>3727.0</td>\n",
              "      <td>912226.0</td>\n",
              "    </tr>\n",
              "    <tr>\n",
              "      <th>4</th>\n",
              "      <td>2821.0</td>\n",
              "      <td>5110.0</td>\n",
              "      <td>5422.0</td>\n",
              "      <td>1073.0</td>\n",
              "      <td>3261.0</td>\n",
              "      <td>1380.0</td>\n",
              "      <td>553020.0</td>\n",
              "    </tr>\n",
              "  </tbody>\n",
              "</table>\n",
              "</div>\n",
              "      <button class=\"colab-df-convert\" onclick=\"convertToInteractive('df-e28196bd-9273-4064-a90b-aa1680544995')\"\n",
              "              title=\"Convert this dataframe to an interactive table.\"\n",
              "              style=\"display:none;\">\n",
              "        \n",
              "  <svg xmlns=\"http://www.w3.org/2000/svg\" height=\"24px\"viewBox=\"0 0 24 24\"\n",
              "       width=\"24px\">\n",
              "    <path d=\"M0 0h24v24H0V0z\" fill=\"none\"/>\n",
              "    <path d=\"M18.56 5.44l.94 2.06.94-2.06 2.06-.94-2.06-.94-.94-2.06-.94 2.06-2.06.94zm-11 1L8.5 8.5l.94-2.06 2.06-.94-2.06-.94L8.5 2.5l-.94 2.06-2.06.94zm10 10l.94 2.06.94-2.06 2.06-.94-2.06-.94-.94-2.06-.94 2.06-2.06.94z\"/><path d=\"M17.41 7.96l-1.37-1.37c-.4-.4-.92-.59-1.43-.59-.52 0-1.04.2-1.43.59L10.3 9.45l-7.72 7.72c-.78.78-.78 2.05 0 2.83L4 21.41c.39.39.9.59 1.41.59.51 0 1.02-.2 1.41-.59l7.78-7.78 2.81-2.81c.8-.78.8-2.07 0-2.86zM5.41 20L4 18.59l7.72-7.72 1.47 1.35L5.41 20z\"/>\n",
              "  </svg>\n",
              "      </button>\n",
              "      \n",
              "  <style>\n",
              "    .colab-df-container {\n",
              "      display:flex;\n",
              "      flex-wrap:wrap;\n",
              "      gap: 12px;\n",
              "    }\n",
              "\n",
              "    .colab-df-convert {\n",
              "      background-color: #E8F0FE;\n",
              "      border: none;\n",
              "      border-radius: 50%;\n",
              "      cursor: pointer;\n",
              "      display: none;\n",
              "      fill: #1967D2;\n",
              "      height: 32px;\n",
              "      padding: 0 0 0 0;\n",
              "      width: 32px;\n",
              "    }\n",
              "\n",
              "    .colab-df-convert:hover {\n",
              "      background-color: #E2EBFA;\n",
              "      box-shadow: 0px 1px 2px rgba(60, 64, 67, 0.3), 0px 1px 3px 1px rgba(60, 64, 67, 0.15);\n",
              "      fill: #174EA6;\n",
              "    }\n",
              "\n",
              "    [theme=dark] .colab-df-convert {\n",
              "      background-color: #3B4455;\n",
              "      fill: #D2E3FC;\n",
              "    }\n",
              "\n",
              "    [theme=dark] .colab-df-convert:hover {\n",
              "      background-color: #434B5C;\n",
              "      box-shadow: 0px 1px 3px 1px rgba(0, 0, 0, 0.15);\n",
              "      filter: drop-shadow(0px 1px 2px rgba(0, 0, 0, 0.3));\n",
              "      fill: #FFFFFF;\n",
              "    }\n",
              "  </style>\n",
              "\n",
              "      <script>\n",
              "        const buttonEl =\n",
              "          document.querySelector('#df-e28196bd-9273-4064-a90b-aa1680544995 button.colab-df-convert');\n",
              "        buttonEl.style.display =\n",
              "          google.colab.kernel.accessAllowed ? 'block' : 'none';\n",
              "\n",
              "        async function convertToInteractive(key) {\n",
              "          const element = document.querySelector('#df-e28196bd-9273-4064-a90b-aa1680544995');\n",
              "          const dataTable =\n",
              "            await google.colab.kernel.invokeFunction('convertToInteractive',\n",
              "                                                     [key], {});\n",
              "          if (!dataTable) return;\n",
              "\n",
              "          const docLinkHtml = 'Like what you see? Visit the ' +\n",
              "            '<a target=\"_blank\" href=https://colab.research.google.com/notebooks/data_table.ipynb>data table notebook</a>'\n",
              "            + ' to learn more about interactive tables.';\n",
              "          element.innerHTML = '';\n",
              "          dataTable['output_type'] = 'display_data';\n",
              "          await google.colab.output.renderOutput(dataTable, element);\n",
              "          const docLink = document.createElement('div');\n",
              "          docLink.innerHTML = docLinkHtml;\n",
              "          element.appendChild(docLink);\n",
              "        }\n",
              "      </script>\n",
              "    </div>\n",
              "  </div>\n",
              "  "
            ]
          },
          "metadata": {},
          "execution_count": 17
        }
      ]
    },
    {
      "cell_type": "code",
      "source": [
        "fat_pot_rj_dom.boxplot(grid=False, figsize=(25, 12))"
      ],
      "metadata": {
        "colab": {
          "base_uri": "https://localhost:8080/",
          "height": 728
        },
        "id": "QNo4Pg-XH29U",
        "outputId": "c55d3252-b4b2-4cfd-c480-6dd074b88528"
      },
      "execution_count": 18,
      "outputs": [
        {
          "output_type": "execute_result",
          "data": {
            "text/plain": [
              "<matplotlib.axes._subplots.AxesSubplot at 0x7facd5375c10>"
            ]
          },
          "metadata": {},
          "execution_count": 18
        },
        {
          "output_type": "display_data",
          "data": {
            "text/plain": [
              "<Figure size 1800x864 with 1 Axes>"
            ],
            "image/png": "[encoded data removed]"
          },
          "metadata": {
            "needs_background": "light"
          }
        }
      ]
    },
    {
      "cell_type": "code",
      "source": [
        "plt.boxplot(fat_pot_rj.faturamento)\n",
        "plt.show()"
      ],
      "metadata": {
        "colab": {
          "base_uri": "https://localhost:8080/",
          "height": 276
        },
        "id": "RkkPwFXXK3UA",
        "outputId": "7bef4098-ed68-46f7-8235-7df1435457fe"
      },
      "execution_count": 19,
      "outputs": [
        {
          "output_type": "display_data",
          "data": {
            "text/plain": [
              "<Figure size 432x288 with 1 Axes>"
            ],
            "image/png": "[encoded data removed]"
          },
          "metadata": {
            "needs_background": "light"
          }
        }
      ]
    },
    {
      "cell_type": "code",
      "source": [
        "plt.figure(figsize=(10,10))\n",
        "sns.heatmap(fat_pot_rj.corr(), annot=True, cmap='crest')"
      ],
      "metadata": {
        "colab": {
          "base_uri": "https://localhost:8080/",
          "height": 670
        },
        "id": "DoBD7rko8mHS",
        "outputId": "f13f2a11-4b8b-4a46-dc5c-052ccbd23b1b"
      },
      "execution_count": 20,
      "outputs": [
        {
          "output_type": "execute_result",
          "data": {
            "text/plain": [
              "<matplotlib.axes._subplots.AxesSubplot at 0x7facd531c590>"
            ]
          },
          "metadata": {},
          "execution_count": 20
        },
        {
          "output_type": "display_data",
          "data": {
            "text/plain": [
              "<Figure size 720x720 with 2 Axes>"
            ],
            "image/png": "[encoded data removed]"
          },
          "metadata": {
            "needs_background": "light"
          }
        }
      ]
    },
    {
      "cell_type": "code",
      "source": [
        "fat_pot_rj.drop(['população'], axis=1, inplace = True)\n",
        "fat_pot_sp.drop(['população'], axis=1, inplace = True)"
      ],
      "metadata": {
        "id": "3IXq72ExedWe"
      },
      "execution_count": 21,
      "outputs": []
    },
    {
      "cell_type": "code",
      "source": [
        "# my_report_rj = sv.analyze(fat_pot_rj)\n",
        "# my_report_rj.show_html('Análise do faturamento do Rio de Janeiro.html')"
      ],
      "metadata": {
        "id": "Czkml6Fos0bW"
      },
      "execution_count": 22,
      "outputs": []
    },
    {
      "cell_type": "code",
      "source": [
        "# my_report_sp = sv.analyze(fat_pot_sp)\n",
        "# my_report_sp.show_html('Análise do faturamento de São Paulo.html')"
      ],
      "metadata": {
        "id": "QIvPiPoBzPCp"
      },
      "execution_count": 23,
      "outputs": []
    },
    {
      "cell_type": "code",
      "source": [
        "my_report = sv.compare([fat_pot_rj, 'Rio de Janeiro'], [fat_pot_sp, 'São Paulo'])\n",
        "my_report.show_html('Análise do faturamento comparativo.html')"
      ],
      "metadata": {
        "colab": {
          "base_uri": "https://localhost:8080/",
          "height": 66,
          "referenced_widgets": [
            "61203d968aa44cf180795bdf3a970345",
            "e0c9b6c70f4b4bdcb2fffb44c4129568",
            "4d8e206909f7420b854c5d427db44fd6",
            "3a5ba7ee45a44b17b2cd4182161c8415",
            "f38ed9cac76b479ab5647d375c7ffc22",
            "865febb68e2d4c3895527174a1e7f6e9",
            "809e8a36881240ab89492bd5cb757624",
            "a49e2ec5035645359a622ca35611cbd8",
            "6351a58e0b0d421a90511704f2499567",
            "732cdd084f6c45f1b5968cf4d3360bd9",
            "6631177046ad45de8275cc9a598ce865"
          ]
        },
        "id": "KfCwLHawF4-7",
        "outputId": "869dd596-dc8a-497d-af57-81b8d00757cc"
      },
      "execution_count": 24,
      "outputs": [
        {
          "output_type": "display_data",
          "data": {
            "text/plain": [
              "                                             |          | [  0%]   00:00 -> (? left)"
            ],
            "application/vnd.jupyter.widget-view+json": {
              "version_major": 2,
              "version_minor": 0,
              "model_id": "61203d968aa44cf180795bdf3a970345"
            }
          },
          "metadata": {}
        },
        {
          "output_type": "stream",
          "name": "stdout",
          "text": [
            "Report Análise do faturamento comparativo.html was generated! NOTEBOOK/COLAB USERS: the web browser MAY not pop up, regardless, the report IS saved in your notebook/colab files.\n"
          ]
        }
      ]
    },
    {
      "cell_type": "markdown",
      "source": [
        "# Escolhendo o melhor modelo de regressão"
      ],
      "metadata": {
        "id": "BvyoNH7sQfu0"
      }
    },
    {
      "cell_type": "code",
      "source": [
        "fat_pot_rj_mr = fat_pot_rj.drop(['potencial', 'nome'], axis=1)"
      ],
      "metadata": {
        "id": "F2XHPwCJjs3e"
      },
      "execution_count": 25,
      "outputs": []
    },
    {
      "cell_type": "code",
      "source": [
        "X = fat_pot_rj_mr.drop(columns = ['faturamento']).copy()\n",
        "y = fat_pot_rj_mr['faturamento']"
      ],
      "metadata": {
        "id": "Xa17FqojExfq"
      },
      "execution_count": 26,
      "outputs": []
    },
    {
      "cell_type": "code",
      "source": [
        "X_train, X_test, y_train, y_test = train_test_split(X,y, train_size=0.7)"
      ],
      "metadata": {
        "id": "P9vLFXbcFaFd"
      },
      "execution_count": 27,
      "outputs": []
    },
    {
      "cell_type": "markdown",
      "source": [
        "Linear Regression"
      ],
      "metadata": {
        "id": "PZatxaA5dtyQ"
      }
    },
    {
      "cell_type": "code",
      "source": [
        "regr = LinearRegression()"
      ],
      "metadata": {
        "id": "mH_WtppXFZ_Z"
      },
      "execution_count": 28,
      "outputs": []
    },
    {
      "cell_type": "code",
      "source": [
        "regr.fit(X_train, y_train)"
      ],
      "metadata": {
        "colab": {
          "base_uri": "https://localhost:8080/"
        },
        "id": "kgqKejVGFwNo",
        "outputId": "9688f2ab-5baa-4198-fe68-17ebcc9806bc"
      },
      "execution_count": 29,
      "outputs": [
        {
          "output_type": "execute_result",
          "data": {
            "text/plain": [
              "LinearRegression()"
            ]
          },
          "metadata": {},
          "execution_count": 29
        }
      ]
    },
    {
      "cell_type": "code",
      "source": [
        "y_pred = regr.predict(X_test)"
      ],
      "metadata": {
        "id": "dhl8m3uOF8QL"
      },
      "execution_count": 30,
      "outputs": []
    },
    {
      "cell_type": "code",
      "source": [
        "print(\"Coeficientes: \\n\", regr.coef_)\n",
        "# Mean Squared Error\n",
        "print(\"MSE: %.2f\" % mean_squared_error(y_test, y_pred))\n",
        "# Root Mean Squared Error\n",
        "print(\"RMSE: %.2f\" % np.sqrt(mean_squared_error(y_test, y_pred)))\n",
        "# Coeficiente de determinação R2\n",
        "print(\"R2: %.2f\" % r2_score(y_test, y_pred))"
      ],
      "metadata": {
        "colab": {
          "base_uri": "https://localhost:8080/"
        },
        "id": "lzHw1A10F8F0",
        "outputId": "0615e252-5a30-43bf-8875-09168c7a2cc5"
      },
      "execution_count": 31,
      "outputs": [
        {
          "output_type": "stream",
          "name": "stdout",
          "text": [
            "Coeficientes: \n",
            " [  45.42595574  -91.68107797  199.72231836 -106.20503228  -24.03267652\n",
            "  -73.65474914   82.1626684    -4.1681207   173.42220232 -173.56257256\n",
            "  144.36159718   44.93942358  -37.76522267   -1.81507852 -225.37863713\n",
            "    2.65220731   13.22454671]\n",
            "MSE: 372988461168.32\n",
            "RMSE: 610727.81\n",
            "R2: -1.53\n"
          ]
        }
      ]
    },
    {
      "cell_type": "markdown",
      "source": [
        "Support Vector Regression"
      ],
      "metadata": {
        "id": "FPyf2iUAegk8"
      }
    },
    {
      "cell_type": "code",
      "source": [
        "# Fit regression model\n",
        "svr = SVR().fit(X_train, y_train)\n",
        "# Predict\n",
        "y_pred = svr.predict(X_test)\n",
        "print(y_pred)"
      ],
      "metadata": {
        "id": "Jy42DeQyeq4C",
        "colab": {
          "base_uri": "https://localhost:8080/"
        },
        "outputId": "fe1703e6-19f0-4f66-cdd9-388fe54507db"
      },
      "execution_count": 32,
      "outputs": [
        {
          "output_type": "stream",
          "name": "stdout",
          "text": [
            "[826529.08975237 826530.03654235 826521.34409898 826520.4465647\n",
            " 826522.17269919 826523.09205369 826525.2346243  826523.24605981\n",
            " 826528.45864084 826527.23659084 826524.0399821  826526.17712146\n",
            " 826518.69524503 826524.97294171 826521.04622747 826521.64190297\n",
            " 826519.31603677 826518.9227287  826527.97668735 826518.77751456\n",
            " 826528.11643177 826528.26944607 826526.7374422  826523.49852659\n",
            " 826519.87450341 826527.37208487 826525.31361902 826519.21699835\n",
            " 826526.32663909 826525.53901119 826526.11778506 826525.60812345\n",
            " 826518.80366808 826519.49783418 826521.79596869 826523.185797\n",
            " 826520.67789735 826525.73467717 826522.48368698 826522.71379026\n",
            " 826527.89362572 826526.49737795 826521.83032516 826525.19400433\n",
            " 826518.57603904 826530.41481147 826525.79120438]\n"
          ]
        }
      ]
    },
    {
      "cell_type": "code",
      "source": [
        "# Mean Squared Error\n",
        "print(\"MSE: %.2f\" % mean_squared_error(y_test, y_pred))\n",
        "# Root Mean Squared Error\n",
        "print(\"RMSE: %.2f\" % np.sqrt(mean_squared_error(y_test, y_pred)))\n",
        "# Coeficiente de determinação R2\n",
        "print(\"R2: %.2f\" % r2_score(y_test, y_pred))"
      ],
      "metadata": {
        "colab": {
          "base_uri": "https://localhost:8080/"
        },
        "id": "Q_lHpzL2fDVS",
        "outputId": "00cd2bc7-41dc-4d04-8832-fa8c4b34d7c9"
      },
      "execution_count": 33,
      "outputs": [
        {
          "output_type": "stream",
          "name": "stdout",
          "text": [
            "MSE: 147526106775.24\n",
            "RMSE: 384091.27\n",
            "R2: -0.00\n"
          ]
        }
      ]
    },
    {
      "cell_type": "markdown",
      "source": [
        "Decision Tree Regressor"
      ],
      "metadata": {
        "id": "GOrjOnZHgK_P"
      }
    },
    {
      "cell_type": "code",
      "source": [
        "# Fit regression model\n",
        "regr = DecisionTreeRegressor()\n",
        "regr.fit(X_train, y_train)\n",
        "# Predict\n",
        "y_pred = regr.predict(X_test)\n",
        "# Mean Squared Error\n",
        "print(\"MSE: %.2f\" % mean_squared_error(y_test, y_pred))\n",
        "# Root Mean Squared Error\n",
        "print(\"RMSE: %.2f\" % np.sqrt(mean_squared_error(y_test, y_pred)))\n",
        "# Coeficiente de determinação R2\n",
        "print(\"R2: %.2f\" % r2_score(y_test, y_pred))"
      ],
      "metadata": {
        "colab": {
          "base_uri": "https://localhost:8080/"
        },
        "id": "bczv7MnrgcNn",
        "outputId": "c60e63bf-d6da-49b1-ee29-876dfa1ac260"
      },
      "execution_count": 34,
      "outputs": [
        {
          "output_type": "stream",
          "name": "stdout",
          "text": [
            "MSE: 21089132747.89\n",
            "RMSE: 145220.98\n",
            "R2: 0.86\n"
          ]
        }
      ]
    },
    {
      "cell_type": "markdown",
      "source": [
        "# Otimizando o modelo modelo de regressão"
      ],
      "metadata": {
        "id": "ZfNY06Z1IH8w"
      }
    },
    {
      "cell_type": "code",
      "source": [
        "regr = DecisionTreeRegressor()\n",
        "regr.fit(X_train, y_train)"
      ],
      "metadata": {
        "colab": {
          "base_uri": "https://localhost:8080/"
        },
        "id": "4lCSSK0Np7nR",
        "outputId": "4d27992d-4382-447e-d3c3-a472755ff57c"
      },
      "execution_count": 35,
      "outputs": [
        {
          "output_type": "execute_result",
          "data": {
            "text/plain": [
              "DecisionTreeRegressor()"
            ]
          },
          "metadata": {},
          "execution_count": 35
        }
      ]
    },
    {
      "cell_type": "code",
      "source": [
        "param_grid = {\n",
        "'min_samples_split': list(range(1,20)),\n",
        "'min_samples_leaf': list(range(1, 20)),\n",
        "'max_depth': list(range(2, 10))}\n",
        "rnd_search = RandomizedSearchCV(regr, param_distributions = param_grid, n_iter=1000000000, cv=2, random_state=7)\n",
        "rnd_search.fit(X_train,y_train)"
      ],
      "metadata": {
        "colab": {
          "base_uri": "https://localhost:8080/"
        },
        "id": "xQtQ7h9Gp7ca",
        "outputId": "2e9f7879-4cbf-4482-c2ea-e996694b6b13"
      },
      "execution_count": 36,
      "outputs": [
        {
          "output_type": "execute_result",
          "data": {
            "text/plain": [
              "RandomizedSearchCV(cv=2, estimator=DecisionTreeRegressor(), n_iter=1000000000,\n",
              "                   param_distributions={'max_depth': [2, 3, 4, 5, 6, 7, 8, 9],\n",
              "                                        'min_samples_leaf': [1, 2, 3, 4, 5, 6,\n",
              "                                                             7, 8, 9, 10, 11,\n",
              "                                                             12, 13, 14, 15, 16,\n",
              "                                                             17, 18, 19],\n",
              "                                        'min_samples_split': [1, 2, 3, 4, 5, 6,\n",
              "                                                              7, 8, 9, 10, 11,\n",
              "                                                              12, 13, 14, 15,\n",
              "                                                              16, 17, 18, 19]},\n",
              "                   random_state=7)"
            ]
          },
          "metadata": {},
          "execution_count": 36
        }
      ]
    },
    {
      "cell_type": "code",
      "source": [
        "rnd_search.best_params_"
      ],
      "metadata": {
        "colab": {
          "base_uri": "https://localhost:8080/"
        },
        "id": "5lJDYAhxqCtf",
        "outputId": "ca07c5cf-5bae-4251-90f6-560aecb40169"
      },
      "execution_count": 37,
      "outputs": [
        {
          "output_type": "execute_result",
          "data": {
            "text/plain": [
              "{'min_samples_split': 8, 'min_samples_leaf': 1, 'max_depth': 6}"
            ]
          },
          "metadata": {},
          "execution_count": 37
        }
      ]
    },
    {
      "cell_type": "code",
      "source": [
        "# Predict\n",
        "y_pred = rnd_search.predict(X_test)\n",
        "# Mean Squared Error\n",
        "print(\"MSE: %.2f\" % mean_squared_error(y_test, y_pred))\n",
        "# Root Mean Squared Error\n",
        "print(\"RMSE: %.2f\" % np.sqrt(mean_squared_error(y_test, y_pred)))\n",
        "# Coeficiente de determinação R2\n",
        "print(\"R2: %.2f\" % r2_score(y_test, y_pred))"
      ],
      "metadata": {
        "colab": {
          "base_uri": "https://localhost:8080/"
        },
        "id": "QEOZ3A83qHPk",
        "outputId": "f38fa523-6649-448f-c289-098e4646af27"
      },
      "execution_count": 38,
      "outputs": [
        {
          "output_type": "stream",
          "name": "stdout",
          "text": [
            "MSE: 28031154134.72\n",
            "RMSE: 167425.07\n",
            "R2: 0.81\n"
          ]
        }
      ]
    },
    {
      "cell_type": "code",
      "source": [
        "nomes_sp = fat_pot_sp['nome']\n",
        "fat_pot_sp.drop(['nome'], axis=1, inplace =True)"
      ],
      "metadata": {
        "id": "A2ohMLYoEZe0"
      },
      "execution_count": 39,
      "outputs": []
    },
    {
      "cell_type": "code",
      "source": [
        "y_pred_DTRot = rnd_search.predict(fat_pot_sp)"
      ],
      "metadata": {
        "id": "fevotQIwM20C"
      },
      "execution_count": 40,
      "outputs": []
    },
    {
      "cell_type": "code",
      "source": [
        "fat_pot_sp['nome'] = nomes_sp"
      ],
      "metadata": {
        "id": "Yi3--tJSFS4l"
      },
      "execution_count": 41,
      "outputs": []
    },
    {
      "cell_type": "markdown",
      "source": [
        "# Escolhendo modelo de classificação"
      ],
      "metadata": {
        "id": "S_d2DpLsfC9w"
      }
    },
    {
      "cell_type": "code",
      "source": [
        "fat_pot_rj_mc = fat_pot_rj.drop(['faturamento', 'nome'], axis=1)"
      ],
      "metadata": {
        "id": "6wCLZ2zQws6E"
      },
      "execution_count": 42,
      "outputs": []
    },
    {
      "cell_type": "code",
      "source": [
        "X = fat_pot_rj_mc.drop(columns = ['potencial']).copy()\n",
        "y = fat_pot_rj_mc['potencial']"
      ],
      "metadata": {
        "id": "LppUgnoMnSej"
      },
      "execution_count": 43,
      "outputs": []
    },
    {
      "cell_type": "code",
      "source": [
        "X_train, X_test, y_train, y_test = train_test_split(X,y, train_size=0.7, random_state = 10)"
      ],
      "metadata": {
        "id": "bbqjfFpenR78"
      },
      "execution_count": 44,
      "outputs": []
    },
    {
      "cell_type": "markdown",
      "source": [
        "Logistic Regression"
      ],
      "metadata": {
        "id": "K1TWZiVPo7F4"
      }
    },
    {
      "cell_type": "code",
      "source": [
        "lgtic = make_pipeline(StandardScaler(), LogisticRegression())\n",
        "lgtic.fit(X_train, y_train)"
      ],
      "metadata": {
        "colab": {
          "base_uri": "https://localhost:8080/"
        },
        "id": "eSa3nWTyo7u1",
        "outputId": "ae2b5409-e40d-4f60-f4f9-ab72f1937ac3"
      },
      "execution_count": 45,
      "outputs": [
        {
          "output_type": "execute_result",
          "data": {
            "text/plain": [
              "Pipeline(steps=[('standardscaler', StandardScaler()),\n",
              "                ('logisticregression', LogisticRegression())])"
            ]
          },
          "metadata": {},
          "execution_count": 45
        }
      ]
    },
    {
      "cell_type": "code",
      "source": [
        "y_pred = lgtic.predict(X_test)"
      ],
      "metadata": {
        "id": "krvDgUgBr36l"
      },
      "execution_count": 46,
      "outputs": []
    },
    {
      "cell_type": "code",
      "source": [
        "print(confusion_matrix(y_test, y_pred))"
      ],
      "metadata": {
        "colab": {
          "base_uri": "https://localhost:8080/"
        },
        "id": "AD_IaxXfr7zL",
        "outputId": "06800bcf-8b65-4171-cbfd-269b1a1dc26f"
      },
      "execution_count": 47,
      "outputs": [
        {
          "output_type": "stream",
          "name": "stdout",
          "text": [
            "[[12  0  0]\n",
            " [ 0 20  1]\n",
            " [ 0  5  9]]\n"
          ]
        }
      ]
    },
    {
      "cell_type": "code",
      "source": [
        "accuracy_score(y_pred,y_test)"
      ],
      "metadata": {
        "colab": {
          "base_uri": "https://localhost:8080/"
        },
        "id": "Cfee-YyKr-_o",
        "outputId": "4a354b0a-e45b-4859-8425-096697d27d21"
      },
      "execution_count": 48,
      "outputs": [
        {
          "output_type": "execute_result",
          "data": {
            "text/plain": [
              "0.8723404255319149"
            ]
          },
          "metadata": {},
          "execution_count": 48
        }
      ]
    },
    {
      "cell_type": "markdown",
      "source": [
        "k-Nearest Neighbors"
      ],
      "metadata": {
        "id": "kCqni64foZ2f"
      }
    },
    {
      "cell_type": "code",
      "source": [
        "neigh = make_pipeline(StandardScaler(), KNeighborsClassifier())\n",
        "neigh.fit(X_train, y_train)"
      ],
      "metadata": {
        "colab": {
          "base_uri": "https://localhost:8080/"
        },
        "id": "ncquvxVKlTf8",
        "outputId": "09be9d08-12d6-47a0-a8cf-2493d6b1f407"
      },
      "execution_count": 49,
      "outputs": [
        {
          "output_type": "execute_result",
          "data": {
            "text/plain": [
              "Pipeline(steps=[('standardscaler', StandardScaler()),\n",
              "                ('kneighborsclassifier', KNeighborsClassifier())])"
            ]
          },
          "metadata": {},
          "execution_count": 49
        }
      ]
    },
    {
      "cell_type": "code",
      "source": [
        "y_pred = neigh.predict(X_test)"
      ],
      "metadata": {
        "id": "dwab5AXwlrKt"
      },
      "execution_count": 50,
      "outputs": []
    },
    {
      "cell_type": "code",
      "source": [
        "print(confusion_matrix(y_test, y_pred))"
      ],
      "metadata": {
        "colab": {
          "base_uri": "https://localhost:8080/"
        },
        "id": "rhjAWS7em1AA",
        "outputId": "98d6cd4b-c843-4664-821a-e70a2ba84d14"
      },
      "execution_count": 51,
      "outputs": [
        {
          "output_type": "stream",
          "name": "stdout",
          "text": [
            "[[10  0  2]\n",
            " [ 0 21  0]\n",
            " [ 0  2 12]]\n"
          ]
        }
      ]
    },
    {
      "cell_type": "code",
      "source": [
        "accuracy_score(y_pred,y_test)"
      ],
      "metadata": {
        "colab": {
          "base_uri": "https://localhost:8080/"
        },
        "id": "0euWTskYqMG1",
        "outputId": "da93accd-1e16-4e91-ed41-6a7a985bfd9f"
      },
      "execution_count": 52,
      "outputs": [
        {
          "output_type": "execute_result",
          "data": {
            "text/plain": [
              "0.9148936170212766"
            ]
          },
          "metadata": {},
          "execution_count": 52
        }
      ]
    },
    {
      "cell_type": "code",
      "source": [
        "nomes_sp = fat_pot_sp['nome']\n",
        "fat_pot_sp.drop(['nome'], axis=1, inplace =True)"
      ],
      "metadata": {
        "id": "6em7kX9qF5-R"
      },
      "execution_count": 53,
      "outputs": []
    },
    {
      "cell_type": "code",
      "source": [
        "y_pred_KNN = neigh.predict(fat_pot_sp)"
      ],
      "metadata": {
        "id": "fRmT7_YWxePZ"
      },
      "execution_count": 54,
      "outputs": []
    },
    {
      "cell_type": "code",
      "source": [
        "fat_pot_sp['nome'] = nomes_sp"
      ],
      "metadata": {
        "id": "EVHZKxmSGECU"
      },
      "execution_count": 55,
      "outputs": []
    },
    {
      "cell_type": "markdown",
      "source": [
        "Support Vector Machines"
      ],
      "metadata": {
        "id": "MuHV1-DDo5P8"
      }
    },
    {
      "cell_type": "code",
      "source": [
        "clf = make_pipeline(StandardScaler(), SVC())\n",
        "clf.fit(X_test, y_test)"
      ],
      "metadata": {
        "colab": {
          "base_uri": "https://localhost:8080/"
        },
        "id": "ZfK6aXQXpBb_",
        "outputId": "3710bb23-af47-4954-ef86-db1ba0902a9d"
      },
      "execution_count": 56,
      "outputs": [
        {
          "output_type": "execute_result",
          "data": {
            "text/plain": [
              "Pipeline(steps=[('standardscaler', StandardScaler()), ('svc', SVC())])"
            ]
          },
          "metadata": {},
          "execution_count": 56
        }
      ]
    },
    {
      "cell_type": "code",
      "source": [
        "y_pred = clf.predict(X_test)"
      ],
      "metadata": {
        "id": "h8OF9oGcq1XM"
      },
      "execution_count": 57,
      "outputs": []
    },
    {
      "cell_type": "code",
      "source": [
        "print(confusion_matrix(y_test, y_pred))"
      ],
      "metadata": {
        "colab": {
          "base_uri": "https://localhost:8080/"
        },
        "id": "EzqfR8TUq-1R",
        "outputId": "b54fd93f-e247-4fbf-b257-7d3776ffdc2f"
      },
      "execution_count": 58,
      "outputs": [
        {
          "output_type": "stream",
          "name": "stdout",
          "text": [
            "[[10  1  1]\n",
            " [ 0 21  0]\n",
            " [ 0  9  5]]\n"
          ]
        }
      ]
    },
    {
      "cell_type": "code",
      "source": [
        "accuracy_score(y_pred,y_test)"
      ],
      "metadata": {
        "colab": {
          "base_uri": "https://localhost:8080/"
        },
        "id": "7qGfM8UNrA0K",
        "outputId": "3f14a70d-df3b-4546-b0da-52d08142530c"
      },
      "execution_count": 59,
      "outputs": [
        {
          "output_type": "execute_result",
          "data": {
            "text/plain": [
              "0.7659574468085106"
            ]
          },
          "metadata": {},
          "execution_count": 59
        }
      ]
    },
    {
      "cell_type": "markdown",
      "source": [
        "# Salvando os aquivos"
      ],
      "metadata": {
        "id": "MzydV6pNJxe2"
      }
    },
    {
      "cell_type": "code",
      "source": [
        "fat_pot_sp['faturamento'] = y_pred_DTRot"
      ],
      "metadata": {
        "id": "I6msVvnML1vR"
      },
      "execution_count": 60,
      "outputs": []
    },
    {
      "cell_type": "code",
      "source": [
        "fat_pot_sp['potencial'] = y_pred_KNN"
      ],
      "metadata": {
        "id": "jQGs4t-SL48X"
      },
      "execution_count": 61,
      "outputs": []
    },
    {
      "cell_type": "code",
      "source": [
        "fat_pot_sp['estado'] = 'SP'\n",
        "fat_pot_rj['estado'] = 'RJ'"
      ],
      "metadata": {
        "id": "Xsm-SpzF-JYg"
      },
      "execution_count": 62,
      "outputs": []
    },
    {
      "cell_type": "code",
      "source": [
        "fat_pot_pred = pd.concat([fat_pot_rj, fat_pot_sp], axis=0)"
      ],
      "metadata": {
        "id": "jR6ozRPnT3Gl"
      },
      "execution_count": 63,
      "outputs": []
    },
    {
      "cell_type": "code",
      "source": [
        "fat_pot_pred.to_excel(\"/content/drive/My Drive/geofusion_data/Previsaodefaturamentoepotencial.xlsx\")"
      ],
      "metadata": {
        "id": "4s4ORgDFTNJl"
      },
      "execution_count": 64,
      "outputs": []
    }
  ]
}